{
  "cells": [
    {
      "cell_type": "markdown",
      "metadata": {
        "id": "view-in-github",
        "colab_type": "text"
      },
      "source": [
        "<a href=\"https://colab.research.google.com/github/guptaaditi123/Fake-News-Detection/blob/main/Fake_News_Detection_and_Classification.ipynb\" target=\"_parent\"><img src=\"https://colab.research.google.com/assets/colab-badge.svg\" alt=\"Open In Colab\"/></a>"
      ]
    },
    {
      "cell_type": "markdown",
      "metadata": {
        "id": "j3VK4y74V9D-"
      },
      "source": [
        "Fake News Detection and Classification Code"
      ]
    },
    {
      "cell_type": "code",
      "execution_count": null,
      "metadata": {
        "id": "--kuUpQKVPFb"
      },
      "outputs": [],
      "source": [
        "import numpy as np\n",
        "import pandas as pd\n",
        "import matplotlib.pyplot as plt\n",
        "import re #regular expression for searching words\n",
        "from nltk.corpus import stopwords\n",
        "from sklearn.feature_extraction.text import TfidfVectorizer\n",
        "from sklearn.feature_selection import SelectKBest, chi2\n",
        "from sklearn.model_selection import train_test_split\n",
        "from sklearn.tree import DecisionTreeClassifier#importing Decision Tree library\n",
        "from sklearn.ensemble import RandomForestClassifier #importing Random Forest library\n",
        "import seaborn as sns\n",
        "from sklearn.metrics import accuracy_score,confusion_matrix,classification_report,matthews_corrcoef\n",
        "from sklearn.utils import shuffle\n",
        "import nltk #Natural language processing\n",
        "from sklearn.naive_bayes import MultinomialNB #naive bayes\n",
        "from sklearn.svm import SVC #importing svm library\n",
        "from sklearn.neighbors import KNeighborsClassifier #importing knn library\n",
        "import string\n",
        "import math\n",
        "from sklearn import metrics\n",
        "from sklearn.model_selection import KFold\n",
        "from sklearn.ensemble import VotingClassifier\n",
        "from sklearn.model_selection import cross_val_score"
      ]
    },
    {
      "cell_type": "markdown",
      "metadata": {
        "id": "bpCbuypIWGni"
      },
      "source": [
        "Data Pre-processing"
      ]
    },
    {
      "cell_type": "code",
      "execution_count": null,
      "metadata": {
        "id": "-jGFTncbWKPJ"
      },
      "outputs": [],
      "source": [
        "#Uploading data\n",
        "true = pd.read_csv('True.csv')\n",
        "fake = pd.read_csv('Fake.csv')"
      ]
    },
    {
      "cell_type": "code",
      "execution_count": null,
      "metadata": {
        "colab": {
          "base_uri": "https://localhost:8080/",
          "height": 250
        },
        "id": "QUhM-xThW9Sd",
        "outputId": "a2cc28c4-2bf2-4ae0-9f08-466e2b28e0ff"
      },
      "outputs": [
        {
          "output_type": "execute_result",
          "data": {
            "text/plain": [
              "                                               title  \\\n",
              "0  As U.S. budget fight looms, Republicans flip t...   \n",
              "1  U.S. military to accept transgender recruits o...   \n",
              "2  Senior U.S. Republican senator: 'Let Mr. Muell...   \n",
              "3  FBI Russia probe helped by Australian diplomat...   \n",
              "4  Trump wants Postal Service to charge 'much mor...   \n",
              "\n",
              "                                                text       subject  \\\n",
              "0  WASHINGTON (Reuters) - The head of a conservat...  politicsNews   \n",
              "1  WASHINGTON (Reuters) - Transgender people will...  politicsNews   \n",
              "2  WASHINGTON (Reuters) - The special counsel inv...  politicsNews   \n",
              "3  WASHINGTON (Reuters) - Trump campaign adviser ...  politicsNews   \n",
              "4  SEATTLE/WASHINGTON (Reuters) - President Donal...  politicsNews   \n",
              "\n",
              "                 date  \n",
              "0  December 31, 2017   \n",
              "1  December 29, 2017   \n",
              "2  December 31, 2017   \n",
              "3  December 30, 2017   \n",
              "4  December 29, 2017   "
            ],
            "text/html": [
              "\n",
              "  <div id=\"df-d6b20c6d-6418-41e3-bc5c-0f9f67d7fe19\">\n",
              "    <div class=\"colab-df-container\">\n",
              "      <div>\n",
              "<style scoped>\n",
              "    .dataframe tbody tr th:only-of-type {\n",
              "        vertical-align: middle;\n",
              "    }\n",
              "\n",
              "    .dataframe tbody tr th {\n",
              "        vertical-align: top;\n",
              "    }\n",
              "\n",
              "    .dataframe thead th {\n",
              "        text-align: right;\n",
              "    }\n",
              "</style>\n",
              "<table border=\"1\" class=\"dataframe\">\n",
              "  <thead>\n",
              "    <tr style=\"text-align: right;\">\n",
              "      <th></th>\n",
              "      <th>title</th>\n",
              "      <th>text</th>\n",
              "      <th>subject</th>\n",
              "      <th>date</th>\n",
              "    </tr>\n",
              "  </thead>\n",
              "  <tbody>\n",
              "    <tr>\n",
              "      <th>0</th>\n",
              "      <td>As U.S. budget fight looms, Republicans flip t...</td>\n",
              "      <td>WASHINGTON (Reuters) - The head of a conservat...</td>\n",
              "      <td>politicsNews</td>\n",
              "      <td>December 31, 2017</td>\n",
              "    </tr>\n",
              "    <tr>\n",
              "      <th>1</th>\n",
              "      <td>U.S. military to accept transgender recruits o...</td>\n",
              "      <td>WASHINGTON (Reuters) - Transgender people will...</td>\n",
              "      <td>politicsNews</td>\n",
              "      <td>December 29, 2017</td>\n",
              "    </tr>\n",
              "    <tr>\n",
              "      <th>2</th>\n",
              "      <td>Senior U.S. Republican senator: 'Let Mr. Muell...</td>\n",
              "      <td>WASHINGTON (Reuters) - The special counsel inv...</td>\n",
              "      <td>politicsNews</td>\n",
              "      <td>December 31, 2017</td>\n",
              "    </tr>\n",
              "    <tr>\n",
              "      <th>3</th>\n",
              "      <td>FBI Russia probe helped by Australian diplomat...</td>\n",
              "      <td>WASHINGTON (Reuters) - Trump campaign adviser ...</td>\n",
              "      <td>politicsNews</td>\n",
              "      <td>December 30, 2017</td>\n",
              "    </tr>\n",
              "    <tr>\n",
              "      <th>4</th>\n",
              "      <td>Trump wants Postal Service to charge 'much mor...</td>\n",
              "      <td>SEATTLE/WASHINGTON (Reuters) - President Donal...</td>\n",
              "      <td>politicsNews</td>\n",
              "      <td>December 29, 2017</td>\n",
              "    </tr>\n",
              "  </tbody>\n",
              "</table>\n",
              "</div>\n",
              "      <button class=\"colab-df-convert\" onclick=\"convertToInteractive('df-d6b20c6d-6418-41e3-bc5c-0f9f67d7fe19')\"\n",
              "              title=\"Convert this dataframe to an interactive table.\"\n",
              "              style=\"display:none;\">\n",
              "        \n",
              "  <svg xmlns=\"http://www.w3.org/2000/svg\" height=\"24px\"viewBox=\"0 0 24 24\"\n",
              "       width=\"24px\">\n",
              "    <path d=\"M0 0h24v24H0V0z\" fill=\"none\"/>\n",
              "    <path d=\"M18.56 5.44l.94 2.06.94-2.06 2.06-.94-2.06-.94-.94-2.06-.94 2.06-2.06.94zm-11 1L8.5 8.5l.94-2.06 2.06-.94-2.06-.94L8.5 2.5l-.94 2.06-2.06.94zm10 10l.94 2.06.94-2.06 2.06-.94-2.06-.94-.94-2.06-.94 2.06-2.06.94z\"/><path d=\"M17.41 7.96l-1.37-1.37c-.4-.4-.92-.59-1.43-.59-.52 0-1.04.2-1.43.59L10.3 9.45l-7.72 7.72c-.78.78-.78 2.05 0 2.83L4 21.41c.39.39.9.59 1.41.59.51 0 1.02-.2 1.41-.59l7.78-7.78 2.81-2.81c.8-.78.8-2.07 0-2.86zM5.41 20L4 18.59l7.72-7.72 1.47 1.35L5.41 20z\"/>\n",
              "  </svg>\n",
              "      </button>\n",
              "      \n",
              "  <style>\n",
              "    .colab-df-container {\n",
              "      display:flex;\n",
              "      flex-wrap:wrap;\n",
              "      gap: 12px;\n",
              "    }\n",
              "\n",
              "    .colab-df-convert {\n",
              "      background-color: #E8F0FE;\n",
              "      border: none;\n",
              "      border-radius: 50%;\n",
              "      cursor: pointer;\n",
              "      display: none;\n",
              "      fill: #1967D2;\n",
              "      height: 32px;\n",
              "      padding: 0 0 0 0;\n",
              "      width: 32px;\n",
              "    }\n",
              "\n",
              "    .colab-df-convert:hover {\n",
              "      background-color: #E2EBFA;\n",
              "      box-shadow: 0px 1px 2px rgba(60, 64, 67, 0.3), 0px 1px 3px 1px rgba(60, 64, 67, 0.15);\n",
              "      fill: #174EA6;\n",
              "    }\n",
              "\n",
              "    [theme=dark] .colab-df-convert {\n",
              "      background-color: #3B4455;\n",
              "      fill: #D2E3FC;\n",
              "    }\n",
              "\n",
              "    [theme=dark] .colab-df-convert:hover {\n",
              "      background-color: #434B5C;\n",
              "      box-shadow: 0px 1px 3px 1px rgba(0, 0, 0, 0.15);\n",
              "      filter: drop-shadow(0px 1px 2px rgba(0, 0, 0, 0.3));\n",
              "      fill: #FFFFFF;\n",
              "    }\n",
              "  </style>\n",
              "\n",
              "      <script>\n",
              "        const buttonEl =\n",
              "          document.querySelector('#df-d6b20c6d-6418-41e3-bc5c-0f9f67d7fe19 button.colab-df-convert');\n",
              "        buttonEl.style.display =\n",
              "          google.colab.kernel.accessAllowed ? 'block' : 'none';\n",
              "\n",
              "        async function convertToInteractive(key) {\n",
              "          const element = document.querySelector('#df-d6b20c6d-6418-41e3-bc5c-0f9f67d7fe19');\n",
              "          const dataTable =\n",
              "            await google.colab.kernel.invokeFunction('convertToInteractive',\n",
              "                                                     [key], {});\n",
              "          if (!dataTable) return;\n",
              "\n",
              "          const docLinkHtml = 'Like what you see? Visit the ' +\n",
              "            '<a target=\"_blank\" href=https://colab.research.google.com/notebooks/data_table.ipynb>data table notebook</a>'\n",
              "            + ' to learn more about interactive tables.';\n",
              "          element.innerHTML = '';\n",
              "          dataTable['output_type'] = 'display_data';\n",
              "          await google.colab.output.renderOutput(dataTable, element);\n",
              "          const docLink = document.createElement('div');\n",
              "          docLink.innerHTML = docLinkHtml;\n",
              "          element.appendChild(docLink);\n",
              "        }\n",
              "      </script>\n",
              "    </div>\n",
              "  </div>\n",
              "  "
            ]
          },
          "metadata": {},
          "execution_count": 4
        }
      ],
      "source": [
        "# Printing first 5 rows\n",
        "true.head()"
      ]
    },
    {
      "cell_type": "code",
      "execution_count": null,
      "metadata": {
        "colab": {
          "base_uri": "https://localhost:8080/",
          "height": 206
        },
        "id": "M2CW--MBXBf_",
        "outputId": "7e6c490a-5c07-43fe-f1b2-c9886af3c07a"
      },
      "outputs": [
        {
          "output_type": "execute_result",
          "data": {
            "text/plain": [
              "                                               title  \\\n",
              "0   Donald Trump Sends Out Embarrassing New Year’...   \n",
              "1   Drunk Bragging Trump Staffer Started Russian ...   \n",
              "2   Sheriff David Clarke Becomes An Internet Joke...   \n",
              "3   Trump Is So Obsessed He Even Has Obama’s Name...   \n",
              "4   Pope Francis Just Called Out Donald Trump Dur...   \n",
              "\n",
              "                                                text subject  \\\n",
              "0  Donald Trump just couldn t wish all Americans ...    News   \n",
              "1  House Intelligence Committee Chairman Devin Nu...    News   \n",
              "2  On Friday, it was revealed that former Milwauk...    News   \n",
              "3  On Christmas day, Donald Trump announced that ...    News   \n",
              "4  Pope Francis used his annual Christmas Day mes...    News   \n",
              "\n",
              "                date  \n",
              "0  December 31, 2017  \n",
              "1  December 31, 2017  \n",
              "2  December 30, 2017  \n",
              "3  December 29, 2017  \n",
              "4  December 25, 2017  "
            ],
            "text/html": [
              "\n",
              "  <div id=\"df-3da5ac60-beaf-42fa-bf61-4bb00b0ca98e\">\n",
              "    <div class=\"colab-df-container\">\n",
              "      <div>\n",
              "<style scoped>\n",
              "    .dataframe tbody tr th:only-of-type {\n",
              "        vertical-align: middle;\n",
              "    }\n",
              "\n",
              "    .dataframe tbody tr th {\n",
              "        vertical-align: top;\n",
              "    }\n",
              "\n",
              "    .dataframe thead th {\n",
              "        text-align: right;\n",
              "    }\n",
              "</style>\n",
              "<table border=\"1\" class=\"dataframe\">\n",
              "  <thead>\n",
              "    <tr style=\"text-align: right;\">\n",
              "      <th></th>\n",
              "      <th>title</th>\n",
              "      <th>text</th>\n",
              "      <th>subject</th>\n",
              "      <th>date</th>\n",
              "    </tr>\n",
              "  </thead>\n",
              "  <tbody>\n",
              "    <tr>\n",
              "      <th>0</th>\n",
              "      <td>Donald Trump Sends Out Embarrassing New Year’...</td>\n",
              "      <td>Donald Trump just couldn t wish all Americans ...</td>\n",
              "      <td>News</td>\n",
              "      <td>December 31, 2017</td>\n",
              "    </tr>\n",
              "    <tr>\n",
              "      <th>1</th>\n",
              "      <td>Drunk Bragging Trump Staffer Started Russian ...</td>\n",
              "      <td>House Intelligence Committee Chairman Devin Nu...</td>\n",
              "      <td>News</td>\n",
              "      <td>December 31, 2017</td>\n",
              "    </tr>\n",
              "    <tr>\n",
              "      <th>2</th>\n",
              "      <td>Sheriff David Clarke Becomes An Internet Joke...</td>\n",
              "      <td>On Friday, it was revealed that former Milwauk...</td>\n",
              "      <td>News</td>\n",
              "      <td>December 30, 2017</td>\n",
              "    </tr>\n",
              "    <tr>\n",
              "      <th>3</th>\n",
              "      <td>Trump Is So Obsessed He Even Has Obama’s Name...</td>\n",
              "      <td>On Christmas day, Donald Trump announced that ...</td>\n",
              "      <td>News</td>\n",
              "      <td>December 29, 2017</td>\n",
              "    </tr>\n",
              "    <tr>\n",
              "      <th>4</th>\n",
              "      <td>Pope Francis Just Called Out Donald Trump Dur...</td>\n",
              "      <td>Pope Francis used his annual Christmas Day mes...</td>\n",
              "      <td>News</td>\n",
              "      <td>December 25, 2017</td>\n",
              "    </tr>\n",
              "  </tbody>\n",
              "</table>\n",
              "</div>\n",
              "      <button class=\"colab-df-convert\" onclick=\"convertToInteractive('df-3da5ac60-beaf-42fa-bf61-4bb00b0ca98e')\"\n",
              "              title=\"Convert this dataframe to an interactive table.\"\n",
              "              style=\"display:none;\">\n",
              "        \n",
              "  <svg xmlns=\"http://www.w3.org/2000/svg\" height=\"24px\"viewBox=\"0 0 24 24\"\n",
              "       width=\"24px\">\n",
              "    <path d=\"M0 0h24v24H0V0z\" fill=\"none\"/>\n",
              "    <path d=\"M18.56 5.44l.94 2.06.94-2.06 2.06-.94-2.06-.94-.94-2.06-.94 2.06-2.06.94zm-11 1L8.5 8.5l.94-2.06 2.06-.94-2.06-.94L8.5 2.5l-.94 2.06-2.06.94zm10 10l.94 2.06.94-2.06 2.06-.94-2.06-.94-.94-2.06-.94 2.06-2.06.94z\"/><path d=\"M17.41 7.96l-1.37-1.37c-.4-.4-.92-.59-1.43-.59-.52 0-1.04.2-1.43.59L10.3 9.45l-7.72 7.72c-.78.78-.78 2.05 0 2.83L4 21.41c.39.39.9.59 1.41.59.51 0 1.02-.2 1.41-.59l7.78-7.78 2.81-2.81c.8-.78.8-2.07 0-2.86zM5.41 20L4 18.59l7.72-7.72 1.47 1.35L5.41 20z\"/>\n",
              "  </svg>\n",
              "      </button>\n",
              "      \n",
              "  <style>\n",
              "    .colab-df-container {\n",
              "      display:flex;\n",
              "      flex-wrap:wrap;\n",
              "      gap: 12px;\n",
              "    }\n",
              "\n",
              "    .colab-df-convert {\n",
              "      background-color: #E8F0FE;\n",
              "      border: none;\n",
              "      border-radius: 50%;\n",
              "      cursor: pointer;\n",
              "      display: none;\n",
              "      fill: #1967D2;\n",
              "      height: 32px;\n",
              "      padding: 0 0 0 0;\n",
              "      width: 32px;\n",
              "    }\n",
              "\n",
              "    .colab-df-convert:hover {\n",
              "      background-color: #E2EBFA;\n",
              "      box-shadow: 0px 1px 2px rgba(60, 64, 67, 0.3), 0px 1px 3px 1px rgba(60, 64, 67, 0.15);\n",
              "      fill: #174EA6;\n",
              "    }\n",
              "\n",
              "    [theme=dark] .colab-df-convert {\n",
              "      background-color: #3B4455;\n",
              "      fill: #D2E3FC;\n",
              "    }\n",
              "\n",
              "    [theme=dark] .colab-df-convert:hover {\n",
              "      background-color: #434B5C;\n",
              "      box-shadow: 0px 1px 3px 1px rgba(0, 0, 0, 0.15);\n",
              "      filter: drop-shadow(0px 1px 2px rgba(0, 0, 0, 0.3));\n",
              "      fill: #FFFFFF;\n",
              "    }\n",
              "  </style>\n",
              "\n",
              "      <script>\n",
              "        const buttonEl =\n",
              "          document.querySelector('#df-3da5ac60-beaf-42fa-bf61-4bb00b0ca98e button.colab-df-convert');\n",
              "        buttonEl.style.display =\n",
              "          google.colab.kernel.accessAllowed ? 'block' : 'none';\n",
              "\n",
              "        async function convertToInteractive(key) {\n",
              "          const element = document.querySelector('#df-3da5ac60-beaf-42fa-bf61-4bb00b0ca98e');\n",
              "          const dataTable =\n",
              "            await google.colab.kernel.invokeFunction('convertToInteractive',\n",
              "                                                     [key], {});\n",
              "          if (!dataTable) return;\n",
              "\n",
              "          const docLinkHtml = 'Like what you see? Visit the ' +\n",
              "            '<a target=\"_blank\" href=https://colab.research.google.com/notebooks/data_table.ipynb>data table notebook</a>'\n",
              "            + ' to learn more about interactive tables.';\n",
              "          element.innerHTML = '';\n",
              "          dataTable['output_type'] = 'display_data';\n",
              "          await google.colab.output.renderOutput(dataTable, element);\n",
              "          const docLink = document.createElement('div');\n",
              "          docLink.innerHTML = docLinkHtml;\n",
              "          element.appendChild(docLink);\n",
              "        }\n",
              "      </script>\n",
              "    </div>\n",
              "  </div>\n",
              "  "
            ]
          },
          "metadata": {},
          "execution_count": 5
        }
      ],
      "source": [
        "# Printing first 5 rows\n",
        "fake.head()"
      ]
    },
    {
      "cell_type": "code",
      "execution_count": null,
      "metadata": {
        "colab": {
          "base_uri": "https://localhost:8080/",
          "height": 206
        },
        "id": "ykC882RDXFjX",
        "outputId": "684827a2-b0ef-486d-89dc-3ef6eda007dc"
      },
      "outputs": [
        {
          "output_type": "execute_result",
          "data": {
            "text/plain": [
              "                                                   title  \\\n",
              "21412  'Fully committed' NATO backs new U.S. approach...   \n",
              "21413  LexisNexis withdrew two products from Chinese ...   \n",
              "21414  Minsk cultural hub becomes haven from authorities   \n",
              "21415  Vatican upbeat on possibility of Pope Francis ...   \n",
              "21416  Indonesia to buy $1.14 billion worth of Russia...   \n",
              "\n",
              "                                                    text    subject  \\\n",
              "21412  BRUSSELS (Reuters) - NATO allies on Tuesday we...  worldnews   \n",
              "21413  LONDON (Reuters) - LexisNexis, a provider of l...  worldnews   \n",
              "21414  MINSK (Reuters) - In the shadow of disused Sov...  worldnews   \n",
              "21415  MOSCOW (Reuters) - Vatican Secretary of State ...  worldnews   \n",
              "21416  JAKARTA (Reuters) - Indonesia will buy 11 Sukh...  worldnews   \n",
              "\n",
              "                   date  \n",
              "21412  August 22, 2017   \n",
              "21413  August 22, 2017   \n",
              "21414  August 22, 2017   \n",
              "21415  August 22, 2017   \n",
              "21416  August 22, 2017   "
            ],
            "text/html": [
              "\n",
              "  <div id=\"df-1af9560c-ccef-4e1d-a752-2159c4cb5067\">\n",
              "    <div class=\"colab-df-container\">\n",
              "      <div>\n",
              "<style scoped>\n",
              "    .dataframe tbody tr th:only-of-type {\n",
              "        vertical-align: middle;\n",
              "    }\n",
              "\n",
              "    .dataframe tbody tr th {\n",
              "        vertical-align: top;\n",
              "    }\n",
              "\n",
              "    .dataframe thead th {\n",
              "        text-align: right;\n",
              "    }\n",
              "</style>\n",
              "<table border=\"1\" class=\"dataframe\">\n",
              "  <thead>\n",
              "    <tr style=\"text-align: right;\">\n",
              "      <th></th>\n",
              "      <th>title</th>\n",
              "      <th>text</th>\n",
              "      <th>subject</th>\n",
              "      <th>date</th>\n",
              "    </tr>\n",
              "  </thead>\n",
              "  <tbody>\n",
              "    <tr>\n",
              "      <th>21412</th>\n",
              "      <td>'Fully committed' NATO backs new U.S. approach...</td>\n",
              "      <td>BRUSSELS (Reuters) - NATO allies on Tuesday we...</td>\n",
              "      <td>worldnews</td>\n",
              "      <td>August 22, 2017</td>\n",
              "    </tr>\n",
              "    <tr>\n",
              "      <th>21413</th>\n",
              "      <td>LexisNexis withdrew two products from Chinese ...</td>\n",
              "      <td>LONDON (Reuters) - LexisNexis, a provider of l...</td>\n",
              "      <td>worldnews</td>\n",
              "      <td>August 22, 2017</td>\n",
              "    </tr>\n",
              "    <tr>\n",
              "      <th>21414</th>\n",
              "      <td>Minsk cultural hub becomes haven from authorities</td>\n",
              "      <td>MINSK (Reuters) - In the shadow of disused Sov...</td>\n",
              "      <td>worldnews</td>\n",
              "      <td>August 22, 2017</td>\n",
              "    </tr>\n",
              "    <tr>\n",
              "      <th>21415</th>\n",
              "      <td>Vatican upbeat on possibility of Pope Francis ...</td>\n",
              "      <td>MOSCOW (Reuters) - Vatican Secretary of State ...</td>\n",
              "      <td>worldnews</td>\n",
              "      <td>August 22, 2017</td>\n",
              "    </tr>\n",
              "    <tr>\n",
              "      <th>21416</th>\n",
              "      <td>Indonesia to buy $1.14 billion worth of Russia...</td>\n",
              "      <td>JAKARTA (Reuters) - Indonesia will buy 11 Sukh...</td>\n",
              "      <td>worldnews</td>\n",
              "      <td>August 22, 2017</td>\n",
              "    </tr>\n",
              "  </tbody>\n",
              "</table>\n",
              "</div>\n",
              "      <button class=\"colab-df-convert\" onclick=\"convertToInteractive('df-1af9560c-ccef-4e1d-a752-2159c4cb5067')\"\n",
              "              title=\"Convert this dataframe to an interactive table.\"\n",
              "              style=\"display:none;\">\n",
              "        \n",
              "  <svg xmlns=\"http://www.w3.org/2000/svg\" height=\"24px\"viewBox=\"0 0 24 24\"\n",
              "       width=\"24px\">\n",
              "    <path d=\"M0 0h24v24H0V0z\" fill=\"none\"/>\n",
              "    <path d=\"M18.56 5.44l.94 2.06.94-2.06 2.06-.94-2.06-.94-.94-2.06-.94 2.06-2.06.94zm-11 1L8.5 8.5l.94-2.06 2.06-.94-2.06-.94L8.5 2.5l-.94 2.06-2.06.94zm10 10l.94 2.06.94-2.06 2.06-.94-2.06-.94-.94-2.06-.94 2.06-2.06.94z\"/><path d=\"M17.41 7.96l-1.37-1.37c-.4-.4-.92-.59-1.43-.59-.52 0-1.04.2-1.43.59L10.3 9.45l-7.72 7.72c-.78.78-.78 2.05 0 2.83L4 21.41c.39.39.9.59 1.41.59.51 0 1.02-.2 1.41-.59l7.78-7.78 2.81-2.81c.8-.78.8-2.07 0-2.86zM5.41 20L4 18.59l7.72-7.72 1.47 1.35L5.41 20z\"/>\n",
              "  </svg>\n",
              "      </button>\n",
              "      \n",
              "  <style>\n",
              "    .colab-df-container {\n",
              "      display:flex;\n",
              "      flex-wrap:wrap;\n",
              "      gap: 12px;\n",
              "    }\n",
              "\n",
              "    .colab-df-convert {\n",
              "      background-color: #E8F0FE;\n",
              "      border: none;\n",
              "      border-radius: 50%;\n",
              "      cursor: pointer;\n",
              "      display: none;\n",
              "      fill: #1967D2;\n",
              "      height: 32px;\n",
              "      padding: 0 0 0 0;\n",
              "      width: 32px;\n",
              "    }\n",
              "\n",
              "    .colab-df-convert:hover {\n",
              "      background-color: #E2EBFA;\n",
              "      box-shadow: 0px 1px 2px rgba(60, 64, 67, 0.3), 0px 1px 3px 1px rgba(60, 64, 67, 0.15);\n",
              "      fill: #174EA6;\n",
              "    }\n",
              "\n",
              "    [theme=dark] .colab-df-convert {\n",
              "      background-color: #3B4455;\n",
              "      fill: #D2E3FC;\n",
              "    }\n",
              "\n",
              "    [theme=dark] .colab-df-convert:hover {\n",
              "      background-color: #434B5C;\n",
              "      box-shadow: 0px 1px 3px 1px rgba(0, 0, 0, 0.15);\n",
              "      filter: drop-shadow(0px 1px 2px rgba(0, 0, 0, 0.3));\n",
              "      fill: #FFFFFF;\n",
              "    }\n",
              "  </style>\n",
              "\n",
              "      <script>\n",
              "        const buttonEl =\n",
              "          document.querySelector('#df-1af9560c-ccef-4e1d-a752-2159c4cb5067 button.colab-df-convert');\n",
              "        buttonEl.style.display =\n",
              "          google.colab.kernel.accessAllowed ? 'block' : 'none';\n",
              "\n",
              "        async function convertToInteractive(key) {\n",
              "          const element = document.querySelector('#df-1af9560c-ccef-4e1d-a752-2159c4cb5067');\n",
              "          const dataTable =\n",
              "            await google.colab.kernel.invokeFunction('convertToInteractive',\n",
              "                                                     [key], {});\n",
              "          if (!dataTable) return;\n",
              "\n",
              "          const docLinkHtml = 'Like what you see? Visit the ' +\n",
              "            '<a target=\"_blank\" href=https://colab.research.google.com/notebooks/data_table.ipynb>data table notebook</a>'\n",
              "            + ' to learn more about interactive tables.';\n",
              "          element.innerHTML = '';\n",
              "          dataTable['output_type'] = 'display_data';\n",
              "          await google.colab.output.renderOutput(dataTable, element);\n",
              "          const docLink = document.createElement('div');\n",
              "          docLink.innerHTML = docLinkHtml;\n",
              "          element.appendChild(docLink);\n",
              "        }\n",
              "      </script>\n",
              "    </div>\n",
              "  </div>\n",
              "  "
            ]
          },
          "metadata": {},
          "execution_count": 6
        }
      ],
      "source": [
        "#Printing last 5 row\n",
        "true.tail()"
      ]
    },
    {
      "cell_type": "code",
      "execution_count": null,
      "metadata": {
        "colab": {
          "base_uri": "https://localhost:8080/",
          "height": 250
        },
        "id": "IAKjJRTCXPQi",
        "outputId": "6e2d5b38-b505-4e83-8dd4-8be7e23e84ee"
      },
      "outputs": [
        {
          "output_type": "execute_result",
          "data": {
            "text/plain": [
              "                                                   title  \\\n",
              "23476  McPain: John McCain Furious That Iran Treated ...   \n",
              "23477  JUSTICE? Yahoo Settles E-mail Privacy Class-ac...   \n",
              "23478  Sunnistan: US and Allied ‘Safe Zone’ Plan to T...   \n",
              "23479  How to Blow $700 Million: Al Jazeera America F...   \n",
              "23480  10 U.S. Navy Sailors Held by Iranian Military ...   \n",
              "\n",
              "                                                    text      subject  \\\n",
              "23476  21st Century Wire says As 21WIRE reported earl...  Middle-east   \n",
              "23477  21st Century Wire says It s a familiar theme. ...  Middle-east   \n",
              "23478  Patrick Henningsen  21st Century WireRemember ...  Middle-east   \n",
              "23479  21st Century Wire says Al Jazeera America will...  Middle-east   \n",
              "23480  21st Century Wire says As 21WIRE predicted in ...  Middle-east   \n",
              "\n",
              "                   date  \n",
              "23476  January 16, 2016  \n",
              "23477  January 16, 2016  \n",
              "23478  January 15, 2016  \n",
              "23479  January 14, 2016  \n",
              "23480  January 12, 2016  "
            ],
            "text/html": [
              "\n",
              "  <div id=\"df-72ea0c1f-23fd-4733-a7c1-deb718899552\">\n",
              "    <div class=\"colab-df-container\">\n",
              "      <div>\n",
              "<style scoped>\n",
              "    .dataframe tbody tr th:only-of-type {\n",
              "        vertical-align: middle;\n",
              "    }\n",
              "\n",
              "    .dataframe tbody tr th {\n",
              "        vertical-align: top;\n",
              "    }\n",
              "\n",
              "    .dataframe thead th {\n",
              "        text-align: right;\n",
              "    }\n",
              "</style>\n",
              "<table border=\"1\" class=\"dataframe\">\n",
              "  <thead>\n",
              "    <tr style=\"text-align: right;\">\n",
              "      <th></th>\n",
              "      <th>title</th>\n",
              "      <th>text</th>\n",
              "      <th>subject</th>\n",
              "      <th>date</th>\n",
              "    </tr>\n",
              "  </thead>\n",
              "  <tbody>\n",
              "    <tr>\n",
              "      <th>23476</th>\n",
              "      <td>McPain: John McCain Furious That Iran Treated ...</td>\n",
              "      <td>21st Century Wire says As 21WIRE reported earl...</td>\n",
              "      <td>Middle-east</td>\n",
              "      <td>January 16, 2016</td>\n",
              "    </tr>\n",
              "    <tr>\n",
              "      <th>23477</th>\n",
              "      <td>JUSTICE? Yahoo Settles E-mail Privacy Class-ac...</td>\n",
              "      <td>21st Century Wire says It s a familiar theme. ...</td>\n",
              "      <td>Middle-east</td>\n",
              "      <td>January 16, 2016</td>\n",
              "    </tr>\n",
              "    <tr>\n",
              "      <th>23478</th>\n",
              "      <td>Sunnistan: US and Allied ‘Safe Zone’ Plan to T...</td>\n",
              "      <td>Patrick Henningsen  21st Century WireRemember ...</td>\n",
              "      <td>Middle-east</td>\n",
              "      <td>January 15, 2016</td>\n",
              "    </tr>\n",
              "    <tr>\n",
              "      <th>23479</th>\n",
              "      <td>How to Blow $700 Million: Al Jazeera America F...</td>\n",
              "      <td>21st Century Wire says Al Jazeera America will...</td>\n",
              "      <td>Middle-east</td>\n",
              "      <td>January 14, 2016</td>\n",
              "    </tr>\n",
              "    <tr>\n",
              "      <th>23480</th>\n",
              "      <td>10 U.S. Navy Sailors Held by Iranian Military ...</td>\n",
              "      <td>21st Century Wire says As 21WIRE predicted in ...</td>\n",
              "      <td>Middle-east</td>\n",
              "      <td>January 12, 2016</td>\n",
              "    </tr>\n",
              "  </tbody>\n",
              "</table>\n",
              "</div>\n",
              "      <button class=\"colab-df-convert\" onclick=\"convertToInteractive('df-72ea0c1f-23fd-4733-a7c1-deb718899552')\"\n",
              "              title=\"Convert this dataframe to an interactive table.\"\n",
              "              style=\"display:none;\">\n",
              "        \n",
              "  <svg xmlns=\"http://www.w3.org/2000/svg\" height=\"24px\"viewBox=\"0 0 24 24\"\n",
              "       width=\"24px\">\n",
              "    <path d=\"M0 0h24v24H0V0z\" fill=\"none\"/>\n",
              "    <path d=\"M18.56 5.44l.94 2.06.94-2.06 2.06-.94-2.06-.94-.94-2.06-.94 2.06-2.06.94zm-11 1L8.5 8.5l.94-2.06 2.06-.94-2.06-.94L8.5 2.5l-.94 2.06-2.06.94zm10 10l.94 2.06.94-2.06 2.06-.94-2.06-.94-.94-2.06-.94 2.06-2.06.94z\"/><path d=\"M17.41 7.96l-1.37-1.37c-.4-.4-.92-.59-1.43-.59-.52 0-1.04.2-1.43.59L10.3 9.45l-7.72 7.72c-.78.78-.78 2.05 0 2.83L4 21.41c.39.39.9.59 1.41.59.51 0 1.02-.2 1.41-.59l7.78-7.78 2.81-2.81c.8-.78.8-2.07 0-2.86zM5.41 20L4 18.59l7.72-7.72 1.47 1.35L5.41 20z\"/>\n",
              "  </svg>\n",
              "      </button>\n",
              "      \n",
              "  <style>\n",
              "    .colab-df-container {\n",
              "      display:flex;\n",
              "      flex-wrap:wrap;\n",
              "      gap: 12px;\n",
              "    }\n",
              "\n",
              "    .colab-df-convert {\n",
              "      background-color: #E8F0FE;\n",
              "      border: none;\n",
              "      border-radius: 50%;\n",
              "      cursor: pointer;\n",
              "      display: none;\n",
              "      fill: #1967D2;\n",
              "      height: 32px;\n",
              "      padding: 0 0 0 0;\n",
              "      width: 32px;\n",
              "    }\n",
              "\n",
              "    .colab-df-convert:hover {\n",
              "      background-color: #E2EBFA;\n",
              "      box-shadow: 0px 1px 2px rgba(60, 64, 67, 0.3), 0px 1px 3px 1px rgba(60, 64, 67, 0.15);\n",
              "      fill: #174EA6;\n",
              "    }\n",
              "\n",
              "    [theme=dark] .colab-df-convert {\n",
              "      background-color: #3B4455;\n",
              "      fill: #D2E3FC;\n",
              "    }\n",
              "\n",
              "    [theme=dark] .colab-df-convert:hover {\n",
              "      background-color: #434B5C;\n",
              "      box-shadow: 0px 1px 3px 1px rgba(0, 0, 0, 0.15);\n",
              "      filter: drop-shadow(0px 1px 2px rgba(0, 0, 0, 0.3));\n",
              "      fill: #FFFFFF;\n",
              "    }\n",
              "  </style>\n",
              "\n",
              "      <script>\n",
              "        const buttonEl =\n",
              "          document.querySelector('#df-72ea0c1f-23fd-4733-a7c1-deb718899552 button.colab-df-convert');\n",
              "        buttonEl.style.display =\n",
              "          google.colab.kernel.accessAllowed ? 'block' : 'none';\n",
              "\n",
              "        async function convertToInteractive(key) {\n",
              "          const element = document.querySelector('#df-72ea0c1f-23fd-4733-a7c1-deb718899552');\n",
              "          const dataTable =\n",
              "            await google.colab.kernel.invokeFunction('convertToInteractive',\n",
              "                                                     [key], {});\n",
              "          if (!dataTable) return;\n",
              "\n",
              "          const docLinkHtml = 'Like what you see? Visit the ' +\n",
              "            '<a target=\"_blank\" href=https://colab.research.google.com/notebooks/data_table.ipynb>data table notebook</a>'\n",
              "            + ' to learn more about interactive tables.';\n",
              "          element.innerHTML = '';\n",
              "          dataTable['output_type'] = 'display_data';\n",
              "          await google.colab.output.renderOutput(dataTable, element);\n",
              "          const docLink = document.createElement('div');\n",
              "          docLink.innerHTML = docLinkHtml;\n",
              "          element.appendChild(docLink);\n",
              "        }\n",
              "      </script>\n",
              "    </div>\n",
              "  </div>\n",
              "  "
            ]
          },
          "metadata": {},
          "execution_count": 7
        }
      ],
      "source": [
        "#Printing last 5 row\n",
        "fake.tail()"
      ]
    },
    {
      "cell_type": "code",
      "execution_count": null,
      "metadata": {
        "colab": {
          "base_uri": "https://localhost:8080/"
        },
        "id": "dXlCd3JkXbSH",
        "outputId": "ae3ed21b-d6b4-426b-bfc1-b24cc645fb5a"
      },
      "outputs": [
        {
          "output_type": "execute_result",
          "data": {
            "text/plain": [
              "(21417, 4)"
            ]
          },
          "metadata": {},
          "execution_count": 8
        }
      ],
      "source": [
        "#Number of rows and columns in true data\n",
        "true.shape"
      ]
    },
    {
      "cell_type": "code",
      "execution_count": null,
      "metadata": {
        "colab": {
          "base_uri": "https://localhost:8080/"
        },
        "id": "oKRJ4hbLXgEl",
        "outputId": "291f720a-5c89-425f-ef7d-1e31b41525c4"
      },
      "outputs": [
        {
          "output_type": "execute_result",
          "data": {
            "text/plain": [
              "(23481, 4)"
            ]
          },
          "metadata": {},
          "execution_count": 9
        }
      ],
      "source": [
        "#Number of rows and columns in fake data\n",
        "fake.shape"
      ]
    },
    {
      "cell_type": "code",
      "execution_count": null,
      "metadata": {
        "colab": {
          "base_uri": "https://localhost:8080/"
        },
        "id": "OWq0U-pBXhcA",
        "outputId": "d5771aaa-dd8b-4f94-82ed-b93447cb4340"
      },
      "outputs": [
        {
          "output_type": "stream",
          "name": "stdout",
          "text": [
            "<class 'pandas.core.frame.DataFrame'>\n",
            "RangeIndex: 21417 entries, 0 to 21416\n",
            "Data columns (total 4 columns):\n",
            " #   Column   Non-Null Count  Dtype \n",
            "---  ------   --------------  ----- \n",
            " 0   title    21417 non-null  object\n",
            " 1   text     21417 non-null  object\n",
            " 2   subject  21417 non-null  object\n",
            " 3   date     21417 non-null  object\n",
            "dtypes: object(4)\n",
            "memory usage: 669.4+ KB\n"
          ]
        }
      ],
      "source": [
        "#Getting information\n",
        "true.info()"
      ]
    },
    {
      "cell_type": "code",
      "execution_count": null,
      "metadata": {
        "colab": {
          "base_uri": "https://localhost:8080/"
        },
        "id": "FrAXdSnmXoXj",
        "outputId": "f40586d3-ed5e-4df6-b204-10e97a267908"
      },
      "outputs": [
        {
          "output_type": "stream",
          "name": "stdout",
          "text": [
            "<class 'pandas.core.frame.DataFrame'>\n",
            "RangeIndex: 23481 entries, 0 to 23480\n",
            "Data columns (total 4 columns):\n",
            " #   Column   Non-Null Count  Dtype \n",
            "---  ------   --------------  ----- \n",
            " 0   title    23481 non-null  object\n",
            " 1   text     23481 non-null  object\n",
            " 2   subject  23481 non-null  object\n",
            " 3   date     23481 non-null  object\n",
            "dtypes: object(4)\n",
            "memory usage: 733.9+ KB\n"
          ]
        }
      ],
      "source": [
        "#Getting information\n",
        "fake.info()"
      ]
    },
    {
      "cell_type": "code",
      "execution_count": null,
      "metadata": {
        "colab": {
          "base_uri": "https://localhost:8080/"
        },
        "id": "CpdT7Eq_XrCz",
        "outputId": "52817248-525c-406c-9f1c-eac79cc95b1f"
      },
      "outputs": [
        {
          "output_type": "execute_result",
          "data": {
            "text/plain": [
              "title      0\n",
              "text       0\n",
              "subject    0\n",
              "date       0\n",
              "dtype: int64"
            ]
          },
          "metadata": {},
          "execution_count": 12
        }
      ],
      "source": [
        "#Checking missing values in true data\n",
        "true.isnull().sum()"
      ]
    },
    {
      "cell_type": "code",
      "execution_count": null,
      "metadata": {
        "colab": {
          "base_uri": "https://localhost:8080/"
        },
        "id": "0r5VyRuBXuRM",
        "outputId": "53b22c1f-5ddd-4853-e911-34a5623f5a5a"
      },
      "outputs": [
        {
          "output_type": "execute_result",
          "data": {
            "text/plain": [
              "title      0\n",
              "text       0\n",
              "subject    0\n",
              "date       0\n",
              "dtype: int64"
            ]
          },
          "metadata": {},
          "execution_count": 13
        }
      ],
      "source": [
        "#Checking missing values in fake data\n",
        "fake.isnull().sum()"
      ]
    },
    {
      "cell_type": "code",
      "execution_count": null,
      "metadata": {
        "colab": {
          "base_uri": "https://localhost:8080/",
          "height": 174
        },
        "id": "nNDWL6eCXx05",
        "outputId": "d6cd5603-1e15-4efb-be3d-d1bf7899ea0a"
      },
      "outputs": [
        {
          "output_type": "execute_result",
          "data": {
            "text/plain": [
              "                                                    title  \\\n",
              "count                                               21417   \n",
              "unique                                              20826   \n",
              "top     Factbox: Trump fills top jobs for his administ...   \n",
              "freq                                                   14   \n",
              "\n",
              "                                                     text       subject  \\\n",
              "count                                               21417         21417   \n",
              "unique                                              21192             2   \n",
              "top     (Reuters) - Highlights for U.S. President Dona...  politicsNews   \n",
              "freq                                                    8         11272   \n",
              "\n",
              "                      date  \n",
              "count                21417  \n",
              "unique                 716  \n",
              "top     December 20, 2017   \n",
              "freq                   182  "
            ],
            "text/html": [
              "\n",
              "  <div id=\"df-f619fe58-c969-40db-b6fd-a6aadb312c86\">\n",
              "    <div class=\"colab-df-container\">\n",
              "      <div>\n",
              "<style scoped>\n",
              "    .dataframe tbody tr th:only-of-type {\n",
              "        vertical-align: middle;\n",
              "    }\n",
              "\n",
              "    .dataframe tbody tr th {\n",
              "        vertical-align: top;\n",
              "    }\n",
              "\n",
              "    .dataframe thead th {\n",
              "        text-align: right;\n",
              "    }\n",
              "</style>\n",
              "<table border=\"1\" class=\"dataframe\">\n",
              "  <thead>\n",
              "    <tr style=\"text-align: right;\">\n",
              "      <th></th>\n",
              "      <th>title</th>\n",
              "      <th>text</th>\n",
              "      <th>subject</th>\n",
              "      <th>date</th>\n",
              "    </tr>\n",
              "  </thead>\n",
              "  <tbody>\n",
              "    <tr>\n",
              "      <th>count</th>\n",
              "      <td>21417</td>\n",
              "      <td>21417</td>\n",
              "      <td>21417</td>\n",
              "      <td>21417</td>\n",
              "    </tr>\n",
              "    <tr>\n",
              "      <th>unique</th>\n",
              "      <td>20826</td>\n",
              "      <td>21192</td>\n",
              "      <td>2</td>\n",
              "      <td>716</td>\n",
              "    </tr>\n",
              "    <tr>\n",
              "      <th>top</th>\n",
              "      <td>Factbox: Trump fills top jobs for his administ...</td>\n",
              "      <td>(Reuters) - Highlights for U.S. President Dona...</td>\n",
              "      <td>politicsNews</td>\n",
              "      <td>December 20, 2017</td>\n",
              "    </tr>\n",
              "    <tr>\n",
              "      <th>freq</th>\n",
              "      <td>14</td>\n",
              "      <td>8</td>\n",
              "      <td>11272</td>\n",
              "      <td>182</td>\n",
              "    </tr>\n",
              "  </tbody>\n",
              "</table>\n",
              "</div>\n",
              "      <button class=\"colab-df-convert\" onclick=\"convertToInteractive('df-f619fe58-c969-40db-b6fd-a6aadb312c86')\"\n",
              "              title=\"Convert this dataframe to an interactive table.\"\n",
              "              style=\"display:none;\">\n",
              "        \n",
              "  <svg xmlns=\"http://www.w3.org/2000/svg\" height=\"24px\"viewBox=\"0 0 24 24\"\n",
              "       width=\"24px\">\n",
              "    <path d=\"M0 0h24v24H0V0z\" fill=\"none\"/>\n",
              "    <path d=\"M18.56 5.44l.94 2.06.94-2.06 2.06-.94-2.06-.94-.94-2.06-.94 2.06-2.06.94zm-11 1L8.5 8.5l.94-2.06 2.06-.94-2.06-.94L8.5 2.5l-.94 2.06-2.06.94zm10 10l.94 2.06.94-2.06 2.06-.94-2.06-.94-.94-2.06-.94 2.06-2.06.94z\"/><path d=\"M17.41 7.96l-1.37-1.37c-.4-.4-.92-.59-1.43-.59-.52 0-1.04.2-1.43.59L10.3 9.45l-7.72 7.72c-.78.78-.78 2.05 0 2.83L4 21.41c.39.39.9.59 1.41.59.51 0 1.02-.2 1.41-.59l7.78-7.78 2.81-2.81c.8-.78.8-2.07 0-2.86zM5.41 20L4 18.59l7.72-7.72 1.47 1.35L5.41 20z\"/>\n",
              "  </svg>\n",
              "      </button>\n",
              "      \n",
              "  <style>\n",
              "    .colab-df-container {\n",
              "      display:flex;\n",
              "      flex-wrap:wrap;\n",
              "      gap: 12px;\n",
              "    }\n",
              "\n",
              "    .colab-df-convert {\n",
              "      background-color: #E8F0FE;\n",
              "      border: none;\n",
              "      border-radius: 50%;\n",
              "      cursor: pointer;\n",
              "      display: none;\n",
              "      fill: #1967D2;\n",
              "      height: 32px;\n",
              "      padding: 0 0 0 0;\n",
              "      width: 32px;\n",
              "    }\n",
              "\n",
              "    .colab-df-convert:hover {\n",
              "      background-color: #E2EBFA;\n",
              "      box-shadow: 0px 1px 2px rgba(60, 64, 67, 0.3), 0px 1px 3px 1px rgba(60, 64, 67, 0.15);\n",
              "      fill: #174EA6;\n",
              "    }\n",
              "\n",
              "    [theme=dark] .colab-df-convert {\n",
              "      background-color: #3B4455;\n",
              "      fill: #D2E3FC;\n",
              "    }\n",
              "\n",
              "    [theme=dark] .colab-df-convert:hover {\n",
              "      background-color: #434B5C;\n",
              "      box-shadow: 0px 1px 3px 1px rgba(0, 0, 0, 0.15);\n",
              "      filter: drop-shadow(0px 1px 2px rgba(0, 0, 0, 0.3));\n",
              "      fill: #FFFFFF;\n",
              "    }\n",
              "  </style>\n",
              "\n",
              "      <script>\n",
              "        const buttonEl =\n",
              "          document.querySelector('#df-f619fe58-c969-40db-b6fd-a6aadb312c86 button.colab-df-convert');\n",
              "        buttonEl.style.display =\n",
              "          google.colab.kernel.accessAllowed ? 'block' : 'none';\n",
              "\n",
              "        async function convertToInteractive(key) {\n",
              "          const element = document.querySelector('#df-f619fe58-c969-40db-b6fd-a6aadb312c86');\n",
              "          const dataTable =\n",
              "            await google.colab.kernel.invokeFunction('convertToInteractive',\n",
              "                                                     [key], {});\n",
              "          if (!dataTable) return;\n",
              "\n",
              "          const docLinkHtml = 'Like what you see? Visit the ' +\n",
              "            '<a target=\"_blank\" href=https://colab.research.google.com/notebooks/data_table.ipynb>data table notebook</a>'\n",
              "            + ' to learn more about interactive tables.';\n",
              "          element.innerHTML = '';\n",
              "          dataTable['output_type'] = 'display_data';\n",
              "          await google.colab.output.renderOutput(dataTable, element);\n",
              "          const docLink = document.createElement('div');\n",
              "          docLink.innerHTML = docLinkHtml;\n",
              "          element.appendChild(docLink);\n",
              "        }\n",
              "      </script>\n",
              "    </div>\n",
              "  </div>\n",
              "  "
            ]
          },
          "metadata": {},
          "execution_count": 14
        }
      ],
      "source": [
        "#Stastical measure of true data\n",
        "true.describe()"
      ]
    },
    {
      "cell_type": "code",
      "execution_count": null,
      "metadata": {
        "colab": {
          "base_uri": "https://localhost:8080/",
          "height": 174
        },
        "id": "bOqrWhKoX15p",
        "outputId": "21f6c3e1-cf49-4537-d9d8-bb2eaf850347"
      },
      "outputs": [
        {
          "output_type": "execute_result",
          "data": {
            "text/plain": [
              "                                                    title   text subject  \\\n",
              "count                                               23481  23481   23481   \n",
              "unique                                              17903  17455       6   \n",
              "top     MEDIA IGNORES Time That Bill Clinton FIRED His...           News   \n",
              "freq                                                    6    626    9050   \n",
              "\n",
              "                date  \n",
              "count          23481  \n",
              "unique          1681  \n",
              "top     May 10, 2017  \n",
              "freq              46  "
            ],
            "text/html": [
              "\n",
              "  <div id=\"df-c2627583-9080-4dfc-9981-2686dd98f8dd\">\n",
              "    <div class=\"colab-df-container\">\n",
              "      <div>\n",
              "<style scoped>\n",
              "    .dataframe tbody tr th:only-of-type {\n",
              "        vertical-align: middle;\n",
              "    }\n",
              "\n",
              "    .dataframe tbody tr th {\n",
              "        vertical-align: top;\n",
              "    }\n",
              "\n",
              "    .dataframe thead th {\n",
              "        text-align: right;\n",
              "    }\n",
              "</style>\n",
              "<table border=\"1\" class=\"dataframe\">\n",
              "  <thead>\n",
              "    <tr style=\"text-align: right;\">\n",
              "      <th></th>\n",
              "      <th>title</th>\n",
              "      <th>text</th>\n",
              "      <th>subject</th>\n",
              "      <th>date</th>\n",
              "    </tr>\n",
              "  </thead>\n",
              "  <tbody>\n",
              "    <tr>\n",
              "      <th>count</th>\n",
              "      <td>23481</td>\n",
              "      <td>23481</td>\n",
              "      <td>23481</td>\n",
              "      <td>23481</td>\n",
              "    </tr>\n",
              "    <tr>\n",
              "      <th>unique</th>\n",
              "      <td>17903</td>\n",
              "      <td>17455</td>\n",
              "      <td>6</td>\n",
              "      <td>1681</td>\n",
              "    </tr>\n",
              "    <tr>\n",
              "      <th>top</th>\n",
              "      <td>MEDIA IGNORES Time That Bill Clinton FIRED His...</td>\n",
              "      <td></td>\n",
              "      <td>News</td>\n",
              "      <td>May 10, 2017</td>\n",
              "    </tr>\n",
              "    <tr>\n",
              "      <th>freq</th>\n",
              "      <td>6</td>\n",
              "      <td>626</td>\n",
              "      <td>9050</td>\n",
              "      <td>46</td>\n",
              "    </tr>\n",
              "  </tbody>\n",
              "</table>\n",
              "</div>\n",
              "      <button class=\"colab-df-convert\" onclick=\"convertToInteractive('df-c2627583-9080-4dfc-9981-2686dd98f8dd')\"\n",
              "              title=\"Convert this dataframe to an interactive table.\"\n",
              "              style=\"display:none;\">\n",
              "        \n",
              "  <svg xmlns=\"http://www.w3.org/2000/svg\" height=\"24px\"viewBox=\"0 0 24 24\"\n",
              "       width=\"24px\">\n",
              "    <path d=\"M0 0h24v24H0V0z\" fill=\"none\"/>\n",
              "    <path d=\"M18.56 5.44l.94 2.06.94-2.06 2.06-.94-2.06-.94-.94-2.06-.94 2.06-2.06.94zm-11 1L8.5 8.5l.94-2.06 2.06-.94-2.06-.94L8.5 2.5l-.94 2.06-2.06.94zm10 10l.94 2.06.94-2.06 2.06-.94-2.06-.94-.94-2.06-.94 2.06-2.06.94z\"/><path d=\"M17.41 7.96l-1.37-1.37c-.4-.4-.92-.59-1.43-.59-.52 0-1.04.2-1.43.59L10.3 9.45l-7.72 7.72c-.78.78-.78 2.05 0 2.83L4 21.41c.39.39.9.59 1.41.59.51 0 1.02-.2 1.41-.59l7.78-7.78 2.81-2.81c.8-.78.8-2.07 0-2.86zM5.41 20L4 18.59l7.72-7.72 1.47 1.35L5.41 20z\"/>\n",
              "  </svg>\n",
              "      </button>\n",
              "      \n",
              "  <style>\n",
              "    .colab-df-container {\n",
              "      display:flex;\n",
              "      flex-wrap:wrap;\n",
              "      gap: 12px;\n",
              "    }\n",
              "\n",
              "    .colab-df-convert {\n",
              "      background-color: #E8F0FE;\n",
              "      border: none;\n",
              "      border-radius: 50%;\n",
              "      cursor: pointer;\n",
              "      display: none;\n",
              "      fill: #1967D2;\n",
              "      height: 32px;\n",
              "      padding: 0 0 0 0;\n",
              "      width: 32px;\n",
              "    }\n",
              "\n",
              "    .colab-df-convert:hover {\n",
              "      background-color: #E2EBFA;\n",
              "      box-shadow: 0px 1px 2px rgba(60, 64, 67, 0.3), 0px 1px 3px 1px rgba(60, 64, 67, 0.15);\n",
              "      fill: #174EA6;\n",
              "    }\n",
              "\n",
              "    [theme=dark] .colab-df-convert {\n",
              "      background-color: #3B4455;\n",
              "      fill: #D2E3FC;\n",
              "    }\n",
              "\n",
              "    [theme=dark] .colab-df-convert:hover {\n",
              "      background-color: #434B5C;\n",
              "      box-shadow: 0px 1px 3px 1px rgba(0, 0, 0, 0.15);\n",
              "      filter: drop-shadow(0px 1px 2px rgba(0, 0, 0, 0.3));\n",
              "      fill: #FFFFFF;\n",
              "    }\n",
              "  </style>\n",
              "\n",
              "      <script>\n",
              "        const buttonEl =\n",
              "          document.querySelector('#df-c2627583-9080-4dfc-9981-2686dd98f8dd button.colab-df-convert');\n",
              "        buttonEl.style.display =\n",
              "          google.colab.kernel.accessAllowed ? 'block' : 'none';\n",
              "\n",
              "        async function convertToInteractive(key) {\n",
              "          const element = document.querySelector('#df-c2627583-9080-4dfc-9981-2686dd98f8dd');\n",
              "          const dataTable =\n",
              "            await google.colab.kernel.invokeFunction('convertToInteractive',\n",
              "                                                     [key], {});\n",
              "          if (!dataTable) return;\n",
              "\n",
              "          const docLinkHtml = 'Like what you see? Visit the ' +\n",
              "            '<a target=\"_blank\" href=https://colab.research.google.com/notebooks/data_table.ipynb>data table notebook</a>'\n",
              "            + ' to learn more about interactive tables.';\n",
              "          element.innerHTML = '';\n",
              "          dataTable['output_type'] = 'display_data';\n",
              "          await google.colab.output.renderOutput(dataTable, element);\n",
              "          const docLink = document.createElement('div');\n",
              "          docLink.innerHTML = docLinkHtml;\n",
              "          element.appendChild(docLink);\n",
              "        }\n",
              "      </script>\n",
              "    </div>\n",
              "  </div>\n",
              "  "
            ]
          },
          "metadata": {},
          "execution_count": 15
        }
      ],
      "source": [
        "#Stastical measure of fake data\n",
        "fake.describe()"
      ]
    },
    {
      "cell_type": "code",
      "execution_count": null,
      "metadata": {
        "id": "N9r3hX9qX5RP"
      },
      "outputs": [],
      "source": [
        "true['Label']= 0\n",
        "fake['Label']=1"
      ]
    },
    {
      "cell_type": "code",
      "execution_count": null,
      "metadata": {
        "colab": {
          "base_uri": "https://localhost:8080/",
          "height": 206
        },
        "id": "L3L5RJumYFJJ",
        "outputId": "c6a9022c-64c3-4c41-8880-efa8e40602a8"
      },
      "outputs": [
        {
          "output_type": "execute_result",
          "data": {
            "text/plain": [
              "                                               title  \\\n",
              "0  As U.S. budget fight looms, Republicans flip t...   \n",
              "1  U.S. military to accept transgender recruits o...   \n",
              "2  Senior U.S. Republican senator: 'Let Mr. Muell...   \n",
              "3  FBI Russia probe helped by Australian diplomat...   \n",
              "4  Trump wants Postal Service to charge 'much mor...   \n",
              "\n",
              "                                                text       subject  \\\n",
              "0  WASHINGTON (Reuters) - The head of a conservat...  politicsNews   \n",
              "1  WASHINGTON (Reuters) - Transgender people will...  politicsNews   \n",
              "2  WASHINGTON (Reuters) - The special counsel inv...  politicsNews   \n",
              "3  WASHINGTON (Reuters) - Trump campaign adviser ...  politicsNews   \n",
              "4  SEATTLE/WASHINGTON (Reuters) - President Donal...  politicsNews   \n",
              "\n",
              "                 date  Label  \n",
              "0  December 31, 2017       0  \n",
              "1  December 29, 2017       0  \n",
              "2  December 31, 2017       0  \n",
              "3  December 30, 2017       0  \n",
              "4  December 29, 2017       0  "
            ],
            "text/html": [
              "\n",
              "  <div id=\"df-958d5fa1-0742-441d-971b-99514546388a\">\n",
              "    <div class=\"colab-df-container\">\n",
              "      <div>\n",
              "<style scoped>\n",
              "    .dataframe tbody tr th:only-of-type {\n",
              "        vertical-align: middle;\n",
              "    }\n",
              "\n",
              "    .dataframe tbody tr th {\n",
              "        vertical-align: top;\n",
              "    }\n",
              "\n",
              "    .dataframe thead th {\n",
              "        text-align: right;\n",
              "    }\n",
              "</style>\n",
              "<table border=\"1\" class=\"dataframe\">\n",
              "  <thead>\n",
              "    <tr style=\"text-align: right;\">\n",
              "      <th></th>\n",
              "      <th>title</th>\n",
              "      <th>text</th>\n",
              "      <th>subject</th>\n",
              "      <th>date</th>\n",
              "      <th>Label</th>\n",
              "    </tr>\n",
              "  </thead>\n",
              "  <tbody>\n",
              "    <tr>\n",
              "      <th>0</th>\n",
              "      <td>As U.S. budget fight looms, Republicans flip t...</td>\n",
              "      <td>WASHINGTON (Reuters) - The head of a conservat...</td>\n",
              "      <td>politicsNews</td>\n",
              "      <td>December 31, 2017</td>\n",
              "      <td>0</td>\n",
              "    </tr>\n",
              "    <tr>\n",
              "      <th>1</th>\n",
              "      <td>U.S. military to accept transgender recruits o...</td>\n",
              "      <td>WASHINGTON (Reuters) - Transgender people will...</td>\n",
              "      <td>politicsNews</td>\n",
              "      <td>December 29, 2017</td>\n",
              "      <td>0</td>\n",
              "    </tr>\n",
              "    <tr>\n",
              "      <th>2</th>\n",
              "      <td>Senior U.S. Republican senator: 'Let Mr. Muell...</td>\n",
              "      <td>WASHINGTON (Reuters) - The special counsel inv...</td>\n",
              "      <td>politicsNews</td>\n",
              "      <td>December 31, 2017</td>\n",
              "      <td>0</td>\n",
              "    </tr>\n",
              "    <tr>\n",
              "      <th>3</th>\n",
              "      <td>FBI Russia probe helped by Australian diplomat...</td>\n",
              "      <td>WASHINGTON (Reuters) - Trump campaign adviser ...</td>\n",
              "      <td>politicsNews</td>\n",
              "      <td>December 30, 2017</td>\n",
              "      <td>0</td>\n",
              "    </tr>\n",
              "    <tr>\n",
              "      <th>4</th>\n",
              "      <td>Trump wants Postal Service to charge 'much mor...</td>\n",
              "      <td>SEATTLE/WASHINGTON (Reuters) - President Donal...</td>\n",
              "      <td>politicsNews</td>\n",
              "      <td>December 29, 2017</td>\n",
              "      <td>0</td>\n",
              "    </tr>\n",
              "  </tbody>\n",
              "</table>\n",
              "</div>\n",
              "      <button class=\"colab-df-convert\" onclick=\"convertToInteractive('df-958d5fa1-0742-441d-971b-99514546388a')\"\n",
              "              title=\"Convert this dataframe to an interactive table.\"\n",
              "              style=\"display:none;\">\n",
              "        \n",
              "  <svg xmlns=\"http://www.w3.org/2000/svg\" height=\"24px\"viewBox=\"0 0 24 24\"\n",
              "       width=\"24px\">\n",
              "    <path d=\"M0 0h24v24H0V0z\" fill=\"none\"/>\n",
              "    <path d=\"M18.56 5.44l.94 2.06.94-2.06 2.06-.94-2.06-.94-.94-2.06-.94 2.06-2.06.94zm-11 1L8.5 8.5l.94-2.06 2.06-.94-2.06-.94L8.5 2.5l-.94 2.06-2.06.94zm10 10l.94 2.06.94-2.06 2.06-.94-2.06-.94-.94-2.06-.94 2.06-2.06.94z\"/><path d=\"M17.41 7.96l-1.37-1.37c-.4-.4-.92-.59-1.43-.59-.52 0-1.04.2-1.43.59L10.3 9.45l-7.72 7.72c-.78.78-.78 2.05 0 2.83L4 21.41c.39.39.9.59 1.41.59.51 0 1.02-.2 1.41-.59l7.78-7.78 2.81-2.81c.8-.78.8-2.07 0-2.86zM5.41 20L4 18.59l7.72-7.72 1.47 1.35L5.41 20z\"/>\n",
              "  </svg>\n",
              "      </button>\n",
              "      \n",
              "  <style>\n",
              "    .colab-df-container {\n",
              "      display:flex;\n",
              "      flex-wrap:wrap;\n",
              "      gap: 12px;\n",
              "    }\n",
              "\n",
              "    .colab-df-convert {\n",
              "      background-color: #E8F0FE;\n",
              "      border: none;\n",
              "      border-radius: 50%;\n",
              "      cursor: pointer;\n",
              "      display: none;\n",
              "      fill: #1967D2;\n",
              "      height: 32px;\n",
              "      padding: 0 0 0 0;\n",
              "      width: 32px;\n",
              "    }\n",
              "\n",
              "    .colab-df-convert:hover {\n",
              "      background-color: #E2EBFA;\n",
              "      box-shadow: 0px 1px 2px rgba(60, 64, 67, 0.3), 0px 1px 3px 1px rgba(60, 64, 67, 0.15);\n",
              "      fill: #174EA6;\n",
              "    }\n",
              "\n",
              "    [theme=dark] .colab-df-convert {\n",
              "      background-color: #3B4455;\n",
              "      fill: #D2E3FC;\n",
              "    }\n",
              "\n",
              "    [theme=dark] .colab-df-convert:hover {\n",
              "      background-color: #434B5C;\n",
              "      box-shadow: 0px 1px 3px 1px rgba(0, 0, 0, 0.15);\n",
              "      filter: drop-shadow(0px 1px 2px rgba(0, 0, 0, 0.3));\n",
              "      fill: #FFFFFF;\n",
              "    }\n",
              "  </style>\n",
              "\n",
              "      <script>\n",
              "        const buttonEl =\n",
              "          document.querySelector('#df-958d5fa1-0742-441d-971b-99514546388a button.colab-df-convert');\n",
              "        buttonEl.style.display =\n",
              "          google.colab.kernel.accessAllowed ? 'block' : 'none';\n",
              "\n",
              "        async function convertToInteractive(key) {\n",
              "          const element = document.querySelector('#df-958d5fa1-0742-441d-971b-99514546388a');\n",
              "          const dataTable =\n",
              "            await google.colab.kernel.invokeFunction('convertToInteractive',\n",
              "                                                     [key], {});\n",
              "          if (!dataTable) return;\n",
              "\n",
              "          const docLinkHtml = 'Like what you see? Visit the ' +\n",
              "            '<a target=\"_blank\" href=https://colab.research.google.com/notebooks/data_table.ipynb>data table notebook</a>'\n",
              "            + ' to learn more about interactive tables.';\n",
              "          element.innerHTML = '';\n",
              "          dataTable['output_type'] = 'display_data';\n",
              "          await google.colab.output.renderOutput(dataTable, element);\n",
              "          const docLink = document.createElement('div');\n",
              "          docLink.innerHTML = docLinkHtml;\n",
              "          element.appendChild(docLink);\n",
              "        }\n",
              "      </script>\n",
              "    </div>\n",
              "  </div>\n",
              "  "
            ]
          },
          "metadata": {},
          "execution_count": 8
        }
      ],
      "source": [
        "News_data = pd.concat([true, fake])\n",
        "News_data.head()"
      ]
    },
    {
      "cell_type": "code",
      "execution_count": null,
      "metadata": {
        "id": "YvaT4K1wJDFm"
      },
      "outputs": [],
      "source": [
        "#Total no of rows in whole dataset\n",
        "num_rows = len(News_data)"
      ]
    },
    {
      "cell_type": "code",
      "execution_count": null,
      "metadata": {
        "colab": {
          "base_uri": "https://localhost:8080/"
        },
        "id": "YhAjk9waJOx5",
        "outputId": "8dc69693-5459-4c76-89ef-623fcde24638"
      },
      "outputs": [
        {
          "output_type": "execute_result",
          "data": {
            "text/plain": [
              "44898"
            ]
          },
          "metadata": {},
          "execution_count": 9
        }
      ],
      "source": [
        "num_rows"
      ]
    },
    {
      "cell_type": "code",
      "execution_count": null,
      "metadata": {
        "id": "7pXmcJYKYGmK"
      },
      "outputs": [],
      "source": [
        "#Shuffling the data\n",
        "News_data = shuffle(News_data)\n",
        "News_data = News_data.reset_index(drop=True)"
      ]
    },
    {
      "cell_type": "code",
      "execution_count": null,
      "metadata": {
        "colab": {
          "base_uri": "https://localhost:8080/",
          "height": 206
        },
        "id": "ni4_xWLoYKB0",
        "outputId": "8b2429ee-5756-48ad-f5c0-8ce471ac4c0e"
      },
      "outputs": [
        {
          "output_type": "execute_result",
          "data": {
            "text/plain": [
              "                                               title  \\\n",
              "0  VP Pence says Russia's stance must change befo...   \n",
              "1  Trump naysayers push #NeverTrump on Twitter be...   \n",
              "2  BUILD THE WALL! How Terrorists Have Been Comin...   \n",
              "3  A disenchanted Republican, fearing Trump, laun...   \n",
              "4  Iran says Trump cannot cause collapse of nucle...   \n",
              "\n",
              "                                                text       subject  \\\n",
              "0  TBILISI (Reuters) - U.S. Vice President Mike P...  politicsNews   \n",
              "1  NEW YORK (Reuters) - The use of the #NeverTrum...  politicsNews   \n",
              "2  OUR GOOD FRIENDS AT TEXAS BORDER VOLUNTEERS ar...      politics   \n",
              "3  WASHINGTON (Reuters) - A former CIA officer an...  politicsNews   \n",
              "4  ANKARA (Reuters) - Iran said on Tuesday U.S. P...     worldnews   \n",
              "\n",
              "                 date  Label  \n",
              "0     August 1, 2017       0  \n",
              "1  February 29, 2016       0  \n",
              "2         Dec 8, 2015      1  \n",
              "3     August 8, 2016       0  \n",
              "4  December 19, 2017       0  "
            ],
            "text/html": [
              "\n",
              "  <div id=\"df-62f3f7c1-8f40-476d-90c1-183a659c96a5\">\n",
              "    <div class=\"colab-df-container\">\n",
              "      <div>\n",
              "<style scoped>\n",
              "    .dataframe tbody tr th:only-of-type {\n",
              "        vertical-align: middle;\n",
              "    }\n",
              "\n",
              "    .dataframe tbody tr th {\n",
              "        vertical-align: top;\n",
              "    }\n",
              "\n",
              "    .dataframe thead th {\n",
              "        text-align: right;\n",
              "    }\n",
              "</style>\n",
              "<table border=\"1\" class=\"dataframe\">\n",
              "  <thead>\n",
              "    <tr style=\"text-align: right;\">\n",
              "      <th></th>\n",
              "      <th>title</th>\n",
              "      <th>text</th>\n",
              "      <th>subject</th>\n",
              "      <th>date</th>\n",
              "      <th>Label</th>\n",
              "    </tr>\n",
              "  </thead>\n",
              "  <tbody>\n",
              "    <tr>\n",
              "      <th>0</th>\n",
              "      <td>VP Pence says Russia's stance must change befo...</td>\n",
              "      <td>TBILISI (Reuters) - U.S. Vice President Mike P...</td>\n",
              "      <td>politicsNews</td>\n",
              "      <td>August 1, 2017</td>\n",
              "      <td>0</td>\n",
              "    </tr>\n",
              "    <tr>\n",
              "      <th>1</th>\n",
              "      <td>Trump naysayers push #NeverTrump on Twitter be...</td>\n",
              "      <td>NEW YORK (Reuters) - The use of the #NeverTrum...</td>\n",
              "      <td>politicsNews</td>\n",
              "      <td>February 29, 2016</td>\n",
              "      <td>0</td>\n",
              "    </tr>\n",
              "    <tr>\n",
              "      <th>2</th>\n",
              "      <td>BUILD THE WALL! How Terrorists Have Been Comin...</td>\n",
              "      <td>OUR GOOD FRIENDS AT TEXAS BORDER VOLUNTEERS ar...</td>\n",
              "      <td>politics</td>\n",
              "      <td>Dec 8, 2015</td>\n",
              "      <td>1</td>\n",
              "    </tr>\n",
              "    <tr>\n",
              "      <th>3</th>\n",
              "      <td>A disenchanted Republican, fearing Trump, laun...</td>\n",
              "      <td>WASHINGTON (Reuters) - A former CIA officer an...</td>\n",
              "      <td>politicsNews</td>\n",
              "      <td>August 8, 2016</td>\n",
              "      <td>0</td>\n",
              "    </tr>\n",
              "    <tr>\n",
              "      <th>4</th>\n",
              "      <td>Iran says Trump cannot cause collapse of nucle...</td>\n",
              "      <td>ANKARA (Reuters) - Iran said on Tuesday U.S. P...</td>\n",
              "      <td>worldnews</td>\n",
              "      <td>December 19, 2017</td>\n",
              "      <td>0</td>\n",
              "    </tr>\n",
              "  </tbody>\n",
              "</table>\n",
              "</div>\n",
              "      <button class=\"colab-df-convert\" onclick=\"convertToInteractive('df-62f3f7c1-8f40-476d-90c1-183a659c96a5')\"\n",
              "              title=\"Convert this dataframe to an interactive table.\"\n",
              "              style=\"display:none;\">\n",
              "        \n",
              "  <svg xmlns=\"http://www.w3.org/2000/svg\" height=\"24px\"viewBox=\"0 0 24 24\"\n",
              "       width=\"24px\">\n",
              "    <path d=\"M0 0h24v24H0V0z\" fill=\"none\"/>\n",
              "    <path d=\"M18.56 5.44l.94 2.06.94-2.06 2.06-.94-2.06-.94-.94-2.06-.94 2.06-2.06.94zm-11 1L8.5 8.5l.94-2.06 2.06-.94-2.06-.94L8.5 2.5l-.94 2.06-2.06.94zm10 10l.94 2.06.94-2.06 2.06-.94-2.06-.94-.94-2.06-.94 2.06-2.06.94z\"/><path d=\"M17.41 7.96l-1.37-1.37c-.4-.4-.92-.59-1.43-.59-.52 0-1.04.2-1.43.59L10.3 9.45l-7.72 7.72c-.78.78-.78 2.05 0 2.83L4 21.41c.39.39.9.59 1.41.59.51 0 1.02-.2 1.41-.59l7.78-7.78 2.81-2.81c.8-.78.8-2.07 0-2.86zM5.41 20L4 18.59l7.72-7.72 1.47 1.35L5.41 20z\"/>\n",
              "  </svg>\n",
              "      </button>\n",
              "      \n",
              "  <style>\n",
              "    .colab-df-container {\n",
              "      display:flex;\n",
              "      flex-wrap:wrap;\n",
              "      gap: 12px;\n",
              "    }\n",
              "\n",
              "    .colab-df-convert {\n",
              "      background-color: #E8F0FE;\n",
              "      border: none;\n",
              "      border-radius: 50%;\n",
              "      cursor: pointer;\n",
              "      display: none;\n",
              "      fill: #1967D2;\n",
              "      height: 32px;\n",
              "      padding: 0 0 0 0;\n",
              "      width: 32px;\n",
              "    }\n",
              "\n",
              "    .colab-df-convert:hover {\n",
              "      background-color: #E2EBFA;\n",
              "      box-shadow: 0px 1px 2px rgba(60, 64, 67, 0.3), 0px 1px 3px 1px rgba(60, 64, 67, 0.15);\n",
              "      fill: #174EA6;\n",
              "    }\n",
              "\n",
              "    [theme=dark] .colab-df-convert {\n",
              "      background-color: #3B4455;\n",
              "      fill: #D2E3FC;\n",
              "    }\n",
              "\n",
              "    [theme=dark] .colab-df-convert:hover {\n",
              "      background-color: #434B5C;\n",
              "      box-shadow: 0px 1px 3px 1px rgba(0, 0, 0, 0.15);\n",
              "      filter: drop-shadow(0px 1px 2px rgba(0, 0, 0, 0.3));\n",
              "      fill: #FFFFFF;\n",
              "    }\n",
              "  </style>\n",
              "\n",
              "      <script>\n",
              "        const buttonEl =\n",
              "          document.querySelector('#df-62f3f7c1-8f40-476d-90c1-183a659c96a5 button.colab-df-convert');\n",
              "        buttonEl.style.display =\n",
              "          google.colab.kernel.accessAllowed ? 'block' : 'none';\n",
              "\n",
              "        async function convertToInteractive(key) {\n",
              "          const element = document.querySelector('#df-62f3f7c1-8f40-476d-90c1-183a659c96a5');\n",
              "          const dataTable =\n",
              "            await google.colab.kernel.invokeFunction('convertToInteractive',\n",
              "                                                     [key], {});\n",
              "          if (!dataTable) return;\n",
              "\n",
              "          const docLinkHtml = 'Like what you see? Visit the ' +\n",
              "            '<a target=\"_blank\" href=https://colab.research.google.com/notebooks/data_table.ipynb>data table notebook</a>'\n",
              "            + ' to learn more about interactive tables.';\n",
              "          element.innerHTML = '';\n",
              "          dataTable['output_type'] = 'display_data';\n",
              "          await google.colab.output.renderOutput(dataTable, element);\n",
              "          const docLink = document.createElement('div');\n",
              "          docLink.innerHTML = docLinkHtml;\n",
              "          element.appendChild(docLink);\n",
              "        }\n",
              "      </script>\n",
              "    </div>\n",
              "  </div>\n",
              "  "
            ]
          },
          "metadata": {},
          "execution_count": 10
        }
      ],
      "source": [
        "News_data.head()"
      ]
    },
    {
      "cell_type": "code",
      "execution_count": null,
      "metadata": {
        "colab": {
          "base_uri": "https://localhost:8080/"
        },
        "id": "TYPHk0rpdRyW",
        "outputId": "118b4374-e3e2-4251-abbf-3248f13ca29f"
      },
      "outputs": [
        {
          "output_type": "execute_result",
          "data": {
            "text/plain": [
              "1    23481\n",
              "0    21417\n",
              "Name: Label, dtype: int64"
            ]
          },
          "metadata": {},
          "execution_count": 22
        }
      ],
      "source": [
        "#Number of 0's and 1's Label\n",
        "News_data['Label'].value_counts()"
      ]
    },
    {
      "cell_type": "code",
      "execution_count": null,
      "metadata": {
        "id": "8eErgcsRYNXe"
      },
      "outputs": [],
      "source": [
        "#Here we will drop data as we do not need it\n",
        "News_data=News_data.drop(['date'], axis=1)  # axis=1 to drop full column"
      ]
    },
    {
      "cell_type": "code",
      "execution_count": null,
      "metadata": {
        "colab": {
          "base_uri": "https://localhost:8080/",
          "height": 206
        },
        "id": "52rKKydtYSie",
        "outputId": "58c0636a-ec01-46a9-fce8-5ee85f9a6243"
      },
      "outputs": [
        {
          "output_type": "execute_result",
          "data": {
            "text/plain": [
              "                                               title  \\\n",
              "0  VP Pence says Russia's stance must change befo...   \n",
              "1  Trump naysayers push #NeverTrump on Twitter be...   \n",
              "2  BUILD THE WALL! How Terrorists Have Been Comin...   \n",
              "3  A disenchanted Republican, fearing Trump, laun...   \n",
              "4  Iran says Trump cannot cause collapse of nucle...   \n",
              "\n",
              "                                                text       subject  Label  \n",
              "0  TBILISI (Reuters) - U.S. Vice President Mike P...  politicsNews      0  \n",
              "1  NEW YORK (Reuters) - The use of the #NeverTrum...  politicsNews      0  \n",
              "2  OUR GOOD FRIENDS AT TEXAS BORDER VOLUNTEERS ar...      politics      1  \n",
              "3  WASHINGTON (Reuters) - A former CIA officer an...  politicsNews      0  \n",
              "4  ANKARA (Reuters) - Iran said on Tuesday U.S. P...     worldnews      0  "
            ],
            "text/html": [
              "\n",
              "  <div id=\"df-9f45d62e-33ed-4ab2-a4c6-0e2721a7423c\">\n",
              "    <div class=\"colab-df-container\">\n",
              "      <div>\n",
              "<style scoped>\n",
              "    .dataframe tbody tr th:only-of-type {\n",
              "        vertical-align: middle;\n",
              "    }\n",
              "\n",
              "    .dataframe tbody tr th {\n",
              "        vertical-align: top;\n",
              "    }\n",
              "\n",
              "    .dataframe thead th {\n",
              "        text-align: right;\n",
              "    }\n",
              "</style>\n",
              "<table border=\"1\" class=\"dataframe\">\n",
              "  <thead>\n",
              "    <tr style=\"text-align: right;\">\n",
              "      <th></th>\n",
              "      <th>title</th>\n",
              "      <th>text</th>\n",
              "      <th>subject</th>\n",
              "      <th>Label</th>\n",
              "    </tr>\n",
              "  </thead>\n",
              "  <tbody>\n",
              "    <tr>\n",
              "      <th>0</th>\n",
              "      <td>VP Pence says Russia's stance must change befo...</td>\n",
              "      <td>TBILISI (Reuters) - U.S. Vice President Mike P...</td>\n",
              "      <td>politicsNews</td>\n",
              "      <td>0</td>\n",
              "    </tr>\n",
              "    <tr>\n",
              "      <th>1</th>\n",
              "      <td>Trump naysayers push #NeverTrump on Twitter be...</td>\n",
              "      <td>NEW YORK (Reuters) - The use of the #NeverTrum...</td>\n",
              "      <td>politicsNews</td>\n",
              "      <td>0</td>\n",
              "    </tr>\n",
              "    <tr>\n",
              "      <th>2</th>\n",
              "      <td>BUILD THE WALL! How Terrorists Have Been Comin...</td>\n",
              "      <td>OUR GOOD FRIENDS AT TEXAS BORDER VOLUNTEERS ar...</td>\n",
              "      <td>politics</td>\n",
              "      <td>1</td>\n",
              "    </tr>\n",
              "    <tr>\n",
              "      <th>3</th>\n",
              "      <td>A disenchanted Republican, fearing Trump, laun...</td>\n",
              "      <td>WASHINGTON (Reuters) - A former CIA officer an...</td>\n",
              "      <td>politicsNews</td>\n",
              "      <td>0</td>\n",
              "    </tr>\n",
              "    <tr>\n",
              "      <th>4</th>\n",
              "      <td>Iran says Trump cannot cause collapse of nucle...</td>\n",
              "      <td>ANKARA (Reuters) - Iran said on Tuesday U.S. P...</td>\n",
              "      <td>worldnews</td>\n",
              "      <td>0</td>\n",
              "    </tr>\n",
              "  </tbody>\n",
              "</table>\n",
              "</div>\n",
              "      <button class=\"colab-df-convert\" onclick=\"convertToInteractive('df-9f45d62e-33ed-4ab2-a4c6-0e2721a7423c')\"\n",
              "              title=\"Convert this dataframe to an interactive table.\"\n",
              "              style=\"display:none;\">\n",
              "        \n",
              "  <svg xmlns=\"http://www.w3.org/2000/svg\" height=\"24px\"viewBox=\"0 0 24 24\"\n",
              "       width=\"24px\">\n",
              "    <path d=\"M0 0h24v24H0V0z\" fill=\"none\"/>\n",
              "    <path d=\"M18.56 5.44l.94 2.06.94-2.06 2.06-.94-2.06-.94-.94-2.06-.94 2.06-2.06.94zm-11 1L8.5 8.5l.94-2.06 2.06-.94-2.06-.94L8.5 2.5l-.94 2.06-2.06.94zm10 10l.94 2.06.94-2.06 2.06-.94-2.06-.94-.94-2.06-.94 2.06-2.06.94z\"/><path d=\"M17.41 7.96l-1.37-1.37c-.4-.4-.92-.59-1.43-.59-.52 0-1.04.2-1.43.59L10.3 9.45l-7.72 7.72c-.78.78-.78 2.05 0 2.83L4 21.41c.39.39.9.59 1.41.59.51 0 1.02-.2 1.41-.59l7.78-7.78 2.81-2.81c.8-.78.8-2.07 0-2.86zM5.41 20L4 18.59l7.72-7.72 1.47 1.35L5.41 20z\"/>\n",
              "  </svg>\n",
              "      </button>\n",
              "      \n",
              "  <style>\n",
              "    .colab-df-container {\n",
              "      display:flex;\n",
              "      flex-wrap:wrap;\n",
              "      gap: 12px;\n",
              "    }\n",
              "\n",
              "    .colab-df-convert {\n",
              "      background-color: #E8F0FE;\n",
              "      border: none;\n",
              "      border-radius: 50%;\n",
              "      cursor: pointer;\n",
              "      display: none;\n",
              "      fill: #1967D2;\n",
              "      height: 32px;\n",
              "      padding: 0 0 0 0;\n",
              "      width: 32px;\n",
              "    }\n",
              "\n",
              "    .colab-df-convert:hover {\n",
              "      background-color: #E2EBFA;\n",
              "      box-shadow: 0px 1px 2px rgba(60, 64, 67, 0.3), 0px 1px 3px 1px rgba(60, 64, 67, 0.15);\n",
              "      fill: #174EA6;\n",
              "    }\n",
              "\n",
              "    [theme=dark] .colab-df-convert {\n",
              "      background-color: #3B4455;\n",
              "      fill: #D2E3FC;\n",
              "    }\n",
              "\n",
              "    [theme=dark] .colab-df-convert:hover {\n",
              "      background-color: #434B5C;\n",
              "      box-shadow: 0px 1px 3px 1px rgba(0, 0, 0, 0.15);\n",
              "      filter: drop-shadow(0px 1px 2px rgba(0, 0, 0, 0.3));\n",
              "      fill: #FFFFFF;\n",
              "    }\n",
              "  </style>\n",
              "\n",
              "      <script>\n",
              "        const buttonEl =\n",
              "          document.querySelector('#df-9f45d62e-33ed-4ab2-a4c6-0e2721a7423c button.colab-df-convert');\n",
              "        buttonEl.style.display =\n",
              "          google.colab.kernel.accessAllowed ? 'block' : 'none';\n",
              "\n",
              "        async function convertToInteractive(key) {\n",
              "          const element = document.querySelector('#df-9f45d62e-33ed-4ab2-a4c6-0e2721a7423c');\n",
              "          const dataTable =\n",
              "            await google.colab.kernel.invokeFunction('convertToInteractive',\n",
              "                                                     [key], {});\n",
              "          if (!dataTable) return;\n",
              "\n",
              "          const docLinkHtml = 'Like what you see? Visit the ' +\n",
              "            '<a target=\"_blank\" href=https://colab.research.google.com/notebooks/data_table.ipynb>data table notebook</a>'\n",
              "            + ' to learn more about interactive tables.';\n",
              "          element.innerHTML = '';\n",
              "          dataTable['output_type'] = 'display_data';\n",
              "          await google.colab.output.renderOutput(dataTable, element);\n",
              "          const docLink = document.createElement('div');\n",
              "          docLink.innerHTML = docLinkHtml;\n",
              "          element.appendChild(docLink);\n",
              "        }\n",
              "      </script>\n",
              "    </div>\n",
              "  </div>\n",
              "  "
            ]
          },
          "metadata": {},
          "execution_count": 12
        }
      ],
      "source": [
        "News_data.head()\n"
      ]
    },
    {
      "cell_type": "code",
      "execution_count": null,
      "metadata": {
        "id": "Juym_0WekAOU"
      },
      "outputs": [],
      "source": [
        "# merging the text  and news title\n",
        "News_data['content'] = News_data['text']+' '+News_data['title']"
      ]
    },
    {
      "cell_type": "code",
      "execution_count": null,
      "metadata": {
        "id": "Uzrx16o5lyCc"
      },
      "outputs": [],
      "source": [
        "News_data=News_data.drop(['text','title'], axis=1)  # axis=1 to drop full column"
      ]
    },
    {
      "cell_type": "code",
      "execution_count": null,
      "metadata": {
        "colab": {
          "base_uri": "https://localhost:8080/",
          "height": 206
        },
        "id": "CvI-ZEgBl5dN",
        "outputId": "dbbb1f62-2711-4a3e-c176-cbda9c5b301c"
      },
      "outputs": [
        {
          "output_type": "execute_result",
          "data": {
            "text/plain": [
              "        subject  Label                                            content\n",
              "0  politicsNews      0  TBILISI (Reuters) - U.S. Vice President Mike P...\n",
              "1  politicsNews      0  NEW YORK (Reuters) - The use of the #NeverTrum...\n",
              "2      politics      1  OUR GOOD FRIENDS AT TEXAS BORDER VOLUNTEERS ar...\n",
              "3  politicsNews      0  WASHINGTON (Reuters) - A former CIA officer an...\n",
              "4     worldnews      0  ANKARA (Reuters) - Iran said on Tuesday U.S. P..."
            ],
            "text/html": [
              "\n",
              "  <div id=\"df-d941d5f9-177e-4c67-a77e-15d5c0356a88\">\n",
              "    <div class=\"colab-df-container\">\n",
              "      <div>\n",
              "<style scoped>\n",
              "    .dataframe tbody tr th:only-of-type {\n",
              "        vertical-align: middle;\n",
              "    }\n",
              "\n",
              "    .dataframe tbody tr th {\n",
              "        vertical-align: top;\n",
              "    }\n",
              "\n",
              "    .dataframe thead th {\n",
              "        text-align: right;\n",
              "    }\n",
              "</style>\n",
              "<table border=\"1\" class=\"dataframe\">\n",
              "  <thead>\n",
              "    <tr style=\"text-align: right;\">\n",
              "      <th></th>\n",
              "      <th>subject</th>\n",
              "      <th>Label</th>\n",
              "      <th>content</th>\n",
              "    </tr>\n",
              "  </thead>\n",
              "  <tbody>\n",
              "    <tr>\n",
              "      <th>0</th>\n",
              "      <td>politicsNews</td>\n",
              "      <td>0</td>\n",
              "      <td>TBILISI (Reuters) - U.S. Vice President Mike P...</td>\n",
              "    </tr>\n",
              "    <tr>\n",
              "      <th>1</th>\n",
              "      <td>politicsNews</td>\n",
              "      <td>0</td>\n",
              "      <td>NEW YORK (Reuters) - The use of the #NeverTrum...</td>\n",
              "    </tr>\n",
              "    <tr>\n",
              "      <th>2</th>\n",
              "      <td>politics</td>\n",
              "      <td>1</td>\n",
              "      <td>OUR GOOD FRIENDS AT TEXAS BORDER VOLUNTEERS ar...</td>\n",
              "    </tr>\n",
              "    <tr>\n",
              "      <th>3</th>\n",
              "      <td>politicsNews</td>\n",
              "      <td>0</td>\n",
              "      <td>WASHINGTON (Reuters) - A former CIA officer an...</td>\n",
              "    </tr>\n",
              "    <tr>\n",
              "      <th>4</th>\n",
              "      <td>worldnews</td>\n",
              "      <td>0</td>\n",
              "      <td>ANKARA (Reuters) - Iran said on Tuesday U.S. P...</td>\n",
              "    </tr>\n",
              "  </tbody>\n",
              "</table>\n",
              "</div>\n",
              "      <button class=\"colab-df-convert\" onclick=\"convertToInteractive('df-d941d5f9-177e-4c67-a77e-15d5c0356a88')\"\n",
              "              title=\"Convert this dataframe to an interactive table.\"\n",
              "              style=\"display:none;\">\n",
              "        \n",
              "  <svg xmlns=\"http://www.w3.org/2000/svg\" height=\"24px\"viewBox=\"0 0 24 24\"\n",
              "       width=\"24px\">\n",
              "    <path d=\"M0 0h24v24H0V0z\" fill=\"none\"/>\n",
              "    <path d=\"M18.56 5.44l.94 2.06.94-2.06 2.06-.94-2.06-.94-.94-2.06-.94 2.06-2.06.94zm-11 1L8.5 8.5l.94-2.06 2.06-.94-2.06-.94L8.5 2.5l-.94 2.06-2.06.94zm10 10l.94 2.06.94-2.06 2.06-.94-2.06-.94-.94-2.06-.94 2.06-2.06.94z\"/><path d=\"M17.41 7.96l-1.37-1.37c-.4-.4-.92-.59-1.43-.59-.52 0-1.04.2-1.43.59L10.3 9.45l-7.72 7.72c-.78.78-.78 2.05 0 2.83L4 21.41c.39.39.9.59 1.41.59.51 0 1.02-.2 1.41-.59l7.78-7.78 2.81-2.81c.8-.78.8-2.07 0-2.86zM5.41 20L4 18.59l7.72-7.72 1.47 1.35L5.41 20z\"/>\n",
              "  </svg>\n",
              "      </button>\n",
              "      \n",
              "  <style>\n",
              "    .colab-df-container {\n",
              "      display:flex;\n",
              "      flex-wrap:wrap;\n",
              "      gap: 12px;\n",
              "    }\n",
              "\n",
              "    .colab-df-convert {\n",
              "      background-color: #E8F0FE;\n",
              "      border: none;\n",
              "      border-radius: 50%;\n",
              "      cursor: pointer;\n",
              "      display: none;\n",
              "      fill: #1967D2;\n",
              "      height: 32px;\n",
              "      padding: 0 0 0 0;\n",
              "      width: 32px;\n",
              "    }\n",
              "\n",
              "    .colab-df-convert:hover {\n",
              "      background-color: #E2EBFA;\n",
              "      box-shadow: 0px 1px 2px rgba(60, 64, 67, 0.3), 0px 1px 3px 1px rgba(60, 64, 67, 0.15);\n",
              "      fill: #174EA6;\n",
              "    }\n",
              "\n",
              "    [theme=dark] .colab-df-convert {\n",
              "      background-color: #3B4455;\n",
              "      fill: #D2E3FC;\n",
              "    }\n",
              "\n",
              "    [theme=dark] .colab-df-convert:hover {\n",
              "      background-color: #434B5C;\n",
              "      box-shadow: 0px 1px 3px 1px rgba(0, 0, 0, 0.15);\n",
              "      filter: drop-shadow(0px 1px 2px rgba(0, 0, 0, 0.3));\n",
              "      fill: #FFFFFF;\n",
              "    }\n",
              "  </style>\n",
              "\n",
              "      <script>\n",
              "        const buttonEl =\n",
              "          document.querySelector('#df-d941d5f9-177e-4c67-a77e-15d5c0356a88 button.colab-df-convert');\n",
              "        buttonEl.style.display =\n",
              "          google.colab.kernel.accessAllowed ? 'block' : 'none';\n",
              "\n",
              "        async function convertToInteractive(key) {\n",
              "          const element = document.querySelector('#df-d941d5f9-177e-4c67-a77e-15d5c0356a88');\n",
              "          const dataTable =\n",
              "            await google.colab.kernel.invokeFunction('convertToInteractive',\n",
              "                                                     [key], {});\n",
              "          if (!dataTable) return;\n",
              "\n",
              "          const docLinkHtml = 'Like what you see? Visit the ' +\n",
              "            '<a target=\"_blank\" href=https://colab.research.google.com/notebooks/data_table.ipynb>data table notebook</a>'\n",
              "            + ' to learn more about interactive tables.';\n",
              "          element.innerHTML = '';\n",
              "          dataTable['output_type'] = 'display_data';\n",
              "          await google.colab.output.renderOutput(dataTable, element);\n",
              "          const docLink = document.createElement('div');\n",
              "          docLink.innerHTML = docLinkHtml;\n",
              "          element.appendChild(docLink);\n",
              "        }\n",
              "      </script>\n",
              "    </div>\n",
              "  </div>\n",
              "  "
            ]
          },
          "metadata": {},
          "execution_count": 15
        }
      ],
      "source": [
        "News_data.head()"
      ]
    },
    {
      "cell_type": "code",
      "execution_count": null,
      "metadata": {
        "colab": {
          "base_uri": "https://localhost:8080/",
          "height": 738
        },
        "id": "WbUojTECYoWw",
        "outputId": "17bc9f19-2b62-44d6-c296-0e396a686cbf"
      },
      "outputs": [
        {
          "output_type": "stream",
          "name": "stdout",
          "text": [
            "subject\n",
            "Government News     1570\n",
            "Middle-east          778\n",
            "News                9050\n",
            "US_News              783\n",
            "left-news           4459\n",
            "politics            6841\n",
            "politicsNews       11272\n",
            "worldnews          10145\n",
            "Name: content, dtype: int64\n"
          ]
        },
        {
          "output_type": "display_data",
          "data": {
            "text/plain": [
              "<Figure size 640x480 with 1 Axes>"
            ],
            "image/png": "[encoded data removed]"
          },
          "metadata": {}
        }
      ],
      "source": [
        "print(News_data.groupby(['subject'])['content'].count())\n",
        "News_data.groupby(['subject'])['content'].count().plot(kind ='bar')\n",
        "plt.show()"
      ]
    },
    {
      "cell_type": "code",
      "execution_count": null,
      "metadata": {
        "colab": {
          "base_uri": "https://localhost:8080/",
          "height": 244
        },
        "id": "wOqFK9GMYsaW",
        "outputId": "9a4724d5-4cb2-4b0f-b2d5-0646cfcedde4"
      },
      "outputs": [
        {
          "output_type": "error",
          "ename": "NameError",
          "evalue": "ignored",
          "traceback": [
            "\u001b[0;31m---------------------------------------------------------------------------\u001b[0m",
            "\u001b[0;31mNameError\u001b[0m                                 Traceback (most recent call last)",
            "\u001b[0;32m<ipython-input-3-ef45c3aafc49>\u001b[0m in \u001b[0;36m<cell line: 2>\u001b[0;34m()\u001b[0m\n\u001b[1;32m      1\u001b[0m \u001b[0mplt\u001b[0m\u001b[0;34m.\u001b[0m\u001b[0mfigure\u001b[0m\u001b[0;34m(\u001b[0m\u001b[0mfigsize\u001b[0m\u001b[0;34m=\u001b[0m\u001b[0;34m(\u001b[0m\u001b[0;36m10\u001b[0m\u001b[0;34m,\u001b[0m\u001b[0;36m6\u001b[0m\u001b[0;34m)\u001b[0m\u001b[0;34m)\u001b[0m\u001b[0;34m\u001b[0m\u001b[0;34m\u001b[0m\u001b[0m\n\u001b[0;32m----> 2\u001b[0;31m \u001b[0mprint\u001b[0m\u001b[0;34m(\u001b[0m\u001b[0mNews_data\u001b[0m\u001b[0;34m.\u001b[0m\u001b[0mgroupby\u001b[0m\u001b[0;34m(\u001b[0m\u001b[0;34m[\u001b[0m\u001b[0;34m'Label'\u001b[0m\u001b[0;34m]\u001b[0m\u001b[0;34m)\u001b[0m\u001b[0;34m[\u001b[0m\u001b[0;34m'content'\u001b[0m\u001b[0;34m]\u001b[0m\u001b[0;34m.\u001b[0m\u001b[0mcount\u001b[0m\u001b[0;34m(\u001b[0m\u001b[0;34m)\u001b[0m\u001b[0;34m)\u001b[0m\u001b[0;34m\u001b[0m\u001b[0;34m\u001b[0m\u001b[0m\n\u001b[0m\u001b[1;32m      3\u001b[0m \u001b[0mNews_data\u001b[0m\u001b[0;34m.\u001b[0m\u001b[0mgroupby\u001b[0m\u001b[0;34m(\u001b[0m\u001b[0;34m[\u001b[0m\u001b[0;34m'Label'\u001b[0m\u001b[0;34m]\u001b[0m\u001b[0;34m)\u001b[0m\u001b[0;34m[\u001b[0m\u001b[0;34m'content'\u001b[0m\u001b[0;34m]\u001b[0m\u001b[0;34m.\u001b[0m\u001b[0mcount\u001b[0m\u001b[0;34m(\u001b[0m\u001b[0;34m)\u001b[0m\u001b[0;34m.\u001b[0m\u001b[0mplot\u001b[0m\u001b[0;34m(\u001b[0m\u001b[0mkind\u001b[0m \u001b[0;34m=\u001b[0m\u001b[0;34m'bar'\u001b[0m\u001b[0;34m)\u001b[0m\u001b[0;34m\u001b[0m\u001b[0;34m\u001b[0m\u001b[0m\n\u001b[1;32m      4\u001b[0m \u001b[0mplt\u001b[0m\u001b[0;34m.\u001b[0m\u001b[0mshow\u001b[0m\u001b[0;34m(\u001b[0m\u001b[0;34m)\u001b[0m\u001b[0;34m\u001b[0m\u001b[0;34m\u001b[0m\u001b[0m\n",
            "\u001b[0;31mNameError\u001b[0m: name 'News_data' is not defined"
          ]
        },
        {
          "output_type": "display_data",
          "data": {
            "text/plain": [
              "<Figure size 1000x600 with 0 Axes>"
            ]
          },
          "metadata": {}
        }
      ],
      "source": [
        "print(News_data.groupby(['Label'])['content'].count())\n",
        "News_data.groupby(['Label'])['content'].count().plot(kind ='bar')\n",
        "plt.show()"
      ]
    },
    {
      "cell_type": "code",
      "execution_count": null,
      "metadata": {
        "colab": {
          "base_uri": "https://localhost:8080/",
          "height": 423
        },
        "id": "Hu-B3GQnY5Mt",
        "outputId": "fbee166b-ad59-4d72-b141-6f273db2af6f"
      },
      "outputs": [
        {
          "output_type": "execute_result",
          "data": {
            "text/plain": [
              "               subject                                            content\n",
              "0      Government News   We re going to have people who are bilingual ...\n",
              "1         politicsNews  WASHINGTON (Reuters) - U.S. President Donald T...\n",
              "2             politics  This is what happens when a nation puts libera...\n",
              "3             politics  This is what happens when you cross the Left. ...\n",
              "4                 News  Even Donald Trump s staunchest allies in the R...\n",
              "...                ...                                                ...\n",
              "44893     politicsNews  (Reuters) - Donald Trump is not expected to ma...\n",
              "44894      Middle-east  21st Century Wire says Just 24 hours after the...\n",
              "44895        worldnews  BEIJING (Reuters) - China s air force carried ...\n",
              "44896     politicsNews  SAN FRANCISCO (Reuters) - Christmas came early...\n",
              "44897        worldnews  BRASILIA (Reuters) - Brazil s Finance Minister...\n",
              "\n",
              "[44898 rows x 2 columns]"
            ],
            "text/html": [
              "\n",
              "  <div id=\"df-908c7474-b9da-4144-80e7-68682ce9b1d0\">\n",
              "    <div class=\"colab-df-container\">\n",
              "      <div>\n",
              "<style scoped>\n",
              "    .dataframe tbody tr th:only-of-type {\n",
              "        vertical-align: middle;\n",
              "    }\n",
              "\n",
              "    .dataframe tbody tr th {\n",
              "        vertical-align: top;\n",
              "    }\n",
              "\n",
              "    .dataframe thead th {\n",
              "        text-align: right;\n",
              "    }\n",
              "</style>\n",
              "<table border=\"1\" class=\"dataframe\">\n",
              "  <thead>\n",
              "    <tr style=\"text-align: right;\">\n",
              "      <th></th>\n",
              "      <th>subject</th>\n",
              "      <th>content</th>\n",
              "    </tr>\n",
              "  </thead>\n",
              "  <tbody>\n",
              "    <tr>\n",
              "      <th>0</th>\n",
              "      <td>Government News</td>\n",
              "      <td>We re going to have people who are bilingual ...</td>\n",
              "    </tr>\n",
              "    <tr>\n",
              "      <th>1</th>\n",
              "      <td>politicsNews</td>\n",
              "      <td>WASHINGTON (Reuters) - U.S. President Donald T...</td>\n",
              "    </tr>\n",
              "    <tr>\n",
              "      <th>2</th>\n",
              "      <td>politics</td>\n",
              "      <td>This is what happens when a nation puts libera...</td>\n",
              "    </tr>\n",
              "    <tr>\n",
              "      <th>3</th>\n",
              "      <td>politics</td>\n",
              "      <td>This is what happens when you cross the Left. ...</td>\n",
              "    </tr>\n",
              "    <tr>\n",
              "      <th>4</th>\n",
              "      <td>News</td>\n",
              "      <td>Even Donald Trump s staunchest allies in the R...</td>\n",
              "    </tr>\n",
              "    <tr>\n",
              "      <th>...</th>\n",
              "      <td>...</td>\n",
              "      <td>...</td>\n",
              "    </tr>\n",
              "    <tr>\n",
              "      <th>44893</th>\n",
              "      <td>politicsNews</td>\n",
              "      <td>(Reuters) - Donald Trump is not expected to ma...</td>\n",
              "    </tr>\n",
              "    <tr>\n",
              "      <th>44894</th>\n",
              "      <td>Middle-east</td>\n",
              "      <td>21st Century Wire says Just 24 hours after the...</td>\n",
              "    </tr>\n",
              "    <tr>\n",
              "      <th>44895</th>\n",
              "      <td>worldnews</td>\n",
              "      <td>BEIJING (Reuters) - China s air force carried ...</td>\n",
              "    </tr>\n",
              "    <tr>\n",
              "      <th>44896</th>\n",
              "      <td>politicsNews</td>\n",
              "      <td>SAN FRANCISCO (Reuters) - Christmas came early...</td>\n",
              "    </tr>\n",
              "    <tr>\n",
              "      <th>44897</th>\n",
              "      <td>worldnews</td>\n",
              "      <td>BRASILIA (Reuters) - Brazil s Finance Minister...</td>\n",
              "    </tr>\n",
              "  </tbody>\n",
              "</table>\n",
              "<p>44898 rows × 2 columns</p>\n",
              "</div>\n",
              "      <button class=\"colab-df-convert\" onclick=\"convertToInteractive('df-908c7474-b9da-4144-80e7-68682ce9b1d0')\"\n",
              "              title=\"Convert this dataframe to an interactive table.\"\n",
              "              style=\"display:none;\">\n",
              "        \n",
              "  <svg xmlns=\"http://www.w3.org/2000/svg\" height=\"24px\"viewBox=\"0 0 24 24\"\n",
              "       width=\"24px\">\n",
              "    <path d=\"M0 0h24v24H0V0z\" fill=\"none\"/>\n",
              "    <path d=\"M18.56 5.44l.94 2.06.94-2.06 2.06-.94-2.06-.94-.94-2.06-.94 2.06-2.06.94zm-11 1L8.5 8.5l.94-2.06 2.06-.94-2.06-.94L8.5 2.5l-.94 2.06-2.06.94zm10 10l.94 2.06.94-2.06 2.06-.94-2.06-.94-.94-2.06-.94 2.06-2.06.94z\"/><path d=\"M17.41 7.96l-1.37-1.37c-.4-.4-.92-.59-1.43-.59-.52 0-1.04.2-1.43.59L10.3 9.45l-7.72 7.72c-.78.78-.78 2.05 0 2.83L4 21.41c.39.39.9.59 1.41.59.51 0 1.02-.2 1.41-.59l7.78-7.78 2.81-2.81c.8-.78.8-2.07 0-2.86zM5.41 20L4 18.59l7.72-7.72 1.47 1.35L5.41 20z\"/>\n",
              "  </svg>\n",
              "      </button>\n",
              "      \n",
              "  <style>\n",
              "    .colab-df-container {\n",
              "      display:flex;\n",
              "      flex-wrap:wrap;\n",
              "      gap: 12px;\n",
              "    }\n",
              "\n",
              "    .colab-df-convert {\n",
              "      background-color: #E8F0FE;\n",
              "      border: none;\n",
              "      border-radius: 50%;\n",
              "      cursor: pointer;\n",
              "      display: none;\n",
              "      fill: #1967D2;\n",
              "      height: 32px;\n",
              "      padding: 0 0 0 0;\n",
              "      width: 32px;\n",
              "    }\n",
              "\n",
              "    .colab-df-convert:hover {\n",
              "      background-color: #E2EBFA;\n",
              "      box-shadow: 0px 1px 2px rgba(60, 64, 67, 0.3), 0px 1px 3px 1px rgba(60, 64, 67, 0.15);\n",
              "      fill: #174EA6;\n",
              "    }\n",
              "\n",
              "    [theme=dark] .colab-df-convert {\n",
              "      background-color: #3B4455;\n",
              "      fill: #D2E3FC;\n",
              "    }\n",
              "\n",
              "    [theme=dark] .colab-df-convert:hover {\n",
              "      background-color: #434B5C;\n",
              "      box-shadow: 0px 1px 3px 1px rgba(0, 0, 0, 0.15);\n",
              "      filter: drop-shadow(0px 1px 2px rgba(0, 0, 0, 0.3));\n",
              "      fill: #FFFFFF;\n",
              "    }\n",
              "  </style>\n",
              "\n",
              "      <script>\n",
              "        const buttonEl =\n",
              "          document.querySelector('#df-908c7474-b9da-4144-80e7-68682ce9b1d0 button.colab-df-convert');\n",
              "        buttonEl.style.display =\n",
              "          google.colab.kernel.accessAllowed ? 'block' : 'none';\n",
              "\n",
              "        async function convertToInteractive(key) {\n",
              "          const element = document.querySelector('#df-908c7474-b9da-4144-80e7-68682ce9b1d0');\n",
              "          const dataTable =\n",
              "            await google.colab.kernel.invokeFunction('convertToInteractive',\n",
              "                                                     [key], {});\n",
              "          if (!dataTable) return;\n",
              "\n",
              "          const docLinkHtml = 'Like what you see? Visit the ' +\n",
              "            '<a target=\"_blank\" href=https://colab.research.google.com/notebooks/data_table.ipynb>data table notebook</a>'\n",
              "            + ' to learn more about interactive tables.';\n",
              "          element.innerHTML = '';\n",
              "          dataTable['output_type'] = 'display_data';\n",
              "          await google.colab.output.renderOutput(dataTable, element);\n",
              "          const docLink = document.createElement('div');\n",
              "          docLink.innerHTML = docLinkHtml;\n",
              "          element.appendChild(docLink);\n",
              "        }\n",
              "      </script>\n",
              "    </div>\n",
              "  </div>\n",
              "  "
            ]
          },
          "metadata": {},
          "execution_count": 10
        }
      ],
      "source": [
        "#Seperating the data & label\n",
        "X = News_data.drop(columns='Label', axis=1)\n",
        "Y = News_data['Label']\n",
        "X"
      ]
    },
    {
      "cell_type": "code",
      "execution_count": null,
      "metadata": {
        "colab": {
          "base_uri": "https://localhost:8080/"
        },
        "id": "m5aWqEl6Y8Rz",
        "outputId": "7ee2d583-cdfd-40d8-ce82-d583aa2c8c9c"
      },
      "outputs": [
        {
          "output_type": "execute_result",
          "data": {
            "text/plain": [
              "0        1\n",
              "1        0\n",
              "2        1\n",
              "3        1\n",
              "4        0\n",
              "        ..\n",
              "44893    1\n",
              "44894    1\n",
              "44895    0\n",
              "44896    1\n",
              "44897    1\n",
              "Name: Label, Length: 44898, dtype: int64"
            ]
          },
          "metadata": {},
          "execution_count": 31
        }
      ],
      "source": [
        "Y"
      ]
    },
    {
      "cell_type": "code",
      "execution_count": null,
      "metadata": {
        "colab": {
          "base_uri": "https://localhost:8080/"
        },
        "id": "e_092z9xN2bd",
        "outputId": "e72698fa-592c-4d2c-e255-7a83be3686a5"
      },
      "outputs": [
        {
          "output_type": "stream",
          "name": "stderr",
          "text": [
            "[nltk_data] Downloading package stopwords to /root/nltk_data...\n",
            "[nltk_data]   Package stopwords is already up-to-date!\n"
          ]
        }
      ],
      "source": [
        "nltk.download('stopwords')\n",
        "stop = stopwords.words('english')\n",
        "News_data['content'] = News_data['content'].apply(lambda x: ' '.join([word for word in x.split() if word not in (stop)]))"
      ]
    },
    {
      "cell_type": "code",
      "execution_count": null,
      "metadata": {
        "colab": {
          "base_uri": "https://localhost:8080/",
          "height": 206
        },
        "id": "quiHf8PXMCO8",
        "outputId": "8d20f284-956c-4f21-d647-925b3426586e"
      },
      "outputs": [
        {
          "output_type": "execute_result",
          "data": {
            "text/plain": [
              "     subject  Label                                            content\n",
              "0       News      1  Canadian Prime Minister Justin Trudeau partici...\n",
              "1  worldnews      0  MOSCOW (Reuters) - North Korea s leadership ha...\n",
              "2       News      1  There are two things anyone with familiarity w...\n",
              "3       News      1  In a shocking turn of events, the Trump admini...\n",
              "4  worldnews      0  OSLO (Reuters) - The Russian helicopter that w..."
            ],
            "text/html": [
              "\n",
              "  <div id=\"df-46ebfc76-3095-470c-8f9c-aa60104a1a24\">\n",
              "    <div class=\"colab-df-container\">\n",
              "      <div>\n",
              "<style scoped>\n",
              "    .dataframe tbody tr th:only-of-type {\n",
              "        vertical-align: middle;\n",
              "    }\n",
              "\n",
              "    .dataframe tbody tr th {\n",
              "        vertical-align: top;\n",
              "    }\n",
              "\n",
              "    .dataframe thead th {\n",
              "        text-align: right;\n",
              "    }\n",
              "</style>\n",
              "<table border=\"1\" class=\"dataframe\">\n",
              "  <thead>\n",
              "    <tr style=\"text-align: right;\">\n",
              "      <th></th>\n",
              "      <th>subject</th>\n",
              "      <th>Label</th>\n",
              "      <th>content</th>\n",
              "    </tr>\n",
              "  </thead>\n",
              "  <tbody>\n",
              "    <tr>\n",
              "      <th>0</th>\n",
              "      <td>News</td>\n",
              "      <td>1</td>\n",
              "      <td>Canadian Prime Minister Justin Trudeau partici...</td>\n",
              "    </tr>\n",
              "    <tr>\n",
              "      <th>1</th>\n",
              "      <td>worldnews</td>\n",
              "      <td>0</td>\n",
              "      <td>MOSCOW (Reuters) - North Korea s leadership ha...</td>\n",
              "    </tr>\n",
              "    <tr>\n",
              "      <th>2</th>\n",
              "      <td>News</td>\n",
              "      <td>1</td>\n",
              "      <td>There are two things anyone with familiarity w...</td>\n",
              "    </tr>\n",
              "    <tr>\n",
              "      <th>3</th>\n",
              "      <td>News</td>\n",
              "      <td>1</td>\n",
              "      <td>In a shocking turn of events, the Trump admini...</td>\n",
              "    </tr>\n",
              "    <tr>\n",
              "      <th>4</th>\n",
              "      <td>worldnews</td>\n",
              "      <td>0</td>\n",
              "      <td>OSLO (Reuters) - The Russian helicopter that w...</td>\n",
              "    </tr>\n",
              "  </tbody>\n",
              "</table>\n",
              "</div>\n",
              "      <button class=\"colab-df-convert\" onclick=\"convertToInteractive('df-46ebfc76-3095-470c-8f9c-aa60104a1a24')\"\n",
              "              title=\"Convert this dataframe to an interactive table.\"\n",
              "              style=\"display:none;\">\n",
              "        \n",
              "  <svg xmlns=\"http://www.w3.org/2000/svg\" height=\"24px\"viewBox=\"0 0 24 24\"\n",
              "       width=\"24px\">\n",
              "    <path d=\"M0 0h24v24H0V0z\" fill=\"none\"/>\n",
              "    <path d=\"M18.56 5.44l.94 2.06.94-2.06 2.06-.94-2.06-.94-.94-2.06-.94 2.06-2.06.94zm-11 1L8.5 8.5l.94-2.06 2.06-.94-2.06-.94L8.5 2.5l-.94 2.06-2.06.94zm10 10l.94 2.06.94-2.06 2.06-.94-2.06-.94-.94-2.06-.94 2.06-2.06.94z\"/><path d=\"M17.41 7.96l-1.37-1.37c-.4-.4-.92-.59-1.43-.59-.52 0-1.04.2-1.43.59L10.3 9.45l-7.72 7.72c-.78.78-.78 2.05 0 2.83L4 21.41c.39.39.9.59 1.41.59.51 0 1.02-.2 1.41-.59l7.78-7.78 2.81-2.81c.8-.78.8-2.07 0-2.86zM5.41 20L4 18.59l7.72-7.72 1.47 1.35L5.41 20z\"/>\n",
              "  </svg>\n",
              "      </button>\n",
              "      \n",
              "  <style>\n",
              "    .colab-df-container {\n",
              "      display:flex;\n",
              "      flex-wrap:wrap;\n",
              "      gap: 12px;\n",
              "    }\n",
              "\n",
              "    .colab-df-convert {\n",
              "      background-color: #E8F0FE;\n",
              "      border: none;\n",
              "      border-radius: 50%;\n",
              "      cursor: pointer;\n",
              "      display: none;\n",
              "      fill: #1967D2;\n",
              "      height: 32px;\n",
              "      padding: 0 0 0 0;\n",
              "      width: 32px;\n",
              "    }\n",
              "\n",
              "    .colab-df-convert:hover {\n",
              "      background-color: #E2EBFA;\n",
              "      box-shadow: 0px 1px 2px rgba(60, 64, 67, 0.3), 0px 1px 3px 1px rgba(60, 64, 67, 0.15);\n",
              "      fill: #174EA6;\n",
              "    }\n",
              "\n",
              "    [theme=dark] .colab-df-convert {\n",
              "      background-color: #3B4455;\n",
              "      fill: #D2E3FC;\n",
              "    }\n",
              "\n",
              "    [theme=dark] .colab-df-convert:hover {\n",
              "      background-color: #434B5C;\n",
              "      box-shadow: 0px 1px 3px 1px rgba(0, 0, 0, 0.15);\n",
              "      filter: drop-shadow(0px 1px 2px rgba(0, 0, 0, 0.3));\n",
              "      fill: #FFFFFF;\n",
              "    }\n",
              "  </style>\n",
              "\n",
              "      <script>\n",
              "        const buttonEl =\n",
              "          document.querySelector('#df-46ebfc76-3095-470c-8f9c-aa60104a1a24 button.colab-df-convert');\n",
              "        buttonEl.style.display =\n",
              "          google.colab.kernel.accessAllowed ? 'block' : 'none';\n",
              "\n",
              "        async function convertToInteractive(key) {\n",
              "          const element = document.querySelector('#df-46ebfc76-3095-470c-8f9c-aa60104a1a24');\n",
              "          const dataTable =\n",
              "            await google.colab.kernel.invokeFunction('convertToInteractive',\n",
              "                                                     [key], {});\n",
              "          if (!dataTable) return;\n",
              "\n",
              "          const docLinkHtml = 'Like what you see? Visit the ' +\n",
              "            '<a target=\"_blank\" href=https://colab.research.google.com/notebooks/data_table.ipynb>data table notebook</a>'\n",
              "            + ' to learn more about interactive tables.';\n",
              "          element.innerHTML = '';\n",
              "          dataTable['output_type'] = 'display_data';\n",
              "          await google.colab.output.renderOutput(dataTable, element);\n",
              "          const docLink = document.createElement('div');\n",
              "          docLink.innerHTML = docLinkHtml;\n",
              "          element.appendChild(docLink);\n",
              "        }\n",
              "      </script>\n",
              "    </div>\n",
              "  </div>\n",
              "  "
            ]
          },
          "metadata": {},
          "execution_count": 32
        }
      ],
      "source": [
        "News_data.head()"
      ]
    },
    {
      "cell_type": "code",
      "execution_count": null,
      "metadata": {
        "id": "-zwQ7GP_L-pZ"
      },
      "outputs": [],
      "source": [
        "# Remove punctuation\n",
        "def punctuation_removal(text):\n",
        "    all_list = [char for char in text if char not in string.punctuation]\n",
        "    clean_str = ''.join(all_list)\n",
        "    return clean_str\n",
        "\n",
        "News_data['content'] = News_data['content'].apply(punctuation_removal)"
      ]
    },
    {
      "cell_type": "code",
      "execution_count": null,
      "metadata": {
        "colab": {
          "base_uri": "https://localhost:8080/",
          "height": 206
        },
        "id": "u1c3-C0_ZEhh",
        "outputId": "b2f78e8f-54f8-4a90-81d0-d2c8e92c5dce"
      },
      "outputs": [
        {
          "output_type": "execute_result",
          "data": {
            "text/plain": [
              "     subject  Label                                            content\n",
              "0       News      1  Canadian Prime Minister Justin Trudeau partici...\n",
              "1  worldnews      0  MOSCOW Reuters  North Korea s leadership has t...\n",
              "2       News      1  There are two things anyone with familiarity w...\n",
              "3       News      1  In a shocking turn of events the Trump adminis...\n",
              "4  worldnews      0  OSLO Reuters  The Russian helicopter that went..."
            ],
            "text/html": [
              "\n",
              "  <div id=\"df-97a068d6-7c9c-4edb-bd0b-b4485236e456\">\n",
              "    <div class=\"colab-df-container\">\n",
              "      <div>\n",
              "<style scoped>\n",
              "    .dataframe tbody tr th:only-of-type {\n",
              "        vertical-align: middle;\n",
              "    }\n",
              "\n",
              "    .dataframe tbody tr th {\n",
              "        vertical-align: top;\n",
              "    }\n",
              "\n",
              "    .dataframe thead th {\n",
              "        text-align: right;\n",
              "    }\n",
              "</style>\n",
              "<table border=\"1\" class=\"dataframe\">\n",
              "  <thead>\n",
              "    <tr style=\"text-align: right;\">\n",
              "      <th></th>\n",
              "      <th>subject</th>\n",
              "      <th>Label</th>\n",
              "      <th>content</th>\n",
              "    </tr>\n",
              "  </thead>\n",
              "  <tbody>\n",
              "    <tr>\n",
              "      <th>0</th>\n",
              "      <td>News</td>\n",
              "      <td>1</td>\n",
              "      <td>Canadian Prime Minister Justin Trudeau partici...</td>\n",
              "    </tr>\n",
              "    <tr>\n",
              "      <th>1</th>\n",
              "      <td>worldnews</td>\n",
              "      <td>0</td>\n",
              "      <td>MOSCOW Reuters  North Korea s leadership has t...</td>\n",
              "    </tr>\n",
              "    <tr>\n",
              "      <th>2</th>\n",
              "      <td>News</td>\n",
              "      <td>1</td>\n",
              "      <td>There are two things anyone with familiarity w...</td>\n",
              "    </tr>\n",
              "    <tr>\n",
              "      <th>3</th>\n",
              "      <td>News</td>\n",
              "      <td>1</td>\n",
              "      <td>In a shocking turn of events the Trump adminis...</td>\n",
              "    </tr>\n",
              "    <tr>\n",
              "      <th>4</th>\n",
              "      <td>worldnews</td>\n",
              "      <td>0</td>\n",
              "      <td>OSLO Reuters  The Russian helicopter that went...</td>\n",
              "    </tr>\n",
              "  </tbody>\n",
              "</table>\n",
              "</div>\n",
              "      <button class=\"colab-df-convert\" onclick=\"convertToInteractive('df-97a068d6-7c9c-4edb-bd0b-b4485236e456')\"\n",
              "              title=\"Convert this dataframe to an interactive table.\"\n",
              "              style=\"display:none;\">\n",
              "        \n",
              "  <svg xmlns=\"http://www.w3.org/2000/svg\" height=\"24px\"viewBox=\"0 0 24 24\"\n",
              "       width=\"24px\">\n",
              "    <path d=\"M0 0h24v24H0V0z\" fill=\"none\"/>\n",
              "    <path d=\"M18.56 5.44l.94 2.06.94-2.06 2.06-.94-2.06-.94-.94-2.06-.94 2.06-2.06.94zm-11 1L8.5 8.5l.94-2.06 2.06-.94-2.06-.94L8.5 2.5l-.94 2.06-2.06.94zm10 10l.94 2.06.94-2.06 2.06-.94-2.06-.94-.94-2.06-.94 2.06-2.06.94z\"/><path d=\"M17.41 7.96l-1.37-1.37c-.4-.4-.92-.59-1.43-.59-.52 0-1.04.2-1.43.59L10.3 9.45l-7.72 7.72c-.78.78-.78 2.05 0 2.83L4 21.41c.39.39.9.59 1.41.59.51 0 1.02-.2 1.41-.59l7.78-7.78 2.81-2.81c.8-.78.8-2.07 0-2.86zM5.41 20L4 18.59l7.72-7.72 1.47 1.35L5.41 20z\"/>\n",
              "  </svg>\n",
              "      </button>\n",
              "      \n",
              "  <style>\n",
              "    .colab-df-container {\n",
              "      display:flex;\n",
              "      flex-wrap:wrap;\n",
              "      gap: 12px;\n",
              "    }\n",
              "\n",
              "    .colab-df-convert {\n",
              "      background-color: #E8F0FE;\n",
              "      border: none;\n",
              "      border-radius: 50%;\n",
              "      cursor: pointer;\n",
              "      display: none;\n",
              "      fill: #1967D2;\n",
              "      height: 32px;\n",
              "      padding: 0 0 0 0;\n",
              "      width: 32px;\n",
              "    }\n",
              "\n",
              "    .colab-df-convert:hover {\n",
              "      background-color: #E2EBFA;\n",
              "      box-shadow: 0px 1px 2px rgba(60, 64, 67, 0.3), 0px 1px 3px 1px rgba(60, 64, 67, 0.15);\n",
              "      fill: #174EA6;\n",
              "    }\n",
              "\n",
              "    [theme=dark] .colab-df-convert {\n",
              "      background-color: #3B4455;\n",
              "      fill: #D2E3FC;\n",
              "    }\n",
              "\n",
              "    [theme=dark] .colab-df-convert:hover {\n",
              "      background-color: #434B5C;\n",
              "      box-shadow: 0px 1px 3px 1px rgba(0, 0, 0, 0.15);\n",
              "      filter: drop-shadow(0px 1px 2px rgba(0, 0, 0, 0.3));\n",
              "      fill: #FFFFFF;\n",
              "    }\n",
              "  </style>\n",
              "\n",
              "      <script>\n",
              "        const buttonEl =\n",
              "          document.querySelector('#df-97a068d6-7c9c-4edb-bd0b-b4485236e456 button.colab-df-convert');\n",
              "        buttonEl.style.display =\n",
              "          google.colab.kernel.accessAllowed ? 'block' : 'none';\n",
              "\n",
              "        async function convertToInteractive(key) {\n",
              "          const element = document.querySelector('#df-97a068d6-7c9c-4edb-bd0b-b4485236e456');\n",
              "          const dataTable =\n",
              "            await google.colab.kernel.invokeFunction('convertToInteractive',\n",
              "                                                     [key], {});\n",
              "          if (!dataTable) return;\n",
              "\n",
              "          const docLinkHtml = 'Like what you see? Visit the ' +\n",
              "            '<a target=\"_blank\" href=https://colab.research.google.com/notebooks/data_table.ipynb>data table notebook</a>'\n",
              "            + ' to learn more about interactive tables.';\n",
              "          element.innerHTML = '';\n",
              "          dataTable['output_type'] = 'display_data';\n",
              "          await google.colab.output.renderOutput(dataTable, element);\n",
              "          const docLink = document.createElement('div');\n",
              "          docLink.innerHTML = docLinkHtml;\n",
              "          element.appendChild(docLink);\n",
              "        }\n",
              "      </script>\n",
              "    </div>\n",
              "  </div>\n",
              "  "
            ]
          },
          "metadata": {},
          "execution_count": 34
        }
      ],
      "source": [
        "News_data.head()"
      ]
    },
    {
      "cell_type": "code",
      "execution_count": null,
      "metadata": {
        "id": "mBd4x9CTMIIK"
      },
      "outputs": [],
      "source": [
        "#Converting to lowercase the text\n",
        "News_data['content'] = News_data['content'].apply(lambda x: x.lower())"
      ]
    },
    {
      "cell_type": "code",
      "execution_count": null,
      "metadata": {
        "colab": {
          "base_uri": "https://localhost:8080/",
          "height": 206
        },
        "id": "_2-MBs7qMTaP",
        "outputId": "2995b21c-f8aa-4353-e48a-ebac78bc750e"
      },
      "outputs": [
        {
          "output_type": "execute_result",
          "data": {
            "text/plain": [
              "        subject                date  Label  \\\n",
              "0     left-news        Jan 29, 2017      1   \n",
              "1     worldnews  November 22, 2017       0   \n",
              "2  politicsNews   November 7, 2016       0   \n",
              "3      politics        Nov 10, 2017      1   \n",
              "4      politics         Apr 4, 2017      1   \n",
              "\n",
              "                                             content  \n",
              "0  while lying media perpetuating lie refugees po...  \n",
              "1  sochi russia reuters  turkey iran russia agree...  \n",
              "2  reuters  hillary clinton’s signature colorful ...  \n",
              "3  oscarwinning actress sandra bullock set play w...  \n",
              "4  with senate republicans poised use nuclear opt...  "
            ],
            "text/html": [
              "\n",
              "  <div id=\"df-e29af39f-8d80-46b9-b109-a6b1260d43af\">\n",
              "    <div class=\"colab-df-container\">\n",
              "      <div>\n",
              "<style scoped>\n",
              "    .dataframe tbody tr th:only-of-type {\n",
              "        vertical-align: middle;\n",
              "    }\n",
              "\n",
              "    .dataframe tbody tr th {\n",
              "        vertical-align: top;\n",
              "    }\n",
              "\n",
              "    .dataframe thead th {\n",
              "        text-align: right;\n",
              "    }\n",
              "</style>\n",
              "<table border=\"1\" class=\"dataframe\">\n",
              "  <thead>\n",
              "    <tr style=\"text-align: right;\">\n",
              "      <th></th>\n",
              "      <th>subject</th>\n",
              "      <th>date</th>\n",
              "      <th>Label</th>\n",
              "      <th>content</th>\n",
              "    </tr>\n",
              "  </thead>\n",
              "  <tbody>\n",
              "    <tr>\n",
              "      <th>0</th>\n",
              "      <td>left-news</td>\n",
              "      <td>Jan 29, 2017</td>\n",
              "      <td>1</td>\n",
              "      <td>while lying media perpetuating lie refugees po...</td>\n",
              "    </tr>\n",
              "    <tr>\n",
              "      <th>1</th>\n",
              "      <td>worldnews</td>\n",
              "      <td>November 22, 2017</td>\n",
              "      <td>0</td>\n",
              "      <td>sochi russia reuters  turkey iran russia agree...</td>\n",
              "    </tr>\n",
              "    <tr>\n",
              "      <th>2</th>\n",
              "      <td>politicsNews</td>\n",
              "      <td>November 7, 2016</td>\n",
              "      <td>0</td>\n",
              "      <td>reuters  hillary clinton’s signature colorful ...</td>\n",
              "    </tr>\n",
              "    <tr>\n",
              "      <th>3</th>\n",
              "      <td>politics</td>\n",
              "      <td>Nov 10, 2017</td>\n",
              "      <td>1</td>\n",
              "      <td>oscarwinning actress sandra bullock set play w...</td>\n",
              "    </tr>\n",
              "    <tr>\n",
              "      <th>4</th>\n",
              "      <td>politics</td>\n",
              "      <td>Apr 4, 2017</td>\n",
              "      <td>1</td>\n",
              "      <td>with senate republicans poised use nuclear opt...</td>\n",
              "    </tr>\n",
              "  </tbody>\n",
              "</table>\n",
              "</div>\n",
              "      <button class=\"colab-df-convert\" onclick=\"convertToInteractive('df-e29af39f-8d80-46b9-b109-a6b1260d43af')\"\n",
              "              title=\"Convert this dataframe to an interactive table.\"\n",
              "              style=\"display:none;\">\n",
              "        \n",
              "  <svg xmlns=\"http://www.w3.org/2000/svg\" height=\"24px\"viewBox=\"0 0 24 24\"\n",
              "       width=\"24px\">\n",
              "    <path d=\"M0 0h24v24H0V0z\" fill=\"none\"/>\n",
              "    <path d=\"M18.56 5.44l.94 2.06.94-2.06 2.06-.94-2.06-.94-.94-2.06-.94 2.06-2.06.94zm-11 1L8.5 8.5l.94-2.06 2.06-.94-2.06-.94L8.5 2.5l-.94 2.06-2.06.94zm10 10l.94 2.06.94-2.06 2.06-.94-2.06-.94-.94-2.06-.94 2.06-2.06.94z\"/><path d=\"M17.41 7.96l-1.37-1.37c-.4-.4-.92-.59-1.43-.59-.52 0-1.04.2-1.43.59L10.3 9.45l-7.72 7.72c-.78.78-.78 2.05 0 2.83L4 21.41c.39.39.9.59 1.41.59.51 0 1.02-.2 1.41-.59l7.78-7.78 2.81-2.81c.8-.78.8-2.07 0-2.86zM5.41 20L4 18.59l7.72-7.72 1.47 1.35L5.41 20z\"/>\n",
              "  </svg>\n",
              "      </button>\n",
              "      \n",
              "  <style>\n",
              "    .colab-df-container {\n",
              "      display:flex;\n",
              "      flex-wrap:wrap;\n",
              "      gap: 12px;\n",
              "    }\n",
              "\n",
              "    .colab-df-convert {\n",
              "      background-color: #E8F0FE;\n",
              "      border: none;\n",
              "      border-radius: 50%;\n",
              "      cursor: pointer;\n",
              "      display: none;\n",
              "      fill: #1967D2;\n",
              "      height: 32px;\n",
              "      padding: 0 0 0 0;\n",
              "      width: 32px;\n",
              "    }\n",
              "\n",
              "    .colab-df-convert:hover {\n",
              "      background-color: #E2EBFA;\n",
              "      box-shadow: 0px 1px 2px rgba(60, 64, 67, 0.3), 0px 1px 3px 1px rgba(60, 64, 67, 0.15);\n",
              "      fill: #174EA6;\n",
              "    }\n",
              "\n",
              "    [theme=dark] .colab-df-convert {\n",
              "      background-color: #3B4455;\n",
              "      fill: #D2E3FC;\n",
              "    }\n",
              "\n",
              "    [theme=dark] .colab-df-convert:hover {\n",
              "      background-color: #434B5C;\n",
              "      box-shadow: 0px 1px 3px 1px rgba(0, 0, 0, 0.15);\n",
              "      filter: drop-shadow(0px 1px 2px rgba(0, 0, 0, 0.3));\n",
              "      fill: #FFFFFF;\n",
              "    }\n",
              "  </style>\n",
              "\n",
              "      <script>\n",
              "        const buttonEl =\n",
              "          document.querySelector('#df-e29af39f-8d80-46b9-b109-a6b1260d43af button.colab-df-convert');\n",
              "        buttonEl.style.display =\n",
              "          google.colab.kernel.accessAllowed ? 'block' : 'none';\n",
              "\n",
              "        async function convertToInteractive(key) {\n",
              "          const element = document.querySelector('#df-e29af39f-8d80-46b9-b109-a6b1260d43af');\n",
              "          const dataTable =\n",
              "            await google.colab.kernel.invokeFunction('convertToInteractive',\n",
              "                                                     [key], {});\n",
              "          if (!dataTable) return;\n",
              "\n",
              "          const docLinkHtml = 'Like what you see? Visit the ' +\n",
              "            '<a target=\"_blank\" href=https://colab.research.google.com/notebooks/data_table.ipynb>data table notebook</a>'\n",
              "            + ' to learn more about interactive tables.';\n",
              "          element.innerHTML = '';\n",
              "          dataTable['output_type'] = 'display_data';\n",
              "          await google.colab.output.renderOutput(dataTable, element);\n",
              "          const docLink = document.createElement('div');\n",
              "          docLink.innerHTML = docLinkHtml;\n",
              "          element.appendChild(docLink);\n",
              "        }\n",
              "      </script>\n",
              "    </div>\n",
              "  </div>\n",
              "  "
            ]
          },
          "metadata": {},
          "execution_count": 20
        }
      ],
      "source": [
        "News_data.head()"
      ]
    },
    {
      "cell_type": "code",
      "execution_count": null,
      "metadata": {
        "id": "x6RcxOR0ZXZL"
      },
      "outputs": [],
      "source": [
        "X = News_data['content'].values\n",
        "Y = News_data['Label'].values"
      ]
    },
    {
      "cell_type": "code",
      "execution_count": null,
      "metadata": {
        "colab": {
          "base_uri": "https://localhost:8080/"
        },
        "id": "WEKTe5aCZa7w",
        "outputId": "7047da9e-60b0-4ad2-e8e9-99b7225df32d"
      },
      "outputs": [
        {
          "output_type": "execute_result",
          "data": {
            "text/plain": [
              "(44898,)"
            ]
          },
          "metadata": {},
          "execution_count": 22
        }
      ],
      "source": [
        "Y.shape"
      ]
    },
    {
      "cell_type": "code",
      "execution_count": null,
      "metadata": {
        "id": "cCV4g3YxZa1h"
      },
      "outputs": [],
      "source": [
        "#Converting textual data to numerical for feature extraction\n",
        "vectorizer = TfidfVectorizer()\n",
        "X_vectorize= vectorizer.fit_transform(X)"
      ]
    },
    {
      "cell_type": "code",
      "execution_count": null,
      "metadata": {
        "colab": {
          "base_uri": "https://localhost:8080/"
        },
        "id": "QcXdQxjNgeZw",
        "outputId": "76da3661-939a-4c81-c1d3-7b2a6e3401c3"
      },
      "outputs": [
        {
          "name": "stdout",
          "output_type": "stream",
          "text": [
            "  (0, 129418)\t0.06995330192098126\n",
            "  (0, 15593)\t0.09781651824618062\n",
            "  (0, 213810)\t0.0506427565013706\n",
            "  (0, 146059)\t0.11292843113589845\n",
            "  (0, 107028)\t0.06817715411573276\n",
            "  (0, 168457)\t0.053880230693884\n",
            "  (0, 110759)\t0.07039136784961655\n",
            "  (0, 195753)\t0.07253647224956039\n",
            "  (0, 204817)\t0.03561268333499295\n",
            "  (0, 55511)\t0.05939929099645319\n",
            "  (0, 63674)\t0.06989390602366649\n",
            "  (0, 180845)\t0.05631440254207967\n",
            "  (0, 110731)\t0.08737913572922809\n",
            "  (0, 79486)\t0.12771962170871898\n",
            "  (0, 104967)\t0.0698642992042194\n",
            "  (0, 160353)\t0.14362503342978072\n",
            "  (0, 205343)\t0.2789201003111967\n",
            "  (0, 18787)\t0.06551563255186439\n",
            "  (0, 19876)\t0.08463250403675028\n",
            "  (0, 26817)\t0.09454518122914096\n",
            "  (0, 90400)\t0.06034850409305753\n",
            "  (0, 225185)\t0.035334944390886164\n",
            "  (0, 210231)\t0.0324983141520448\n",
            "  (0, 148851)\t0.047913915982565454\n",
            "  (0, 20306)\t0.06634960003970172\n",
            "  :\t:\n",
            "  (44897, 51280)\t0.022165310421647526\n",
            "  (44897, 15110)\t0.02870549994501651\n",
            "  (44897, 223742)\t0.012149573776923875\n",
            "  (44897, 112518)\t0.02382649473681357\n",
            "  (44897, 172094)\t0.017210492708894153\n",
            "  (44897, 168457)\t0.05396274807773784\n",
            "  (44897, 210231)\t0.01627404260294899\n",
            "  (44897, 46405)\t0.03344380022757129\n",
            "  (44897, 40492)\t0.018141774228933333\n",
            "  (44897, 161376)\t0.038062468611341306\n",
            "  (44897, 137159)\t0.02938987290835379\n",
            "  (44897, 177962)\t0.04785341966780519\n",
            "  (44897, 116620)\t0.023581239782097498\n",
            "  (44897, 201203)\t0.009047604030692526\n",
            "  (44897, 179973)\t0.019096308438987974\n",
            "  (44897, 42333)\t0.03066766938646186\n",
            "  (44897, 80208)\t0.025664873028227484\n",
            "  (44897, 213483)\t0.06107146551891509\n",
            "  (44897, 107629)\t0.012526093141752386\n",
            "  (44897, 19652)\t0.023712990248170727\n",
            "  (44897, 192378)\t0.01580726280758756\n",
            "  (44897, 122860)\t0.03482854909584448\n",
            "  (44897, 207883)\t0.024548208185567435\n",
            "  (44897, 65137)\t0.013709108070434285\n",
            "  (44897, 173533)\t0.012546179831166293\n"
          ]
        }
      ],
      "source": [
        "print(X_vectorize)"
      ]
    },
    {
      "cell_type": "code",
      "execution_count": null,
      "metadata": {
        "id": "mUD4OGtveyn8"
      },
      "outputs": [],
      "source": [
        "#Feature Selection\n",
        "selector= SelectKBest(chi2, k=1000)\n",
        "X_select = selector.fit_transform(X_vectorize,Y)"
      ]
    },
    {
      "cell_type": "code",
      "execution_count": null,
      "metadata": {
        "colab": {
          "base_uri": "https://localhost:8080/"
        },
        "id": "x3vRxxkxd7Sy",
        "outputId": "657ba75c-05ed-43d9-92c4-3b7f3bf26b75"
      },
      "outputs": [
        {
          "name": "stdout",
          "output_type": "stream",
          "text": [
            "Selected features: ['2017realdonaldtrump' '2017the' '2018' '2019' '21st' '21wire' '21wiretv'\n",
            " '911' 'abadi' 'abbas' 'abe' 'about' 'absolutely' 'accord' 'acr' 'actual'\n",
            " 'actually' 'ad' 'added' 'adding' 'administration' 'adviser' 'afd'\n",
            " 'afghan' 'afghanistan' 'africa' 'after' 'again' 'against' 'agency'\n",
            " 'agreed' 'agreement' 'ahead' 'aid' 'aimed' 'air' 'aircraft' 'alex'\n",
            " 'alien' 'aliens' 'all' 'allegations' 'alliance' 'allies' 'ally'\n",
            " 'alternate' 'alzor' 'amazing' 'ambassador' 'america' 'american'\n",
            " 'americans' 'amid' 'analysts' 'anc' 'and' 'angry' 'animals' 'ankara'\n",
            " 'anonymity' 'answer' 'anticorruption' 'antifa' 'antitrump' 'anyone'\n",
            " 'anything' 'apparently' 'appeals' 'appears' 'approved' 'arab' 'arabia'\n",
            " 'are' 'areas' 'army' 'as' 'asia' 'ass' 'assange' 'assembly' 'at' 'aug'\n",
            " 'australia' 'authorities' 'awesome' 'babis' 'baby' 'backed' 'bad'\n",
            " 'baghdad' 'ballistic' 'baltimore' 'ban' 'bangladesh' 'bank' 'barcelona'\n",
            " 'barnier' 'barzani' 'basically' 'be' 'because' 'beijing' 'being' 'beirut'\n",
            " 'believe' 'below' 'belowfeatured' 'benghazi' 'berlin' 'bernie' 'best'\n",
            " 'bid' 'bigoted' 'bilateral' 'billion' 'bizarre' 'black' 'blacks' 'bloc'\n",
            " 'boiler' 'bombshell' 'book' 'boost' 'border' 'boy' 'brave' 'brazil'\n",
            " 'breaking' 'breitbart' 'brexit' 'briefing' 'brilliant' 'britain'\n",
            " 'british' 'broadcaster' 'brussels' 'budget' 'bunch' 'bundy' 'by'\n",
            " 'cabinet' 'cairo' 'caller' 'cambodia' 'campus' 'capital' 'capture' 'care'\n",
            " 'carlson' 'carson' 'catalan' 'catalonia' 'caught' 'cdata' 'central'\n",
            " 'century' 'chairman' 'chamber' 'chancellor' 'changes' 'chief' 'child'\n",
            " 'china' 'chinese' 'citing' 'civilians' 'claim' 'claiming' 'claims'\n",
            " 'clashes' 'clearly' 'clinton' 'clip' 'cnn' 'coalition' 'colbert'\n",
            " 'college' 'colombia' 'color' 'comment' 'commission' 'committee'\n",
            " 'companies' 'completely' 'concerns' 'confederate' 'conference'\n",
            " 'confirmation' 'conflict' 'congo' 'congress' 'congressional' 'conspiracy'\n",
            " 'conway' 'cooperation' 'cop' 'cops' 'corker' 'corp' 'corrects'\n",
            " 'corruption' 'coulter' 'council' 'counterpart' 'countries' 'coup'\n",
            " 'course' 'court' 'crackdown' 'crazy' 'crisis' 'criticized' 'crooked'\n",
            " 'crowd' 'cruz' 'cuba' 'currency' 'cyber' 'dad' 'daily' 'damn' 'dc' 'deal'\n",
            " 'debt' 'dec' 'decision' 'declined' 'defence' 'defense' 'deficit' 'deir'\n",
            " 'delegation' 'democratic' 'denied' 'denies' 'deputy' 'destroys'\n",
            " 'detained' 'detention' 'development' 'dialogue' 'did' 'diplomat'\n",
            " 'diplomatic' 'diplomats' 'discuss' 'discussed' 'discussions' 'disgusting'\n",
            " 'dispute' 'disputed' 'disturbing' 'dnc' 'do' 'does' 'doj' 'down' 'dr'\n",
            " 'draft' 'dubai' 'duterte' 'earlier' 'east' 'eastern' 'economic' 'economy'\n",
            " 'edt' 'efforts' 'egypt' 'egyptian' 'election' 'elections' 'else'\n",
            " 'embassy' 'emmanuel' 'energy' 'entire' 'envoy' 'epic' 'episode' 'erdogan'\n",
            " 'ethnic' 'eu' 'euro' 'europe' 'european' 'euros' 'even' 'ever' 'every'\n",
            " 'everyone' 'everything' 'evil' 'exactly' 'expected' 'explained'\n",
            " 'explains' 'exports' 'exposes' 'expressed' 'facebook' 'fact' 'factbox'\n",
            " 'facts' 'fake' 'family' 'fans' 'fbi' 'fck' 'fdp' 'featured' 'feel'\n",
            " 'female' 'fighters' 'files' 'filessupport' 'film' 'finally' 'finance'\n",
            " 'financial' 'firms' 'fiscal' 'flag' 'flickr' 'flights' 'for' 'forces'\n",
            " 'foreign' 'forget' 'formally' 'former' 'fox' 'fpo' 'france' 'french'\n",
            " 'friday' 'friends' 'from' 'fuel' 'fun' 'funding' 'funny' 'gas' 'gateway'\n",
            " 'gaza' 'geneva' 'german' 'germany' 'get' 'gets' 'getting' 'getty' 'girl'\n",
            " 'girls' 'gmt' 'go' 'god' 'goes' 'going' 'gonna' 'good' 'gop' 'got' 'gov'\n",
            " 'government' 'governor' 'graft' 'great' 'greens' 'groups' 'growth'\n",
            " 'guess' 'guest' 'gulen' 'gulf' 'gun' 'guns' 'guy' 'guys' 'hannity'\n",
            " 'happened' 'harare' 'hariri' 'has' 'hate' 'hateful' 'hates' 'have' 'he'\n",
            " 'healthcare' 'hell' 'henningsen' 'her' 'here' 'hesher' 'hey' 'hezbollah'\n",
            " 'hilarious' 'hillary' 'him' 'himself' 'his' 'history' 'hollywood' 'hong'\n",
            " 'hoped' 'horrible' 'horrific' 'host' 'hosts' 'house' 'houthis' 'how'\n",
            " 'humanitarian' 'hun' 'hypocrisy' 'hysterical' 'id' 'if' 'illegals'\n",
            " 'image' 'images' 'imports' 'impose' 'imposed' 'inc' 'including'\n",
            " 'independence' 'independently' 'india' 'indonesia' 'industry' 'innocent'\n",
            " 'insane' 'instead' 'insurers' 'insurgency' 'insurgents' 'interesting'\n",
            " 'interfax' 'interior' 'international' 'into' 'investment' 'investors'\n",
            " 'iran' 'iraq' 'iraqi' 'ireland' 'irish' 'irma' 'is' 'isis' 'islamic'\n",
            " 'islamist' 'island' 'islands' 'israel' 'israeli' 'istanbul' 'it' 'italy'\n",
            " 'ite' 'ivanka' 'jan' 'japan' 'japanese' 'jeanine' 'jerusalem' 'jinping'\n",
            " 'joe' 'joint' 'joke' 'js' 'juncker' 'just' 'kabul' 'kellyanne' 'kenyatta'\n",
            " 'kid' 'kids' 'kiev' 'killed' 'kirkuk' 'kkk' 'km' 'knew' 'know' 'knows'\n",
            " 'kong' 'korea' 'korean' 'kremlin' 'krg' 'kuczynski' 'kurdish' 'kurdistan'\n",
            " 'kurds' 'kurz' 'kyi' 'labour' 'lady' 'last' 'lavrov' 'lawmaker'\n",
            " 'lawmakers' 'leader' 'leaders' 'lebanese' 'lebanon' 'left' 'leftist'\n",
            " 'legislation' 'legislative' 'let' 'liar' 'liberal' 'liberals' 'lie'\n",
            " 'lied' 'lies' 'life' 'like' 'listen' 'literally' 'live' 'lives' 'lol'\n",
            " 'london' 'look' 'lot' 'love' 'loves' 'lower' 'lying' 'macron' 'maddow'\n",
            " 'madrid' 'maduro' 'maher' 'mail' 'main' 'mainstream' 'makes' 'malaysia'\n",
            " 'man' 'mandate' 'manila' 'marawi' 'market' 'markets' 'matter' 'mattis'\n",
            " 'maxine' 'maybe' 'me' 'mean' 'measure' 'measures' 'media' 'meet'\n",
            " 'meeting' 'megyn' 'melania' 'merkel' 'mexico' 'michel' 'michelle'\n",
            " 'militant' 'militants' 'military' 'militias' 'minister' 'ministers'\n",
            " 'ministry' 'missile' 'missiles' 'mnangagwa' 'mnuchin' 'modi' 'mom'\n",
            " 'moment' 'monday' 'month' 'more' 'morning' 'moscow' 'mother' 'mouth'\n",
            " 'move' 'mr' 'mrs' 'msnbc' 'much' 'mugabe' 'muslim' 'muslimmajority'\n",
            " 'myanmar' 'nafta' 'nairobi' 'narrative' 'nations' 'nato' 'negotiations'\n",
            " 'neighboring' 'netanyahu' 'never' 'news' 'newspaper' 'next' 'nfl' 'nieto'\n",
            " 'nigeria' 'night' 'north' 'northern' 'not' 'nothing' 'nov' 'now' 'nra'\n",
            " 'nuclear' 'nyc' 'obama' 'obvious' 'oct' 'odinga' 'of' 'off' 'official'\n",
            " 'officials' 'oh' 'oil' 'okay' 'old' 'on' 'one' 'operations' 'opposition'\n",
            " 'or' 'out' 'over' 'overhaul' 'pacific' 'package' 'pact' 'page' 'pakistan'\n",
            " 'palestinian' 'palestinians' 'palin' 'panel' 'paris' 'parliament'\n",
            " 'parliamentary' 'parties' 'party' 'pathetic' 'peace' 'pena' 'peninsula'\n",
            " 'pension' 'people' 'percent' 'perfect' 'perfectly' 'person' 'peskov'\n",
            " 'philippine' 'philippines' 'photo' 'picture' 'plan' 'plans' 'please'\n",
            " 'point' 'poland' 'policy' 'port' 'powers' 'presidentelect' 'presidential'\n",
            " 'press' 'pressure' 'pretty' 'prime' 'probably' 'probe' 'progress'\n",
            " 'proposal' 'proposals' 'proposed' 'prosecutors' 'proves' 'province'\n",
            " 'puerto' 'puigdemont' 'pundit' 'putin' 'pyongyang' 'qatar' 'quake'\n",
            " 'question' 'quite' 'quoted' 'racism' 'racist' 'racists' 'radical' 'rajoy'\n",
            " 'rakhine' 'rally' 'rant' 'rape' 'raqqa' 'rauner' 're' 'read' 'real'\n",
            " 'realdonaldtrump' 'reality' 'really' 'reason' 'reduce' 'referendum'\n",
            " 'reform' 'reforms' 'region' 'regional' 'regulatory' 'reilly' 'relations'\n",
            " 'remember' 'rep' 'reportedly' 'reporter' 'reporters' 'representative'\n",
            " 'representatives' 'republican' 'request' 'resignation' 'resolution'\n",
            " 'resolve' 'respond' 'restrictions' 'reuters' 'reutersipsos' 'revealed'\n",
            " 'reveals' 'review' 'rex' 'ria' 'rich' 'rico' 'ridiculous' 'right' 'rips'\n",
            " 'rival' 'riyadh' 'rohingya' 'room' 'rule' 'rules' 'ruling' 'russia'\n",
            " 'russian' 'russias' 'said' 'saidthe' 'sanctions' 'sap' 'saturday' 'saudi'\n",
            " 'saudiled' 'scarborough' 'school' 'screen' 'screengrab' 'screenshot'\n",
            " 'sdf' 'sea' 'secret' 'secretary' 'security' 'see' 'seek' 'seeking' 'seem'\n",
            " 'seems' 'segment' 'sen' 'senate' 'senator' 'senators' 'senior' 'seoul'\n",
            " 'separately' 'separatist' 'sept' 'sergei' 'services' 'seth' 'sexist'\n",
            " 'she' 'sheriff' 'shi' 'shit' 'shocking' 'shooter' 'shooting' 'shot'\n",
            " 'show' 'shows' 'sht' 'sick' 'sidelines' 'simply' 'singapore' 'so'\n",
            " 'somehow' 'someone' 'something' 'somodevillagetty' 'soros' 'sort'\n",
            " 'sought' 'sounds' 'sources' 'south' 'southeast' 'spain' 'spanish' 'spd'\n",
            " 'spending' 'spokesman' 'spokeswoman' 'stability' 'stand' 'state' 'stated'\n",
            " 'statement' 'states' 'steps' 'stories' 'story' 'strikes' 'student'\n",
            " 'students' 'stuff' 'stupid' 'submarine' 'subscribe' 'sudan' 'summit'\n",
            " 'sunday' 'supporter' 'supporters' 'supposed' 'sure' 'suspected' 'suu'\n",
            " 'syria' 'syrian' 'taiwan' 'taliban' 'talking' 'talks' 'tapper' 'tax'\n",
            " 'tayyip' 'ted' 'tehran' 'telephone' 'tell' 'telling' 'tells' 'temer'\n",
            " 'tensions' 'territory' 'terror' 'terrorists' 'test' 'tests' 'thailand'\n",
            " 'than' 'thank' 'thanks' 'that' 'the' 'their' 'then' 'theresa' 'they'\n",
            " 'thing' 'things' 'think' 'thinks' 'this' 'thought' 'thugs' 'thursday'\n",
            " 'ties' 'tillerson' 'time' 'to' 'today' 'tokyo' 'told' 'tonight' 'top'\n",
            " 'trade' 'trading' 'transition' 'travel' 'treasury' 'treaty' 'trial'\n",
            " 'troops' 'true' 'truly' 'trump' 'truth' 'tucker' 'tuesday' 'tune'\n",
            " 'turkey' 'turkish' 'turnbull' 'turns' 'tusk' 'tweet' 'tweets' 'two'\n",
            " 'ukraine' 'un' 'uncertainty' 'unhinged' 'union' 'united' 'up' 'urged'\n",
            " 'urges' 'us' 'usbacked' 've' 'venezuela' 'via' 'victim' 'video' 'vietnam'\n",
            " 'viewers' 'viral' 'visit' 'wallace' 'wang' 'want' 'was' 'washington'\n",
            " 'watch' 'watching' 'way' 'wednesday' 'week' 'went' 'western' 'what'\n",
            " 'when' 'whether' 'which' 'who' 'why' 'wikileaks' 'will' 'wire' 'with'\n",
            " 'withdrawal' 'woman' 'women' 'wonder' 'word' 'words' 'worse' 'would'\n",
            " 'wow' 'wrong' 'xi' 'xinhua' 'yeah' 'year' 'yemen' 'yes' 'you' 'young'\n",
            " 'your' 'youtube' 'zanupf' 'zealand' 'zimbabwe' 'zuma']\n"
          ]
        }
      ],
      "source": [
        "selected_features= np.array(vectorizer.get_feature_names_out())[selector.get_support()]\n",
        "print('Selected features:', selected_features)"
      ]
    },
    {
      "cell_type": "markdown",
      "metadata": {
        "id": "oP9KUMejjl8L"
      },
      "source": [
        "Decision Tree"
      ]
    },
    {
      "cell_type": "code",
      "execution_count": null,
      "metadata": {
        "id": "7lB6B5pxZkPR"
      },
      "outputs": [],
      "source": [
        "X_train,X_test,Y_train,Y_test = train_test_split(X_select ,Y,test_size=0.2,stratify=Y,random_state=2)"
      ]
    },
    {
      "cell_type": "code",
      "execution_count": null,
      "metadata": {
        "id": "BUYNMW1RZwIP"
      },
      "outputs": [],
      "source": [
        "model_1 = DecisionTreeClassifier()\n",
        "model_1 = model_1.fit(X_train,Y_train)"
      ]
    },
    {
      "cell_type": "code",
      "execution_count": null,
      "metadata": {
        "colab": {
          "base_uri": "https://localhost:8080/"
        },
        "id": "krsdnbEaZ2Ot",
        "outputId": "d2be1851-8890-4950-8fbd-810641a861ee"
      },
      "outputs": [
        {
          "output_type": "stream",
          "name": "stdout",
          "text": [
            "Accuracy:  1.0\n"
          ]
        }
      ],
      "source": [
        "#Model Predict\n",
        "#Accuracy on training data\n",
        "X_train_prediction_1 = model_1.predict(X_train)\n",
        "training_data_accuracy_1 = accuracy_score(X_train_prediction_1, Y_train)\n",
        "print('Accuracy: ',training_data_accuracy_1)"
      ]
    },
    {
      "cell_type": "code",
      "execution_count": null,
      "metadata": {
        "colab": {
          "base_uri": "https://localhost:8080/"
        },
        "id": "1zyzxCwjZ4pN",
        "outputId": "66a8cca1-b723-490d-9c76-18e1bf6c5b9c"
      },
      "outputs": [
        {
          "output_type": "stream",
          "name": "stdout",
          "text": [
            "Accuracy:  0.9963251670378619\n"
          ]
        }
      ],
      "source": [
        "#Model Predict\n",
        "#Accuracy on test data\n",
        "X_test_prediction_1 = model_1.predict(X_test)\n",
        "test_data_accuracy_1 = accuracy_score(X_test_prediction_1, Y_test)\n",
        "print('Accuracy: ',test_data_accuracy_1)"
      ]
    },
    {
      "cell_type": "code",
      "source": [
        "# Matthews Correlation Coefficient (MCC)\n",
        "decesiontree_mcc = matthews_corrcoef(Y_test, X_test_prediction_1)"
      ],
      "metadata": {
        "id": "P_OmPcjy70ks"
      },
      "execution_count": null,
      "outputs": []
    },
    {
      "cell_type": "code",
      "source": [
        "decesiontree_mcc"
      ],
      "metadata": {
        "colab": {
          "base_uri": "https://localhost:8080/"
        },
        "id": "5upPWPisE7MV",
        "outputId": "de845135-bffd-47c2-d889-f4ce481dab3a"
      },
      "execution_count": null,
      "outputs": [
        {
          "output_type": "execute_result",
          "data": {
            "text/plain": [
              "0.9926352795007101"
            ]
          },
          "metadata": {},
          "execution_count": 27
        }
      ]
    },
    {
      "cell_type": "code",
      "execution_count": null,
      "metadata": {
        "colab": {
          "base_uri": "https://localhost:8080/"
        },
        "id": "AJLE1ykjZ947",
        "outputId": "e5f79774-9cbf-452f-9403-a93c6ff2d29e"
      },
      "outputs": [
        {
          "output_type": "stream",
          "name": "stdout",
          "text": [
            "[1]\n",
            "The news is Fake\n"
          ]
        }
      ],
      "source": [
        "X_new = X_test[2]\n",
        "prediction = model_1.predict(X_new)\n",
        "print(prediction)\n",
        "\n",
        "if(prediction[0]==0):\n",
        "  print('The news is Real')\n",
        "else:\n",
        "  print('The news is Fake')"
      ]
    },
    {
      "cell_type": "code",
      "execution_count": null,
      "metadata": {
        "colab": {
          "base_uri": "https://localhost:8080/"
        },
        "id": "y9rFklPPaG4u",
        "outputId": "d592528c-bdf7-4624-ee5f-c7801108a5a1"
      },
      "outputs": [
        {
          "output_type": "stream",
          "name": "stdout",
          "text": [
            "[[4265   19]\n",
            " [  15 4681]]\n"
          ]
        }
      ],
      "source": [
        "cf_matrix_1 = confusion_matrix(Y_test, X_test_prediction_1)\n",
        "\n",
        "print(cf_matrix_1)"
      ]
    },
    {
      "cell_type": "code",
      "execution_count": null,
      "metadata": {
        "colab": {
          "base_uri": "https://localhost:8080/",
          "height": 530
        },
        "id": "WJtPubGkaOQt",
        "outputId": "eb24cdb5-c4f0-46d7-e504-0d1b181710eb"
      },
      "outputs": [
        {
          "output_type": "display_data",
          "data": {
            "text/plain": [
              "<Figure size 640x480 with 2 Axes>"
            ],
            "image/png": "[encoded data removed]"
          },
          "metadata": {}
        }
      ],
      "source": [
        "ax = sns.heatmap(cf_matrix_1, annot=True, cmap='Blues')\n",
        "\n",
        "ax.set_title('Seaborn Confusion Matrix with labels\\n\\n');\n",
        "ax.set_xlabel('\\nPredicted Values')\n",
        "ax.set_ylabel('Actual Values ');\n",
        "\n",
        "## Ticket labels - List must be in alphabetical order\n",
        "ax.xaxis.set_ticklabels(['Fake','Real'])\n",
        "ax.yaxis.set_ticklabels(['Fake','Real'])\n",
        "\n",
        "## Display the visualization of the Confusion Matrix.\n",
        "plt.show()"
      ]
    },
    {
      "cell_type": "code",
      "execution_count": null,
      "metadata": {
        "colab": {
          "base_uri": "https://localhost:8080/"
        },
        "id": "Fdp095p0e-Ms",
        "outputId": "e3cb3deb-6b85-4850-b0f5-54cfceeeefbc"
      },
      "outputs": [
        {
          "output_type": "stream",
          "name": "stdout",
          "text": [
            "              precision    recall  f1-score   support\n",
            "\n",
            "           0       1.00      1.00      1.00      4284\n",
            "           1       1.00      1.00      1.00      4696\n",
            "\n",
            "    accuracy                           1.00      8980\n",
            "   macro avg       1.00      1.00      1.00      8980\n",
            "weighted avg       1.00      1.00      1.00      8980\n",
            "\n"
          ]
        }
      ],
      "source": [
        "matrix_1 = classification_report(Y_test, X_test_prediction_1)\n",
        "print(matrix_1)"
      ]
    },
    {
      "cell_type": "code",
      "source": [
        "# Calculate evaluation metrics\n",
        "tn, fp, fn, tp = confusion_matrix(Y_test, X_test_prediction_1).ravel()\n",
        "\n",
        "tpr = tp / (tp + fn)\n",
        "fpr = fp / (fp + tn)\n",
        "fnr = fn / (tp + fn)\n",
        "precision = tp / (tp + fp)\n",
        "f_measure = 2 * ((precision * tpr) / (precision + tpr))\n",
        "accuracy = (tp + tn) / (tp + tn + fp + fn)\n",
        "mcc = ((tp * tn) - (fp * fn)) / math.sqrt((tp + fp) * (tp + fn) * (tn + fp) * (tn + fn))"
      ],
      "metadata": {
        "id": "KQpBvIC_-1XU"
      },
      "execution_count": null,
      "outputs": []
    },
    {
      "cell_type": "code",
      "source": [
        "print('tpr : ',tpr)\n",
        "print('fpr : ',fpr)\n",
        "print('fnr : ',fnr)\n",
        "print('precision: ',precision)\n",
        "print('f_measure: ',f_measure)\n",
        "print('accuracy: ',accuracy)\n",
        "print('mcc: ',mcc)\n"
      ],
      "metadata": {
        "id": "h6kJJL2_BW6C",
        "colab": {
          "base_uri": "https://localhost:8080/"
        },
        "outputId": "3f1cdac4-60cb-4576-bed9-5629d7f0aff3"
      },
      "execution_count": null,
      "outputs": [
        {
          "output_type": "stream",
          "name": "stdout",
          "text": [
            "tpr :  0.9968057921635435\n",
            "fpr :  0.004435107376283847\n",
            "fnr :  0.0031942078364565587\n",
            "precision:  0.9959574468085106\n",
            "f_measure:  0.9963814389101745\n",
            "accuracy:  0.9962138084632517\n",
            "mcc:  0.9924117285005182\n"
          ]
        }
      ]
    },
    {
      "cell_type": "markdown",
      "metadata": {
        "id": "P2zf1zcHgL0N"
      },
      "source": [
        "SVM"
      ]
    },
    {
      "cell_type": "code",
      "execution_count": null,
      "metadata": {
        "id": "_fJzIVXYdODZ"
      },
      "outputs": [],
      "source": [
        "# Split the dataset into training and testing sets\n",
        "X_train, X_test, Y_train, Y_test = train_test_split(X_select, Y, test_size=0.2, random_state=2)"
      ]
    },
    {
      "cell_type": "code",
      "source": [
        "# Train the SVM classifier\n",
        "model_2 = SVC(kernel='linear', C=1)\n",
        "model_2.fit(X_train, Y_train)"
      ],
      "metadata": {
        "id": "nSKXHK5c1z0V"
      },
      "execution_count": null,
      "outputs": []
    },
    {
      "cell_type": "code",
      "execution_count": null,
      "metadata": {
        "colab": {
          "base_uri": "https://localhost:8080/"
        },
        "id": "4mwmQoYcfxEq",
        "outputId": "8afca126-ec03-41f5-9fd5-604aaac28f94"
      },
      "outputs": [
        {
          "output_type": "stream",
          "name": "stdout",
          "text": [
            "Accuracy of Training Data :  0.99075672364831\n"
          ]
        }
      ],
      "source": [
        "# Accuracy of model on training data\n",
        "X_train_prediction_2=model_2.predict(X_train)\n",
        "training_data_accuracy_2=accuracy_score(X_train_prediction_2,Y_train)\n",
        "print('Accuracy of Training Data : ',training_data_accuracy_2)\n"
      ]
    },
    {
      "cell_type": "code",
      "execution_count": null,
      "metadata": {
        "colab": {
          "base_uri": "https://localhost:8080/"
        },
        "id": "cmCAonaEWztz",
        "outputId": "d12c69ae-dae9-4b19-f71c-49a03a51a2a5"
      },
      "outputs": [
        {
          "output_type": "stream",
          "name": "stdout",
          "text": [
            "Accuracy of Test Data :  0.9897550111358575\n"
          ]
        }
      ],
      "source": [
        "# Accuracy of model on test data\n",
        "X_test_prediction_2=model_2.predict(X_test)\n",
        "test_data_accuracy_2=accuracy_score(X_test_prediction_2,Y_test)\n",
        "print('Accuracy of Test Data : ',test_data_accuracy_2)"
      ]
    },
    {
      "cell_type": "code",
      "execution_count": null,
      "metadata": {
        "colab": {
          "base_uri": "https://localhost:8080/"
        },
        "id": "1KRanuXIfeUJ",
        "outputId": "68232d6a-018e-4a72-e9dd-255c4c7a5e32"
      },
      "outputs": [
        {
          "output_type": "stream",
          "name": "stdout",
          "text": [
            "[0]\n",
            "The news is Real\n"
          ]
        }
      ],
      "source": [
        "X_new = X_test[7]\n",
        "prediction = model_2.predict(X_new)\n",
        "print(prediction)\n",
        "\n",
        "if(prediction[0]==0):\n",
        "  print('The news is Real')\n",
        "else:\n",
        "  print('The news is Fake')"
      ]
    },
    {
      "cell_type": "code",
      "execution_count": null,
      "metadata": {
        "colab": {
          "base_uri": "https://localhost:8080/"
        },
        "id": "xjMI_ie8fsNU",
        "outputId": "ac253af9-86ea-41af-c636-9ff4276429ab"
      },
      "outputs": [
        {
          "output_type": "stream",
          "name": "stdout",
          "text": [
            "[[4257   43]\n",
            " [  49 4631]]\n"
          ]
        }
      ],
      "source": [
        "# Printing the confusion matrix\n",
        "cf_matrix_2 = confusion_matrix(Y_test, X_test_prediction_2)\n",
        "print(cf_matrix_2)\n"
      ]
    },
    {
      "cell_type": "code",
      "execution_count": null,
      "metadata": {
        "colab": {
          "base_uri": "https://localhost:8080/",
          "height": 530
        },
        "id": "_MWvHlm9T9Jd",
        "outputId": "46545e8a-b5af-4db9-b817-e61c312bf243"
      },
      "outputs": [
        {
          "output_type": "display_data",
          "data": {
            "text/plain": [
              "<Figure size 640x480 with 2 Axes>"
            ],
            "image/png": "[encoded data removed]"
          },
          "metadata": {}
        }
      ],
      "source": [
        "ax = sns.heatmap(cf_matrix_2, annot=True, cmap='Blues')\n",
        "\n",
        "ax.set_title('Seaborn Confusion Matrix with labels\\n\\n');\n",
        "ax.set_xlabel('\\nPredicted Values')\n",
        "ax.set_ylabel('Actual Values ');\n",
        "\n",
        "## Ticket labels - List must be in alphabetical order\n",
        "ax.xaxis.set_ticklabels(['Fake','Real'])\n",
        "ax.yaxis.set_ticklabels(['Fake','Real'])\n",
        "\n",
        "## Display the visualization of the Confusion Matrix.\n",
        "plt.show()\n"
      ]
    },
    {
      "cell_type": "code",
      "source": [
        "# Matthews Correlation Coefficient (MCC)\n",
        "SVC_mcc = matthews_corrcoef(Y_test, X_test_prediction_2)"
      ],
      "metadata": {
        "id": "3T9boB7n84gH"
      },
      "execution_count": null,
      "outputs": []
    },
    {
      "cell_type": "code",
      "source": [
        "SVC_mcc"
      ],
      "metadata": {
        "colab": {
          "base_uri": "https://localhost:8080/"
        },
        "id": "UFPQZAFZIWKn",
        "outputId": "c613a190-ef5a-4d9f-f0b3-7a6e2edd267c"
      },
      "execution_count": null,
      "outputs": [
        {
          "output_type": "execute_result",
          "data": {
            "text/plain": [
              "0.9794753060694237"
            ]
          },
          "metadata": {},
          "execution_count": 61
        }
      ]
    },
    {
      "cell_type": "code",
      "execution_count": null,
      "metadata": {
        "colab": {
          "base_uri": "https://localhost:8080/"
        },
        "id": "TcKVD3p6fUjr",
        "outputId": "6cd4a555-37f9-45b9-ca04-47075c263f3d"
      },
      "outputs": [
        {
          "output_type": "stream",
          "name": "stdout",
          "text": [
            "              precision    recall  f1-score   support\n",
            "\n",
            "           0       0.99      0.99      0.99      4300\n",
            "           1       0.99      0.99      0.99      4680\n",
            "\n",
            "    accuracy                           0.99      8980\n",
            "   macro avg       0.99      0.99      0.99      8980\n",
            "weighted avg       0.99      0.99      0.99      8980\n",
            "\n"
          ]
        }
      ],
      "source": [
        "matrix_2 = classification_report(Y_test, X_test_prediction_2)\n",
        "print(matrix_2)"
      ]
    },
    {
      "cell_type": "code",
      "source": [
        "# Calculate evaluation metrics\n",
        "tn, fp, fn, tp = confusion_matrix(Y_test, X_test_prediction_2).ravel()\n",
        "\n",
        "tpr = tp / (tp + fn)\n",
        "fpr = fp / (fp + tn)\n",
        "fnr = fn / (tp + fn)\n",
        "precision = tp / (tp + fp)\n",
        "f_measure = 2 * ((precision * tpr) / (precision + tpr))\n",
        "accuracy = (tp + tn) / (tp + tn + fp + fn)\n",
        "mcc = ((tp * tn) - (fp * fn)) / math.sqrt((tp + fp) * (tp + fn) * (tn + fp) * (tn + fn))"
      ],
      "metadata": {
        "id": "T6rPi_mBClUk"
      },
      "execution_count": null,
      "outputs": []
    },
    {
      "cell_type": "code",
      "source": [
        "print(\"tpr : \",tpr)\n",
        "print(\"fpr : \",fpr)\n",
        "print(\"fnr : \",fnr)\n",
        "print(\"precision: \",precision)\n",
        "print(\"f_measure: \",f_measure)\n",
        "print(\"accuracy: \",accuracy)\n",
        "print(\"mcc: \",mcc)\n"
      ],
      "metadata": {
        "id": "Hsu6pzlSCotz",
        "colab": {
          "base_uri": "https://localhost:8080/"
        },
        "outputId": "d0b6b810-39c6-45b8-b293-e8dceaa0e0ca"
      },
      "execution_count": null,
      "outputs": [
        {
          "output_type": "stream",
          "name": "stdout",
          "text": [
            "tpr :  0.9895299145299146\n",
            "fpr :  0.01\n",
            "fnr :  0.01047008547008547\n",
            "precision:  0.9908001711596063\n",
            "f_measure:  0.9901646354500749\n",
            "accuracy:  0.9897550111358575\n",
            "mcc:  0.9794753060694237\n"
          ]
        }
      ]
    },
    {
      "cell_type": "markdown",
      "metadata": {
        "id": "1ekRMtrFtv2d"
      },
      "source": [
        "Naive Bayes"
      ]
    },
    {
      "cell_type": "code",
      "execution_count": null,
      "metadata": {
        "id": "zqR5yCij89Ih"
      },
      "outputs": [],
      "source": [
        "# Splitting the data into training and testing data\n",
        "X_train, X_test, Y_train, Y_test = train_test_split(X_select,Y, test_size=0.2, random_state=2)\n"
      ]
    },
    {
      "cell_type": "code",
      "execution_count": null,
      "metadata": {
        "colab": {
          "base_uri": "https://localhost:8080/",
          "height": 74
        },
        "id": "e5447G4a9F5u",
        "outputId": "e8f2e9f9-c395-4a54-f95a-69c86aa7d19a"
      },
      "outputs": [
        {
          "output_type": "execute_result",
          "data": {
            "text/plain": [
              "MultinomialNB()"
            ],
            "text/html": [
              "<style>#sk-container-id-1 {color: black;background-color: white;}#sk-container-id-1 pre{padding: 0;}#sk-container-id-1 div.sk-toggleable {background-color: white;}#sk-container-id-1 label.sk-toggleable__label {cursor: pointer;display: block;width: 100%;margin-bottom: 0;padding: 0.3em;box-sizing: border-box;text-align: center;}#sk-container-id-1 label.sk-toggleable__label-arrow:before {content: \"▸\";float: left;margin-right: 0.25em;color: #696969;}#sk-container-id-1 label.sk-toggleable__label-arrow:hover:before {color: black;}#sk-container-id-1 div.sk-estimator:hover label.sk-toggleable__label-arrow:before {color: black;}#sk-container-id-1 div.sk-toggleable__content {max-height: 0;max-width: 0;overflow: hidden;text-align: left;background-color: #f0f8ff;}#sk-container-id-1 div.sk-toggleable__content pre {margin: 0.2em;color: black;border-radius: 0.25em;background-color: #f0f8ff;}#sk-container-id-1 input.sk-toggleable__control:checked~div.sk-toggleable__content {max-height: 200px;max-width: 100%;overflow: auto;}#sk-container-id-1 input.sk-toggleable__control:checked~label.sk-toggleable__label-arrow:before {content: \"▾\";}#sk-container-id-1 div.sk-estimator input.sk-toggleable__control:checked~label.sk-toggleable__label {background-color: #d4ebff;}#sk-container-id-1 div.sk-label input.sk-toggleable__control:checked~label.sk-toggleable__label {background-color: #d4ebff;}#sk-container-id-1 input.sk-hidden--visually {border: 0;clip: rect(1px 1px 1px 1px);clip: rect(1px, 1px, 1px, 1px);height: 1px;margin: -1px;overflow: hidden;padding: 0;position: absolute;width: 1px;}#sk-container-id-1 div.sk-estimator {font-family: monospace;background-color: #f0f8ff;border: 1px dotted black;border-radius: 0.25em;box-sizing: border-box;margin-bottom: 0.5em;}#sk-container-id-1 div.sk-estimator:hover {background-color: #d4ebff;}#sk-container-id-1 div.sk-parallel-item::after {content: \"\";width: 100%;border-bottom: 1px solid gray;flex-grow: 1;}#sk-container-id-1 div.sk-label:hover label.sk-toggleable__label {background-color: #d4ebff;}#sk-container-id-1 div.sk-serial::before {content: \"\";position: absolute;border-left: 1px solid gray;box-sizing: border-box;top: 0;bottom: 0;left: 50%;z-index: 0;}#sk-container-id-1 div.sk-serial {display: flex;flex-direction: column;align-items: center;background-color: white;padding-right: 0.2em;padding-left: 0.2em;position: relative;}#sk-container-id-1 div.sk-item {position: relative;z-index: 1;}#sk-container-id-1 div.sk-parallel {display: flex;align-items: stretch;justify-content: center;background-color: white;position: relative;}#sk-container-id-1 div.sk-item::before, #sk-container-id-1 div.sk-parallel-item::before {content: \"\";position: absolute;border-left: 1px solid gray;box-sizing: border-box;top: 0;bottom: 0;left: 50%;z-index: -1;}#sk-container-id-1 div.sk-parallel-item {display: flex;flex-direction: column;z-index: 1;position: relative;background-color: white;}#sk-container-id-1 div.sk-parallel-item:first-child::after {align-self: flex-end;width: 50%;}#sk-container-id-1 div.sk-parallel-item:last-child::after {align-self: flex-start;width: 50%;}#sk-container-id-1 div.sk-parallel-item:only-child::after {width: 0;}#sk-container-id-1 div.sk-dashed-wrapped {border: 1px dashed gray;margin: 0 0.4em 0.5em 0.4em;box-sizing: border-box;padding-bottom: 0.4em;background-color: white;}#sk-container-id-1 div.sk-label label {font-family: monospace;font-weight: bold;display: inline-block;line-height: 1.2em;}#sk-container-id-1 div.sk-label-container {text-align: center;}#sk-container-id-1 div.sk-container {/* jupyter's `normalize.less` sets `[hidden] { display: none; }` but bootstrap.min.css set `[hidden] { display: none !important; }` so we also need the `!important` here to be able to override the default hidden behavior on the sphinx rendered scikit-learn.org. See: https://github.com/scikit-learn/scikit-learn/issues/21755 */display: inline-block !important;position: relative;}#sk-container-id-1 div.sk-text-repr-fallback {display: none;}</style><div id=\"sk-container-id-1\" class=\"sk-top-container\"><div class=\"sk-text-repr-fallback\"><pre>MultinomialNB()</pre><b>In a Jupyter environment, please rerun this cell to show the HTML representation or trust the notebook. <br />On GitHub, the HTML representation is unable to render, please try loading this page with nbviewer.org.</b></div><div class=\"sk-container\" hidden><div class=\"sk-item\"><div class=\"sk-estimator sk-toggleable\"><input class=\"sk-toggleable__control sk-hidden--visually\" id=\"sk-estimator-id-1\" type=\"checkbox\" checked><label for=\"sk-estimator-id-1\" class=\"sk-toggleable__label sk-toggleable__label-arrow\">MultinomialNB</label><div class=\"sk-toggleable__content\"><pre>MultinomialNB()</pre></div></div></div></div></div>"
            ]
          },
          "metadata": {},
          "execution_count": 27
        }
      ],
      "source": [
        "# Training the Naive Bayes classifier\n",
        "model_3 = MultinomialNB()\n",
        "model_3.fit(X_train, Y_train)"
      ]
    },
    {
      "cell_type": "code",
      "execution_count": null,
      "metadata": {
        "colab": {
          "base_uri": "https://localhost:8080/"
        },
        "id": "c-jp_Tysrwk-",
        "outputId": "1ea83a32-ba95-4a40-b8db-10e011624e79"
      },
      "outputs": [
        {
          "output_type": "stream",
          "name": "stdout",
          "text": [
            "Accuracy of Training Data :  0.9389164207361211\n"
          ]
        }
      ],
      "source": [
        "#Accuracy on training data\n",
        "X_train_prediction_3 = model_3.predict(X_train)\n",
        "training_data_accuracy_3 = accuracy_score(X_train_prediction_3, Y_train)\n",
        "print('Accuracy of Training Data : ',training_data_accuracy_3)"
      ]
    },
    {
      "cell_type": "code",
      "execution_count": null,
      "metadata": {
        "colab": {
          "base_uri": "https://localhost:8080/"
        },
        "id": "ebCNA7gqsB7G",
        "outputId": "00d5163a-f7c4-4301-8fc5-d15b48ee8d47"
      },
      "outputs": [
        {
          "output_type": "stream",
          "name": "stdout",
          "text": [
            "Accuracy of test Data:  0.9360801781737194\n"
          ]
        }
      ],
      "source": [
        "#Accuracy on test data\n",
        "X_test_prediction_3 = model_3.predict(X_test)\n",
        "test_data_accuracy_3 = accuracy_score(X_test_prediction_3, Y_test)\n",
        "print('Accuracy of test Data: ',test_data_accuracy_3)"
      ]
    },
    {
      "cell_type": "code",
      "execution_count": null,
      "metadata": {
        "colab": {
          "base_uri": "https://localhost:8080/"
        },
        "id": "InJfss3a9Q2e",
        "outputId": "0e974bf1-3ee5-4b9a-ece6-ac794ff2ab5e"
      },
      "outputs": [
        {
          "output_type": "stream",
          "name": "stdout",
          "text": [
            "[1]\n",
            "The news is Fake\n"
          ]
        }
      ],
      "source": [
        "X_new = X_test[3]\n",
        "prediction = model_3.predict(X_new)\n",
        "print(prediction)\n",
        "\n",
        "if(prediction[0]== 0):\n",
        "  print('The news is Real')\n",
        "else:\n",
        "  print('The news is Fake')"
      ]
    },
    {
      "cell_type": "code",
      "execution_count": null,
      "metadata": {
        "colab": {
          "base_uri": "https://localhost:8080/"
        },
        "id": "7AOioTHe9TVv",
        "outputId": "529ff19b-d4e3-48d7-d509-e7ec9bc5b086"
      },
      "outputs": [
        {
          "output_type": "stream",
          "name": "stdout",
          "text": [
            "[[3946  354]\n",
            " [ 220 4460]]\n"
          ]
        }
      ],
      "source": [
        "# Printing the confusion matrix\n",
        "cf_matrix_3 = confusion_matrix(Y_test, X_test_prediction_3)\n",
        "print(cf_matrix_3)"
      ]
    },
    {
      "cell_type": "code",
      "execution_count": null,
      "metadata": {
        "colab": {
          "base_uri": "https://localhost:8080/",
          "height": 530
        },
        "id": "dVgGvGKIEbW-",
        "outputId": "412c2aaf-7551-42ab-f55c-f7b586e96a8e"
      },
      "outputs": [
        {
          "output_type": "display_data",
          "data": {
            "text/plain": [
              "<Figure size 640x480 with 2 Axes>"
            ],
            "image/png": "[encoded data removed]"
          },
          "metadata": {}
        }
      ],
      "source": [
        "ax = sns.heatmap(cf_matrix_3, annot=True, cmap='Blues')\n",
        "\n",
        "ax.set_title('Seaborn Confusion Matrix with labels\\n\\n');\n",
        "ax.set_xlabel('\\nPredicted Values')\n",
        "ax.set_ylabel('Actual Values ');\n",
        "\n",
        "## Ticket labels - List must be in alphabetical order\n",
        "ax.xaxis.set_ticklabels(['Fake','Real'])\n",
        "ax.yaxis.set_ticklabels(['Fake','Real'])\n",
        "\n",
        "## Display the visualization of the Confusion Matrix.\n",
        "plt.show()"
      ]
    },
    {
      "cell_type": "code",
      "source": [
        "# Matthews Correlation Coefficient (MCC)\n",
        "Naivebayes_mcc = matthews_corrcoef(Y_test, X_test_prediction_3)"
      ],
      "metadata": {
        "id": "Mzu2NUSP9B6-"
      },
      "execution_count": null,
      "outputs": []
    },
    {
      "cell_type": "code",
      "source": [
        "Naivebayes_mcc"
      ],
      "metadata": {
        "colab": {
          "base_uri": "https://localhost:8080/"
        },
        "id": "tw3o-dkOJDtf",
        "outputId": "1e4433f8-27f5-4560-b046-552e0502dfef"
      },
      "execution_count": null,
      "outputs": [
        {
          "output_type": "execute_result",
          "data": {
            "text/plain": [
              "0.8721596689735409"
            ]
          },
          "metadata": {},
          "execution_count": 73
        }
      ]
    },
    {
      "cell_type": "code",
      "source": [
        "# Calculate evaluation metrics\n",
        "tn, fp, fn, tp = confusion_matrix(Y_test, X_test_prediction_3).ravel()\n",
        "\n",
        "tpr = tp / (tp + fn)\n",
        "fpr = fp / (fp + tn)\n",
        "fnr = fn / (tp + fn)\n",
        "precision = tp / (tp + fp)\n",
        "f_measure = 2 * ((precision * tpr) / (precision + tpr))\n",
        "accuracy = (tp + tn) / (tp + tn + fp + fn)\n",
        "mcc = ((tp * tn) - (fp * fn)) / math.sqrt((tp + fp) * (tp + fn) * (tn + fp) * (tn + fn))"
      ],
      "metadata": {
        "id": "RaVpYY12CudU"
      },
      "execution_count": null,
      "outputs": []
    },
    {
      "cell_type": "code",
      "source": [
        "print(\"tpr : \",tpr)\n",
        "print(\"fpr : \",fpr)\n",
        "print(\"fnr : \",fnr)\n",
        "print(\"precision: \",precision)\n",
        "print(\"f_measure: \",f_measure)\n",
        "print(\"accuracy: \",accuracy)\n",
        "print(\"mcc: \",mcc)"
      ],
      "metadata": {
        "id": "rWasx-kmCyN8",
        "colab": {
          "base_uri": "https://localhost:8080/"
        },
        "outputId": "151d48ca-43ec-4129-9c1b-d9b3d0ccdc7c"
      },
      "execution_count": null,
      "outputs": [
        {
          "output_type": "stream",
          "name": "stdout",
          "text": [
            "tpr :  0.9529914529914529\n",
            "fpr :  0.08232558139534883\n",
            "fnr :  0.04700854700854701\n",
            "precision:  0.9264644786040714\n",
            "f_measure:  0.9395407625868969\n",
            "accuracy:  0.9360801781737194\n",
            "mcc:  0.8721596689735409\n"
          ]
        }
      ]
    },
    {
      "cell_type": "markdown",
      "metadata": {
        "id": "BWTFZ4LrjtN3"
      },
      "source": [
        "Random Forest"
      ]
    },
    {
      "cell_type": "code",
      "execution_count": null,
      "metadata": {
        "id": "A4Jdo7yHjvVi"
      },
      "outputs": [],
      "source": [
        "X_train, X_test, Y_train, Y_test = train_test_split(X_select,Y, test_size=0.2, random_state=2)\n"
      ]
    },
    {
      "cell_type": "code",
      "execution_count": null,
      "metadata": {
        "colab": {
          "base_uri": "https://localhost:8080/",
          "height": 74
        },
        "id": "_HyiKFCIkGnN",
        "outputId": "977763ce-be3a-4c38-fe65-962bbd32a7e1"
      },
      "outputs": [
        {
          "output_type": "execute_result",
          "data": {
            "text/plain": [
              "RandomForestClassifier()"
            ],
            "text/html": [
              "<style>#sk-container-id-2 {color: black;background-color: white;}#sk-container-id-2 pre{padding: 0;}#sk-container-id-2 div.sk-toggleable {background-color: white;}#sk-container-id-2 label.sk-toggleable__label {cursor: pointer;display: block;width: 100%;margin-bottom: 0;padding: 0.3em;box-sizing: border-box;text-align: center;}#sk-container-id-2 label.sk-toggleable__label-arrow:before {content: \"▸\";float: left;margin-right: 0.25em;color: #696969;}#sk-container-id-2 label.sk-toggleable__label-arrow:hover:before {color: black;}#sk-container-id-2 div.sk-estimator:hover label.sk-toggleable__label-arrow:before {color: black;}#sk-container-id-2 div.sk-toggleable__content {max-height: 0;max-width: 0;overflow: hidden;text-align: left;background-color: #f0f8ff;}#sk-container-id-2 div.sk-toggleable__content pre {margin: 0.2em;color: black;border-radius: 0.25em;background-color: #f0f8ff;}#sk-container-id-2 input.sk-toggleable__control:checked~div.sk-toggleable__content {max-height: 200px;max-width: 100%;overflow: auto;}#sk-container-id-2 input.sk-toggleable__control:checked~label.sk-toggleable__label-arrow:before {content: \"▾\";}#sk-container-id-2 div.sk-estimator input.sk-toggleable__control:checked~label.sk-toggleable__label {background-color: #d4ebff;}#sk-container-id-2 div.sk-label input.sk-toggleable__control:checked~label.sk-toggleable__label {background-color: #d4ebff;}#sk-container-id-2 input.sk-hidden--visually {border: 0;clip: rect(1px 1px 1px 1px);clip: rect(1px, 1px, 1px, 1px);height: 1px;margin: -1px;overflow: hidden;padding: 0;position: absolute;width: 1px;}#sk-container-id-2 div.sk-estimator {font-family: monospace;background-color: #f0f8ff;border: 1px dotted black;border-radius: 0.25em;box-sizing: border-box;margin-bottom: 0.5em;}#sk-container-id-2 div.sk-estimator:hover {background-color: #d4ebff;}#sk-container-id-2 div.sk-parallel-item::after {content: \"\";width: 100%;border-bottom: 1px solid gray;flex-grow: 1;}#sk-container-id-2 div.sk-label:hover label.sk-toggleable__label {background-color: #d4ebff;}#sk-container-id-2 div.sk-serial::before {content: \"\";position: absolute;border-left: 1px solid gray;box-sizing: border-box;top: 0;bottom: 0;left: 50%;z-index: 0;}#sk-container-id-2 div.sk-serial {display: flex;flex-direction: column;align-items: center;background-color: white;padding-right: 0.2em;padding-left: 0.2em;position: relative;}#sk-container-id-2 div.sk-item {position: relative;z-index: 1;}#sk-container-id-2 div.sk-parallel {display: flex;align-items: stretch;justify-content: center;background-color: white;position: relative;}#sk-container-id-2 div.sk-item::before, #sk-container-id-2 div.sk-parallel-item::before {content: \"\";position: absolute;border-left: 1px solid gray;box-sizing: border-box;top: 0;bottom: 0;left: 50%;z-index: -1;}#sk-container-id-2 div.sk-parallel-item {display: flex;flex-direction: column;z-index: 1;position: relative;background-color: white;}#sk-container-id-2 div.sk-parallel-item:first-child::after {align-self: flex-end;width: 50%;}#sk-container-id-2 div.sk-parallel-item:last-child::after {align-self: flex-start;width: 50%;}#sk-container-id-2 div.sk-parallel-item:only-child::after {width: 0;}#sk-container-id-2 div.sk-dashed-wrapped {border: 1px dashed gray;margin: 0 0.4em 0.5em 0.4em;box-sizing: border-box;padding-bottom: 0.4em;background-color: white;}#sk-container-id-2 div.sk-label label {font-family: monospace;font-weight: bold;display: inline-block;line-height: 1.2em;}#sk-container-id-2 div.sk-label-container {text-align: center;}#sk-container-id-2 div.sk-container {/* jupyter's `normalize.less` sets `[hidden] { display: none; }` but bootstrap.min.css set `[hidden] { display: none !important; }` so we also need the `!important` here to be able to override the default hidden behavior on the sphinx rendered scikit-learn.org. See: https://github.com/scikit-learn/scikit-learn/issues/21755 */display: inline-block !important;position: relative;}#sk-container-id-2 div.sk-text-repr-fallback {display: none;}</style><div id=\"sk-container-id-2\" class=\"sk-top-container\"><div class=\"sk-text-repr-fallback\"><pre>RandomForestClassifier()</pre><b>In a Jupyter environment, please rerun this cell to show the HTML representation or trust the notebook. <br />On GitHub, the HTML representation is unable to render, please try loading this page with nbviewer.org.</b></div><div class=\"sk-container\" hidden><div class=\"sk-item\"><div class=\"sk-estimator sk-toggleable\"><input class=\"sk-toggleable__control sk-hidden--visually\" id=\"sk-estimator-id-2\" type=\"checkbox\" checked><label for=\"sk-estimator-id-2\" class=\"sk-toggleable__label sk-toggleable__label-arrow\">RandomForestClassifier</label><div class=\"sk-toggleable__content\"><pre>RandomForestClassifier()</pre></div></div></div></div></div>"
            ]
          },
          "metadata": {},
          "execution_count": 29
        }
      ],
      "source": [
        "model_4  = RandomForestClassifier()\n",
        "model_4.fit(X_train, Y_train)"
      ]
    },
    {
      "cell_type": "code",
      "execution_count": null,
      "metadata": {
        "colab": {
          "base_uri": "https://localhost:8080/"
        },
        "id": "uFeE85-3ltT0",
        "outputId": "67049888-e9dd-42c9-8c88-d24292423ec0"
      },
      "outputs": [
        {
          "output_type": "stream",
          "name": "stdout",
          "text": [
            "Accuracy training data:  1.0\n"
          ]
        }
      ],
      "source": [
        "#Model Predict\n",
        "#Accuracy on training data\n",
        "X_train_prediction_4 = model_4.predict(X_train)\n",
        "training_data_accuracy_4 = accuracy_score(X_train_prediction_4, Y_train)\n",
        "print('Accuracy training data: ',training_data_accuracy_4)"
      ]
    },
    {
      "cell_type": "code",
      "execution_count": null,
      "metadata": {
        "colab": {
          "base_uri": "https://localhost:8080/"
        },
        "id": "V1Yo6j0Yl34C",
        "outputId": "e9bc19a4-7e06-40f3-df79-c0fb2477f40f"
      },
      "outputs": [
        {
          "output_type": "stream",
          "name": "stdout",
          "text": [
            "Accuracy test data:  0.9967706013363029\n"
          ]
        }
      ],
      "source": [
        "#Model Predict\n",
        "#Accuracy on test data\n",
        "X_test_prediction_4 = model_4.predict(X_test)\n",
        "test_data_accuracy_4 = accuracy_score(X_test_prediction_4, Y_test)\n",
        "print('Accuracy test data: ',test_data_accuracy_4)"
      ]
    },
    {
      "cell_type": "code",
      "execution_count": null,
      "metadata": {
        "colab": {
          "base_uri": "https://localhost:8080/"
        },
        "id": "Db0JgMpUmBEt",
        "outputId": "736af77a-a85a-4743-9e14-4a587b1de87f"
      },
      "outputs": [
        {
          "output_type": "stream",
          "name": "stdout",
          "text": [
            "[0]\n",
            "The news is Real\n"
          ]
        }
      ],
      "source": [
        "X_new = X_test[7]\n",
        "prediction = model_4.predict(X_new)\n",
        "print(prediction)\n",
        "\n",
        "if(prediction[0]== 0):\n",
        "  print('The news is Real')\n",
        "else:\n",
        "  print('The news is Fake')"
      ]
    },
    {
      "cell_type": "code",
      "execution_count": null,
      "metadata": {
        "colab": {
          "base_uri": "https://localhost:8080/"
        },
        "id": "3xfo76fWmJ_P",
        "outputId": "ad899ebb-5a2b-47fd-8277-61ac88e9fab3"
      },
      "outputs": [
        {
          "output_type": "stream",
          "name": "stdout",
          "text": [
            "[[4290   10]\n",
            " [  19 4661]]\n"
          ]
        }
      ],
      "source": [
        "cf_matrix_4 = confusion_matrix(Y_test, X_test_prediction_4)\n",
        "\n",
        "print(cf_matrix_4)"
      ]
    },
    {
      "cell_type": "code",
      "execution_count": null,
      "metadata": {
        "colab": {
          "base_uri": "https://localhost:8080/",
          "height": 530
        },
        "id": "phOIcngWmLlt",
        "outputId": "724184c6-4f51-4fd5-c443-7447556870a9"
      },
      "outputs": [
        {
          "output_type": "display_data",
          "data": {
            "text/plain": [
              "<Figure size 640x480 with 2 Axes>"
            ],
            "image/png": "[encoded data removed]"
          },
          "metadata": {}
        }
      ],
      "source": [
        "ax = sns.heatmap(cf_matrix_4, annot=True, cmap='Blues')\n",
        "\n",
        "ax.set_title('Seaborn Confusion Matrix with labels\\n\\n');\n",
        "ax.set_xlabel('\\nPredicted Values')\n",
        "ax.set_ylabel('Actual Values ');\n",
        "\n",
        "## Ticket labels - List must be in alphabetical order\n",
        "ax.xaxis.set_ticklabels(['Fake','Real'])\n",
        "ax.yaxis.set_ticklabels(['Fake','Real'])\n",
        "\n",
        "## Display the visualization of the Confusion Matrix.\n",
        "plt.show()"
      ]
    },
    {
      "cell_type": "code",
      "source": [
        "# Matthews Correlation Coefficient (MCC)\n",
        "Randomforest_mcc = matthews_corrcoef(Y_test, X_test_prediction_4)"
      ],
      "metadata": {
        "id": "9ZqGTEMc9Jqr"
      },
      "execution_count": null,
      "outputs": []
    },
    {
      "cell_type": "code",
      "source": [
        "Randomforest_mcc"
      ],
      "metadata": {
        "colab": {
          "base_uri": "https://localhost:8080/"
        },
        "id": "wl6bWkBYJ870",
        "outputId": "5abaea0f-8f85-49c8-f148-85e8275279f8"
      },
      "execution_count": null,
      "outputs": [
        {
          "output_type": "execute_result",
          "data": {
            "text/plain": [
              "0.993532168894942"
            ]
          },
          "metadata": {},
          "execution_count": 85
        }
      ]
    },
    {
      "cell_type": "code",
      "execution_count": null,
      "metadata": {
        "colab": {
          "base_uri": "https://localhost:8080/"
        },
        "id": "dYdzJBiAy4_I",
        "outputId": "96313438-e4a8-4183-c3dd-e9cda100bb65"
      },
      "outputs": [
        {
          "output_type": "stream",
          "name": "stdout",
          "text": [
            "              precision    recall  f1-score   support\n",
            "\n",
            "           0       1.00      1.00      1.00      4300\n",
            "           1       1.00      1.00      1.00      4680\n",
            "\n",
            "    accuracy                           1.00      8980\n",
            "   macro avg       1.00      1.00      1.00      8980\n",
            "weighted avg       1.00      1.00      1.00      8980\n",
            "\n"
          ]
        }
      ],
      "source": [
        "matrix_4 = classification_report(Y_test, X_test_prediction_4)\n",
        "print(matrix_4)"
      ]
    },
    {
      "cell_type": "code",
      "source": [
        "# Calculate evaluation metrics\n",
        "tn, fp, fn, tp = confusion_matrix(Y_test, X_test_prediction_2).ravel()\n",
        "\n",
        "tpr = tp / (tp + fn)\n",
        "fpr = fp / (fp + tn)\n",
        "fnr = fn / (tp + fn)\n",
        "precision = tp / (tp + fp)\n",
        "f_measure = 2 * ((precision * tpr) / (precision + tpr))\n",
        "accuracy = (tp + tn) / (tp + tn + fp + fn)\n",
        "mcc = ((tp * tn) - (fp * fn)) / math.sqrt((tp + fp) * (tp + fn) * (tn + fp) * (tn + fn))"
      ],
      "metadata": {
        "id": "E82TWSx0C6ev"
      },
      "execution_count": null,
      "outputs": []
    },
    {
      "cell_type": "code",
      "source": [
        "print(\"tpr : \",tpr)\n",
        "print(\"fpr : \",fpr)\n",
        "print(\"fnr : \",fnr)\n",
        "print(\"precision: \",precision)\n",
        "print(\"f_measure: \",f_measure)\n",
        "print(\"accuracy: \",accuracy)\n",
        "print(\"mcc: \",mcc)"
      ],
      "metadata": {
        "id": "jK8Bjt7ADOiz",
        "colab": {
          "base_uri": "https://localhost:8080/"
        },
        "outputId": "9a468725-963b-4509-9d6b-d9e10c4093a2"
      },
      "execution_count": null,
      "outputs": [
        {
          "output_type": "stream",
          "name": "stdout",
          "text": [
            "tpr :  0.9895299145299146\n",
            "fpr :  0.01\n",
            "fnr :  0.01047008547008547\n",
            "precision:  0.9908001711596063\n",
            "f_measure:  0.9901646354500749\n",
            "accuracy:  0.9897550111358575\n",
            "mcc:  0.9794753060694237\n"
          ]
        }
      ]
    },
    {
      "cell_type": "markdown",
      "metadata": {
        "id": "3iiG8lDZqWKs"
      },
      "source": [
        "Comparing the performance of the models"
      ]
    },
    {
      "cell_type": "code",
      "execution_count": null,
      "metadata": {
        "id": "XlNWqbR_qJ4z"
      },
      "outputs": [],
      "source": [
        "# list of models\n",
        "models = [DecisionTreeClassifier(), SVC(kernel='linear'), RandomForestClassifier(),MultinomialNB()]"
      ]
    },
    {
      "cell_type": "code",
      "execution_count": null,
      "metadata": {
        "id": "3YUp0XwKx9So"
      },
      "outputs": [],
      "source": [
        "def compare_models_train_test():\n",
        "\n",
        "  for model in models:\n",
        "\n",
        "    # training the model\n",
        "    model.fit(X_train, Y_train)\n",
        "\n",
        "    # evaluating the model\n",
        "    test_data_prediction = model.predict(X_test)\n",
        "\n",
        "    accuracy = accuracy_score(Y_test, test_data_prediction)\n",
        "\n",
        "    print('Accuracy score of the ', model, ' = ', accuracy)\n"
      ]
    },
    {
      "cell_type": "code",
      "execution_count": null,
      "metadata": {
        "colab": {
          "base_uri": "https://localhost:8080/"
        },
        "id": "4FN4oBKGyC8W",
        "outputId": "8638bb5d-8efd-490c-db7b-22b15516ed03"
      },
      "outputs": [
        {
          "output_type": "stream",
          "name": "stdout",
          "text": [
            "Accuracy score of the  DecisionTreeClassifier()  =  0.995879732739421\n",
            "Accuracy score of the  SVC(kernel='linear')  =  0.9925389755011136\n",
            "Accuracy score of the  RandomForestClassifier()  =  0.9977728285077951\n",
            "Accuracy score of the  MultinomialNB()  =  0.9458797327394209\n"
          ]
        }
      ],
      "source": [
        "compare_models_train_test()"
      ]
    },
    {
      "cell_type": "markdown",
      "metadata": {
        "id": "E_hsL85myIsx"
      },
      "source": [
        "Cross Validation"
      ]
    },
    {
      "cell_type": "code",
      "execution_count": null,
      "metadata": {
        "id": "zYTsF70cWPa4"
      },
      "outputs": [],
      "source": [
        "from sklearn.model_selection import cross_val_score"
      ]
    },
    {
      "cell_type": "markdown",
      "metadata": {
        "id": "C7fJGNP3yc0O"
      },
      "source": [
        "DecisionTree"
      ]
    },
    {
      "cell_type": "code",
      "execution_count": null,
      "metadata": {
        "colab": {
          "base_uri": "https://localhost:8080/"
        },
        "id": "gEGrr_5cyLAB",
        "outputId": "576c16f5-9109-4b8b-f6a7-15f65d90339a"
      },
      "outputs": [
        {
          "output_type": "stream",
          "name": "stdout",
          "text": [
            "[0.99732739 0.99576837 0.99554566 0.99688196 0.99665924 0.99510022\n",
            " 0.99554566 0.99665924 0.9953219  0.99643573]\n",
            "99.61\n"
          ]
        }
      ],
      "source": [
        "cv_score_lr = cross_val_score(DecisionTreeClassifier(), X_select, Y, cv=10, error_score='raise')\n",
        "\n",
        "print(cv_score_lr)\n",
        "\n",
        "mean_accuracy_lr = sum(cv_score_lr)/len(cv_score_lr)\n",
        "\n",
        "mean_accuracy_lr = mean_accuracy_lr*100\n",
        "\n",
        "mean_accuracy_lr = round(mean_accuracy_lr, 2)\n",
        "\n",
        "print(mean_accuracy_lr)"
      ]
    },
    {
      "cell_type": "markdown",
      "metadata": {
        "id": "hd4jLhN3yi7B"
      },
      "source": [
        "Support Vector Machine"
      ]
    },
    {
      "cell_type": "code",
      "source": [
        "cv_score_svc = cross_val_score(SVC(kernel='linear'), X_select, Y, cv=10,error_score='raise')\n",
        "\n",
        "print(cv_score_svc)\n",
        "\n",
        "mean_accuracy_svc = sum(cv_score_svc)/len(cv_score_svc)\n",
        "\n",
        "mean_accuracy_svc = mean_accuracy_svc*100\n",
        "\n",
        "mean_accuracy_svc = round(mean_accuracy_svc, 2)\n",
        "\n",
        "print(mean_accuracy_svc)"
      ],
      "metadata": {
        "id": "DmHgVxrOlDAg",
        "colab": {
          "base_uri": "https://localhost:8080/"
        },
        "outputId": "7f4dd7a1-4e4d-455c-b5bd-cd83f2d9b889"
      },
      "execution_count": null,
      "outputs": [
        {
          "output_type": "stream",
          "name": "stdout",
          "text": [
            "[0.99198218 0.9922049  0.99331849 0.99420935 0.99153675 0.99265033\n",
            " 0.99242762 0.99265033 0.99353976 0.99309423]\n",
            "99.28\n"
          ]
        }
      ]
    },
    {
      "cell_type": "markdown",
      "metadata": {
        "id": "RAkbIMMYyykE"
      },
      "source": [
        "Random Forest"
      ]
    },
    {
      "cell_type": "code",
      "execution_count": null,
      "metadata": {
        "colab": {
          "base_uri": "https://localhost:8080/"
        },
        "id": "NjtqXb7Dyo6R",
        "outputId": "059bb5f6-a2f5-4b7b-fc4b-d8561ae8620e"
      },
      "outputs": [
        {
          "output_type": "stream",
          "name": "stdout",
          "text": [
            "[0.99755011 0.99799555 0.99732739 0.99888641 0.99799555 0.99777283\n",
            " 0.99732739 0.99844098 0.99844063 0.99754957]\n",
            "99.79\n"
          ]
        }
      ],
      "source": [
        "cv_score_rc = cross_val_score(RandomForestClassifier(), X_select, Y, cv=10,error_score='raise')\n",
        "\n",
        "print(cv_score_rc)\n",
        "\n",
        "mean_accuracy_rc = sum(cv_score_rc)/len(cv_score_rc)\n",
        "\n",
        "mean_accuracy_rc = mean_accuracy_rc*100\n",
        "\n",
        "mean_accuracy_rc = round(mean_accuracy_rc, 2)\n",
        "\n",
        "print(mean_accuracy_rc)"
      ]
    },
    {
      "cell_type": "markdown",
      "metadata": {
        "id": "pfycJkLM0eBo"
      },
      "source": [
        "Naive Bayes"
      ]
    },
    {
      "cell_type": "code",
      "execution_count": null,
      "metadata": {
        "colab": {
          "base_uri": "https://localhost:8080/"
        },
        "id": "qC-l2XIn0Y1F",
        "outputId": "e3648ff6-d223-4ba2-e96c-1eef9e3d9b74"
      },
      "outputs": [
        {
          "output_type": "stream",
          "name": "stdout",
          "text": [
            "[0.94454343 0.94966592 0.9467706  0.94654788 0.9454343  0.94164811\n",
            " 0.93942094 0.94610245 0.94609044 0.94831811]\n",
            "94.55\n"
          ]
        }
      ],
      "source": [
        "cv_score_nb = cross_val_score(MultinomialNB(), X_select, Y, cv=10,error_score='raise')\n",
        "\n",
        "print(cv_score_nb)\n",
        "\n",
        "mean_accuracy_nb = sum(cv_score_nb)/len(cv_score_nb)\n",
        "\n",
        "mean_accuracy_nb = mean_accuracy_nb*100\n",
        "\n",
        "mean_accuracy_nb = round(mean_accuracy_nb, 2)\n",
        "\n",
        "print(mean_accuracy_nb)"
      ]
    },
    {
      "cell_type": "markdown",
      "metadata": {
        "id": "VyRGXMhZ1H9l"
      },
      "source": [
        " Function to compare the models"
      ]
    },
    {
      "cell_type": "code",
      "execution_count": null,
      "metadata": {
        "id": "ny_Bxcy-1KSV"
      },
      "outputs": [],
      "source": [
        "# list of models\n",
        "models = [DecisionTreeClassifier(), SVC(kernel='linear'), RandomForestClassifier(),MultinomialNB()]"
      ]
    },
    {
      "cell_type": "code",
      "execution_count": null,
      "metadata": {
        "id": "TsmoR_cT1RQQ"
      },
      "outputs": [],
      "source": [
        "def compare_models_cross_validation():\n",
        "\n",
        "  for model in models:\n",
        "\n",
        "    cv_score = cross_val_score(model, X_select,Y, cv=10,error_score='raise')\n",
        "\n",
        "    mean_accuracy = sum(cv_score)/len(cv_score)\n",
        "\n",
        "    mean_accuracy = mean_accuracy*100\n",
        "\n",
        "    mean_accuracy = round(mean_accuracy, 2)\n",
        "\n",
        "    print('Cross Validation accuracies for ', model, '=  ', cv_score)\n",
        "    print('Accuracy % of the ', model, mean_accuracy)\n",
        "    print('----------------------------------------------')"
      ]
    },
    {
      "cell_type": "code",
      "source": [
        "compare_models_cross_validation()"
      ],
      "metadata": {
        "colab": {
          "base_uri": "https://localhost:8080/"
        },
        "id": "l30pX4fQYB1-",
        "outputId": "2e27a961-e938-4616-a8aa-4c9d0bd49d41"
      },
      "execution_count": null,
      "outputs": [
        {
          "output_type": "stream",
          "name": "stdout",
          "text": [
            "Cross Validation accuracies for  DecisionTreeClassifier() =   [0.99688196 0.99621381 0.99554566 0.99710468 0.99576837 0.99532294\n",
            " 0.99554566 0.99688196 0.9973268  0.99688127]\n",
            "Accuracy % of the  DecisionTreeClassifier() 99.63\n",
            "----------------------------------------------\n",
            "Cross Validation accuracies for  SVC(kernel='linear') =   [0.99198218 0.9922049  0.99331849 0.99420935 0.99153675 0.99265033\n",
            " 0.99242762 0.99265033 0.99353976 0.99309423]\n",
            "Accuracy % of the  SVC(kernel='linear') 99.28\n",
            "----------------------------------------------\n",
            "Cross Validation accuracies for  RandomForestClassifier() =   [0.99710468 0.99821826 0.99710468 0.99888641 0.99821826 0.99799555\n",
            " 0.99732739 0.99777283 0.99844063 0.99777233]\n",
            "Accuracy % of the  RandomForestClassifier() 99.79\n",
            "----------------------------------------------\n",
            "Cross Validation accuracies for  MultinomialNB() =   [0.94454343 0.94966592 0.9467706  0.94654788 0.9454343  0.94164811\n",
            " 0.93942094 0.94610245 0.94609044 0.94831811]\n",
            "Accuracy % of the  MultinomialNB() 94.55\n",
            "----------------------------------------------\n"
          ]
        }
      ]
    },
    {
      "cell_type": "code",
      "source": [
        "DT_accuracy = 99.63\n",
        "SVM_accuracy = 99.28\n",
        "NB_accuracy = 94.55\n",
        "RF_accuracy = 99.79\n",
        "\n",
        "plt.figure(figsize=(5,4))\n",
        "# Create a bar chart\n",
        "algorithms = ['Decision Tree', 'SVM','Naive Bayes','RF']\n",
        "accuracy_scores = [DT_accuracy, SVM_accuracy, NB_accuracy,RF_accuracy]\n",
        "colors = ['green', 'blue', 'yellow','pink']\n",
        "plt.bar(algorithms, accuracy_scores, color=colors)\n",
        "\n",
        "plt.title('Accuracy with cross validation of Fake News Detection And Classification Algorithms')\n",
        "plt.xlabel('Base Classifiers')\n",
        "plt.ylabel('Accuracy(%)')\n",
        "\n",
        "# Add text labels showing the accuracy scores\n",
        "for i, v in enumerate(accuracy_scores):\n",
        "    plt.text(i, v, str(round(v, 3)), ha='center')\n",
        "\n",
        "# Show the chart\n",
        "plt.show()"
      ],
      "metadata": {
        "colab": {
          "base_uri": "https://localhost:8080/",
          "height": 410
        },
        "id": "6a2HjKzlIXEy",
        "outputId": "6c0a3ff0-8554-4050-f2d7-0551e3e120d7"
      },
      "execution_count": null,
      "outputs": [
        {
          "output_type": "display_data",
          "data": {
            "text/plain": [
              "<Figure size 500x400 with 1 Axes>"
            ],
            "image/png": "[encoded data removed]"
          },
          "metadata": {}
        }
      ]
    },
    {
      "cell_type": "markdown",
      "metadata": {
        "id": "AOjCYB9e5QE0"
      },
      "source": [
        "Ensemble Learning"
      ]
    },
    {
      "cell_type": "code",
      "execution_count": null,
      "metadata": {
        "id": "ILFg2dxq8nFN"
      },
      "outputs": [],
      "source": [
        "dt = DecisionTreeClassifier()\n",
        "svm = SVC()\n",
        "nb = MultinomialNB()\n",
        "rf = RandomForestClassifier()"
      ]
    },
    {
      "cell_type": "code",
      "source": [
        "ensemble = VotingClassifier(estimators=[('dt', dt), ('svm', svm), ('nb', nb),('rf', rf)], voting='hard')"
      ],
      "metadata": {
        "id": "p6h2z7VDlruO"
      },
      "execution_count": null,
      "outputs": []
    },
    {
      "cell_type": "code",
      "execution_count": null,
      "metadata": {
        "id": "A7vuqc099Q44",
        "colab": {
          "base_uri": "https://localhost:8080/",
          "height": 109
        },
        "outputId": "6d2f8520-dc0c-49ce-d880-1bee58aeccba"
      },
      "outputs": [
        {
          "output_type": "execute_result",
          "data": {
            "text/plain": [
              "VotingClassifier(estimators=[('dt', DecisionTreeClassifier()), ('svm', SVC()),\n",
              "                             ('nb', MultinomialNB()),\n",
              "                             ('rf', RandomForestClassifier())])"
            ],
            "text/html": [
              "<style>#sk-container-id-7 {color: black;background-color: white;}#sk-container-id-7 pre{padding: 0;}#sk-container-id-7 div.sk-toggleable {background-color: white;}#sk-container-id-7 label.sk-toggleable__label {cursor: pointer;display: block;width: 100%;margin-bottom: 0;padding: 0.3em;box-sizing: border-box;text-align: center;}#sk-container-id-7 label.sk-toggleable__label-arrow:before {content: \"▸\";float: left;margin-right: 0.25em;color: #696969;}#sk-container-id-7 label.sk-toggleable__label-arrow:hover:before {color: black;}#sk-container-id-7 div.sk-estimator:hover label.sk-toggleable__label-arrow:before {color: black;}#sk-container-id-7 div.sk-toggleable__content {max-height: 0;max-width: 0;overflow: hidden;text-align: left;background-color: #f0f8ff;}#sk-container-id-7 div.sk-toggleable__content pre {margin: 0.2em;color: black;border-radius: 0.25em;background-color: #f0f8ff;}#sk-container-id-7 input.sk-toggleable__control:checked~div.sk-toggleable__content {max-height: 200px;max-width: 100%;overflow: auto;}#sk-container-id-7 input.sk-toggleable__control:checked~label.sk-toggleable__label-arrow:before {content: \"▾\";}#sk-container-id-7 div.sk-estimator input.sk-toggleable__control:checked~label.sk-toggleable__label {background-color: #d4ebff;}#sk-container-id-7 div.sk-label input.sk-toggleable__control:checked~label.sk-toggleable__label {background-color: #d4ebff;}#sk-container-id-7 input.sk-hidden--visually {border: 0;clip: rect(1px 1px 1px 1px);clip: rect(1px, 1px, 1px, 1px);height: 1px;margin: -1px;overflow: hidden;padding: 0;position: absolute;width: 1px;}#sk-container-id-7 div.sk-estimator {font-family: monospace;background-color: #f0f8ff;border: 1px dotted black;border-radius: 0.25em;box-sizing: border-box;margin-bottom: 0.5em;}#sk-container-id-7 div.sk-estimator:hover {background-color: #d4ebff;}#sk-container-id-7 div.sk-parallel-item::after {content: \"\";width: 100%;border-bottom: 1px solid gray;flex-grow: 1;}#sk-container-id-7 div.sk-label:hover label.sk-toggleable__label {background-color: #d4ebff;}#sk-container-id-7 div.sk-serial::before {content: \"\";position: absolute;border-left: 1px solid gray;box-sizing: border-box;top: 0;bottom: 0;left: 50%;z-index: 0;}#sk-container-id-7 div.sk-serial {display: flex;flex-direction: column;align-items: center;background-color: white;padding-right: 0.2em;padding-left: 0.2em;position: relative;}#sk-container-id-7 div.sk-item {position: relative;z-index: 1;}#sk-container-id-7 div.sk-parallel {display: flex;align-items: stretch;justify-content: center;background-color: white;position: relative;}#sk-container-id-7 div.sk-item::before, #sk-container-id-7 div.sk-parallel-item::before {content: \"\";position: absolute;border-left: 1px solid gray;box-sizing: border-box;top: 0;bottom: 0;left: 50%;z-index: -1;}#sk-container-id-7 div.sk-parallel-item {display: flex;flex-direction: column;z-index: 1;position: relative;background-color: white;}#sk-container-id-7 div.sk-parallel-item:first-child::after {align-self: flex-end;width: 50%;}#sk-container-id-7 div.sk-parallel-item:last-child::after {align-self: flex-start;width: 50%;}#sk-container-id-7 div.sk-parallel-item:only-child::after {width: 0;}#sk-container-id-7 div.sk-dashed-wrapped {border: 1px dashed gray;margin: 0 0.4em 0.5em 0.4em;box-sizing: border-box;padding-bottom: 0.4em;background-color: white;}#sk-container-id-7 div.sk-label label {font-family: monospace;font-weight: bold;display: inline-block;line-height: 1.2em;}#sk-container-id-7 div.sk-label-container {text-align: center;}#sk-container-id-7 div.sk-container {/* jupyter's `normalize.less` sets `[hidden] { display: none; }` but bootstrap.min.css set `[hidden] { display: none !important; }` so we also need the `!important` here to be able to override the default hidden behavior on the sphinx rendered scikit-learn.org. See: https://github.com/scikit-learn/scikit-learn/issues/21755 */display: inline-block !important;position: relative;}#sk-container-id-7 div.sk-text-repr-fallback {display: none;}</style><div id=\"sk-container-id-7\" class=\"sk-top-container\"><div class=\"sk-text-repr-fallback\"><pre>VotingClassifier(estimators=[(&#x27;dt&#x27;, DecisionTreeClassifier()), (&#x27;svm&#x27;, SVC()),\n",
              "                             (&#x27;nb&#x27;, MultinomialNB()),\n",
              "                             (&#x27;rf&#x27;, RandomForestClassifier())])</pre><b>In a Jupyter environment, please rerun this cell to show the HTML representation or trust the notebook. <br />On GitHub, the HTML representation is unable to render, please try loading this page with nbviewer.org.</b></div><div class=\"sk-container\" hidden><div class=\"sk-item sk-dashed-wrapped\"><div class=\"sk-label-container\"><div class=\"sk-label sk-toggleable\"><input class=\"sk-toggleable__control sk-hidden--visually\" id=\"sk-estimator-id-7\" type=\"checkbox\" ><label for=\"sk-estimator-id-7\" class=\"sk-toggleable__label sk-toggleable__label-arrow\">VotingClassifier</label><div class=\"sk-toggleable__content\"><pre>VotingClassifier(estimators=[(&#x27;dt&#x27;, DecisionTreeClassifier()), (&#x27;svm&#x27;, SVC()),\n",
              "                             (&#x27;nb&#x27;, MultinomialNB()),\n",
              "                             (&#x27;rf&#x27;, RandomForestClassifier())])</pre></div></div></div><div class=\"sk-parallel\"><div class=\"sk-parallel-item\"><div class=\"sk-item\"><div class=\"sk-label-container\"><div class=\"sk-label sk-toggleable\"><label>dt</label></div></div><div class=\"sk-serial\"><div class=\"sk-item\"><div class=\"sk-estimator sk-toggleable\"><input class=\"sk-toggleable__control sk-hidden--visually\" id=\"sk-estimator-id-8\" type=\"checkbox\" ><label for=\"sk-estimator-id-8\" class=\"sk-toggleable__label sk-toggleable__label-arrow\">DecisionTreeClassifier</label><div class=\"sk-toggleable__content\"><pre>DecisionTreeClassifier()</pre></div></div></div></div></div></div><div class=\"sk-parallel-item\"><div class=\"sk-item\"><div class=\"sk-label-container\"><div class=\"sk-label sk-toggleable\"><label>svm</label></div></div><div class=\"sk-serial\"><div class=\"sk-item\"><div class=\"sk-estimator sk-toggleable\"><input class=\"sk-toggleable__control sk-hidden--visually\" id=\"sk-estimator-id-9\" type=\"checkbox\" ><label for=\"sk-estimator-id-9\" class=\"sk-toggleable__label sk-toggleable__label-arrow\">SVC</label><div class=\"sk-toggleable__content\"><pre>SVC()</pre></div></div></div></div></div></div><div class=\"sk-parallel-item\"><div class=\"sk-item\"><div class=\"sk-label-container\"><div class=\"sk-label sk-toggleable\"><label>nb</label></div></div><div class=\"sk-serial\"><div class=\"sk-item\"><div class=\"sk-estimator sk-toggleable\"><input class=\"sk-toggleable__control sk-hidden--visually\" id=\"sk-estimator-id-10\" type=\"checkbox\" ><label for=\"sk-estimator-id-10\" class=\"sk-toggleable__label sk-toggleable__label-arrow\">MultinomialNB</label><div class=\"sk-toggleable__content\"><pre>MultinomialNB()</pre></div></div></div></div></div></div><div class=\"sk-parallel-item\"><div class=\"sk-item\"><div class=\"sk-label-container\"><div class=\"sk-label sk-toggleable\"><label>rf</label></div></div><div class=\"sk-serial\"><div class=\"sk-item\"><div class=\"sk-estimator sk-toggleable\"><input class=\"sk-toggleable__control sk-hidden--visually\" id=\"sk-estimator-id-11\" type=\"checkbox\" ><label for=\"sk-estimator-id-11\" class=\"sk-toggleable__label sk-toggleable__label-arrow\">RandomForestClassifier</label><div class=\"sk-toggleable__content\"><pre>RandomForestClassifier()</pre></div></div></div></div></div></div></div></div></div></div>"
            ]
          },
          "metadata": {},
          "execution_count": 91
        }
      ],
      "source": [
        "ensemble.fit(X_train, Y_train)"
      ]
    },
    {
      "cell_type": "code",
      "execution_count": null,
      "metadata": {
        "id": "r5lC-k6e9YiQ"
      },
      "outputs": [],
      "source": [
        "y_pred = ensemble.predict(X_test)"
      ]
    },
    {
      "cell_type": "code",
      "execution_count": null,
      "metadata": {
        "id": "qDZE05N39c_u",
        "colab": {
          "base_uri": "https://localhost:8080/"
        },
        "outputId": "a6041b78-6895-4023-80c1-4f1330405f51"
      },
      "outputs": [
        {
          "output_type": "stream",
          "name": "stdout",
          "text": [
            "Accuracy of ensemble model: 99.64%\n"
          ]
        }
      ],
      "source": [
        "accuracy = accuracy_score(Y_test, y_pred)\n",
        "\n",
        "print('Accuracy of ensemble model: {:.2f}%'.format(accuracy*100))"
      ]
    },
    {
      "cell_type": "code",
      "source": [
        "DT_accuracy = 0.996\n",
        "SVM_accuracy = 0.989\n",
        "NB_accuracy = 0.936\n",
        "RF_accuracy = 0.989\n",
        "\n",
        "plt.figure(figsize=(5,4))\n",
        "\n",
        "# Create a bar chart\n",
        "algorithms = ['Decision Tree', 'SVM','Naive Bayes','RF']\n",
        "accuracy_scores = [DT_accuracy, SVM_accuracy, NB_accuracy,RF_accuracy]\n",
        "colors = ['green', 'blue', 'yellow','pink']\n",
        "plt.bar(algorithms, accuracy_scores, color=colors)\n",
        "\n",
        "plt.title('Accuracy of Fake News Detection And Classification Algorithms')\n",
        "plt.xlabel('Base Classifiers')\n",
        "plt.ylabel('Accuracy(%)')\n",
        "\n",
        "# Add text labels showing the accuracy scores\n",
        "for i, v in enumerate(accuracy_scores):\n",
        "    plt.text(i, v, str(round(v, 6)), ha='center')\n",
        "\n",
        "# Show the chart\n",
        "plt.show()"
      ],
      "metadata": {
        "colab": {
          "base_uri": "https://localhost:8080/",
          "height": 410
        },
        "id": "75bXslDVI1ox",
        "outputId": "b6695d07-fb8e-435a-921f-c5202207b1a4"
      },
      "execution_count": null,
      "outputs": [
        {
          "output_type": "display_data",
          "data": {
            "text/plain": [
              "<Figure size 500x400 with 1 Axes>"
            ],
            "image/png": "[encoded data removed]"
          },
          "metadata": {}
        }
      ]
    }
  ],
  "metadata": {
    "colab": {
      "provenance": [],
      "include_colab_link": true
    },
    "kernelspec": {
      "display_name": "Python 3",
      "name": "python3"
    },
    "language_info": {
      "name": "python"
    }
  },
  "nbformat": 4,
  "nbformat_minor": 0
}